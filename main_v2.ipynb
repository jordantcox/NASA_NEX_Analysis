{
 "cells": [
  {
   "cell_type": "code",
   "execution_count": 1,
   "metadata": {},
   "outputs": [],
   "source": [
    "# Importing all dependencies\n",
    "from dependencies import *\n",
    "from run_all import *\n",
    "from analyze_model_v2 import analyze_model\n",
    "from graphing_v2 import *\n",
    "\n",
    "bool_load_all = False\n",
    "coord = (39.74256572165156, -105.16857014167543)\n",
    "#coord_golden = (39.74256572165156, -105.16857014167543)\n",
    "coord_langley = (37.08920266916765, -76.37973529040504)\n",
    "\n",
    "coord = coord_langley\n",
    "\n",
    "# Loading the model from raw files or loading them from dataframes\n",
    "if bool_load_all:    \n",
    "    model_list = loading_raw_files(coord)\n",
    "else:\n",
    "    model_list = load_dataframes()"
   ]
  },
  {
   "cell_type": "code",
   "execution_count": 2,
   "metadata": {},
   "outputs": [
    {
     "name": "stdout",
     "output_type": "stream",
     "text": [
      "Analysis Complete\n",
      "Graphing Complete\n",
      "Analysis Complete\n",
      "Graphing Complete\n",
      "Analysis Complete\n",
      "Graphing Complete\n",
      "Analysis Complete\n",
      "Graphing Complete\n",
      "Analysis Complete\n",
      "Graphing Complete\n",
      "Analysis Complete\n",
      "Graphing Complete\n",
      "Analysis Complete\n",
      "Graphing Complete\n",
      "Analysis Complete\n",
      "Graphing Complete\n",
      "Analysis Complete\n",
      "Graphing Complete\n",
      "Analysis Complete\n",
      "Graphing Complete\n",
      "Analysis Complete\n",
      "Graphing Complete\n",
      "Analysis Complete\n",
      "Graphing Complete\n",
      "Analysis Complete\n",
      "Graphing Complete\n",
      "Analysis Complete\n",
      "Graphing Complete\n",
      "Analysis Complete\n",
      "Graphing Complete\n",
      "Analysis Complete\n",
      "Graphing Complete\n",
      "Analysis Complete\n",
      "Graphing Complete\n",
      "Analysis Complete\n",
      "Graphing Complete\n",
      "Analysis Complete\n",
      "Graphing Complete\n",
      "Analysis Complete\n",
      "Graphing Complete\n",
      "Analysis Complete\n",
      "Graphing Complete\n",
      "Analysis Complete\n",
      "Graphing Complete\n",
      "Analysis Complete\n",
      "Graphing Complete\n",
      "Analysis Complete\n",
      "Graphing Complete\n",
      "Analysis Complete\n",
      "Graphing Complete\n",
      "Analysis Complete\n",
      "Graphing Complete\n",
      "Analysis Complete\n",
      "Graphing Complete\n",
      "Analysis Complete\n",
      "Graphing Complete\n",
      "Analysis Complete\n",
      "Graphing Complete\n",
      "Analysis Complete\n",
      "Graphing Complete\n",
      "Analysis Complete\n",
      "Graphing Complete\n",
      "Analysis Complete\n",
      "Graphing Complete\n",
      "Analysis Complete\n",
      "Graphing Complete\n",
      "Analysis Complete\n",
      "Graphing Complete\n",
      "Analysis Complete\n",
      "Graphing Complete\n",
      "Analysis Complete\n",
      "Graphing Complete\n",
      "Analysis Complete\n",
      "Graphing Complete\n",
      "Analysis Complete\n",
      "Graphing Complete\n",
      "Analysis Complete\n",
      "Graphing Complete\n",
      "Analysis Complete\n",
      "Graphing Complete\n",
      "Analysis Complete\n",
      "Graphing Complete\n",
      "Analysis Complete\n",
      "Graphing Complete\n",
      "Analysis Complete\n",
      "Graphing Complete\n",
      "Analysis Complete\n",
      "Graphing Complete\n",
      "Analysis Complete\n",
      "Graphing Complete\n",
      "Analysis Complete\n",
      "Graphing Complete\n",
      "Analysis Complete\n",
      "Graphing Complete\n",
      "Analysis Complete\n",
      "Graphing Complete\n",
      "Analysis Complete\n",
      "Graphing Complete\n",
      "Analysis Complete\n",
      "Graphing Complete\n"
     ]
    }
   ],
   "source": [
    "for model in model_list:\n",
    "    try:\n",
    "        analyze_model(model)\n",
    "        path = 'output_data/'\n",
    "        path_decade = 'output_data_decade/'\n",
    "    #model.df_monthly.to_excel(path+model.model_name+'_'+model.experiment_name+'_monthly_values.xlsx')\n",
    "        model.df_annual.to_excel(path+model.model_name+'_'+model.experiment_name+'_annual_values.xlsx')\n",
    "        model.df_decade.to_excel(path_decade+model.model_name+'_'+model.experiment_name+'_decade_values.xlsx')\n",
    "    #model.df_decade.to_excel(path+model.model_name+'_'+model.experiment_name+'_decade_values.xlsx')\n",
    "    except:\n",
    "        continue\n",
    "\n",
    "\n",
    "    # Graphing the data\n",
    "    variable_list = model.df_decade.columns\n",
    "    for variable in variable_list:\n",
    "        if 'Days' in variable:\n",
    "            unit = 'Days per Year'\n",
    "        elif 'Frequency' in variable:\n",
    "            unit = 'Average Occurrences per Year'\n",
    "        elif 'Duration' in variable:\n",
    "            unit = 'Days'\n",
    "        elif ('temperature' in variable) or ('Temperature' in variable):\n",
    "            unit = 'Temperature (°C)'\n",
    "        elif ('precipitation' in variable) or ('Precipitation' in variable):\n",
    "            unit = 'Precipitation (inches)'\n",
    "        else:\n",
    "            unit = 'Not Assigned'\n",
    "        graph_write_decade_variable(model, variable, unit)    \n",
    "    print('Graphing Complete')\n",
    "\n"
   ]
  },
  {
   "cell_type": "code",
   "execution_count": 3,
   "metadata": {},
   "outputs": [
    {
     "data": {
      "text/html": [
       "<div>\n",
       "<style scoped>\n",
       "    .dataframe tbody tr th:only-of-type {\n",
       "        vertical-align: middle;\n",
       "    }\n",
       "\n",
       "    .dataframe tbody tr th {\n",
       "        vertical-align: top;\n",
       "    }\n",
       "\n",
       "    .dataframe thead th {\n",
       "        text-align: right;\n",
       "    }\n",
       "</style>\n",
       "<table border=\"1\" class=\"dataframe\">\n",
       "  <thead>\n",
       "    <tr style=\"text-align: right;\">\n",
       "      <th></th>\n",
       "      <th>hurs</th>\n",
       "      <th>huss</th>\n",
       "      <th>rlds</th>\n",
       "      <th>rsds</th>\n",
       "      <th>pr</th>\n",
       "      <th>sfcWind</th>\n",
       "      <th>tas</th>\n",
       "      <th>tasmax</th>\n",
       "      <th>tasmin</th>\n",
       "      <th>TXx</th>\n",
       "      <th>TNx</th>\n",
       "      <th>TXn</th>\n",
       "      <th>TNn</th>\n",
       "      <th>DTR</th>\n",
       "      <th>RX1day</th>\n",
       "      <th>RX5day</th>\n",
       "    </tr>\n",
       "  </thead>\n",
       "  <tbody>\n",
       "    <tr>\n",
       "      <th>2015-01-31 12:00:00</th>\n",
       "      <td>73.838647</td>\n",
       "      <td>NaN</td>\n",
       "      <td>NaN</td>\n",
       "      <td>NaN</td>\n",
       "      <td>0.000000</td>\n",
       "      <td>4.197701</td>\n",
       "      <td>-12.286962</td>\n",
       "      <td>-0.584947</td>\n",
       "      <td>-23.988983</td>\n",
       "      <td>11.590668</td>\n",
       "      <td>-11.941254</td>\n",
       "      <td>-7.558136</td>\n",
       "      <td>-31.652695</td>\n",
       "      <td>23.427053</td>\n",
       "      <td>0.000000</td>\n",
       "      <td>0.000000</td>\n",
       "    </tr>\n",
       "    <tr>\n",
       "      <th>2015-02-28 12:00:00</th>\n",
       "      <td>62.294267</td>\n",
       "      <td>NaN</td>\n",
       "      <td>NaN</td>\n",
       "      <td>NaN</td>\n",
       "      <td>1.291093</td>\n",
       "      <td>4.640519</td>\n",
       "      <td>-6.933827</td>\n",
       "      <td>4.300878</td>\n",
       "      <td>-18.168527</td>\n",
       "      <td>20.055267</td>\n",
       "      <td>-1.906250</td>\n",
       "      <td>-2.518646</td>\n",
       "      <td>-26.040390</td>\n",
       "      <td>22.504673</td>\n",
       "      <td>0.670327</td>\n",
       "      <td>0.682330</td>\n",
       "    </tr>\n",
       "    <tr>\n",
       "      <th>2015-03-31 12:00:00</th>\n",
       "      <td>40.995905</td>\n",
       "      <td>NaN</td>\n",
       "      <td>NaN</td>\n",
       "      <td>NaN</td>\n",
       "      <td>8.645945</td>\n",
       "      <td>5.155489</td>\n",
       "      <td>4.481198</td>\n",
       "      <td>16.162367</td>\n",
       "      <td>-7.199961</td>\n",
       "      <td>24.925507</td>\n",
       "      <td>1.559998</td>\n",
       "      <td>4.796692</td>\n",
       "      <td>-18.563126</td>\n",
       "      <td>23.362373</td>\n",
       "      <td>5.072156</td>\n",
       "      <td>8.453205</td>\n",
       "    </tr>\n",
       "    <tr>\n",
       "      <th>2015-04-30 12:00:00</th>\n",
       "      <td>50.759698</td>\n",
       "      <td>NaN</td>\n",
       "      <td>NaN</td>\n",
       "      <td>NaN</td>\n",
       "      <td>42.457000</td>\n",
       "      <td>4.691003</td>\n",
       "      <td>10.259230</td>\n",
       "      <td>20.826284</td>\n",
       "      <td>-0.307824</td>\n",
       "      <td>30.174194</td>\n",
       "      <td>10.600372</td>\n",
       "      <td>7.714874</td>\n",
       "      <td>-14.954559</td>\n",
       "      <td>21.208565</td>\n",
       "      <td>11.775623</td>\n",
       "      <td>21.982382</td>\n",
       "    </tr>\n",
       "    <tr>\n",
       "      <th>2015-05-31 12:00:00</th>\n",
       "      <td>54.285343</td>\n",
       "      <td>NaN</td>\n",
       "      <td>NaN</td>\n",
       "      <td>NaN</td>\n",
       "      <td>49.270722</td>\n",
       "      <td>4.008785</td>\n",
       "      <td>13.873670</td>\n",
       "      <td>23.614920</td>\n",
       "      <td>4.132419</td>\n",
       "      <td>30.852509</td>\n",
       "      <td>12.253906</td>\n",
       "      <td>12.242523</td>\n",
       "      <td>-6.725769</td>\n",
       "      <td>19.485838</td>\n",
       "      <td>8.970915</td>\n",
       "      <td>24.133716</td>\n",
       "    </tr>\n",
       "    <tr>\n",
       "      <th>...</th>\n",
       "      <td>...</td>\n",
       "      <td>...</td>\n",
       "      <td>...</td>\n",
       "      <td>...</td>\n",
       "      <td>...</td>\n",
       "      <td>...</td>\n",
       "      <td>...</td>\n",
       "      <td>...</td>\n",
       "      <td>...</td>\n",
       "      <td>...</td>\n",
       "      <td>...</td>\n",
       "      <td>...</td>\n",
       "      <td>...</td>\n",
       "      <td>...</td>\n",
       "      <td>...</td>\n",
       "      <td>...</td>\n",
       "    </tr>\n",
       "    <tr>\n",
       "      <th>2099-08-31 12:00:00</th>\n",
       "      <td>54.988016</td>\n",
       "      <td>NaN</td>\n",
       "      <td>NaN</td>\n",
       "      <td>NaN</td>\n",
       "      <td>24.536843</td>\n",
       "      <td>3.988774</td>\n",
       "      <td>19.312472</td>\n",
       "      <td>28.742103</td>\n",
       "      <td>9.882839</td>\n",
       "      <td>38.559204</td>\n",
       "      <td>17.378662</td>\n",
       "      <td>19.891388</td>\n",
       "      <td>1.644196</td>\n",
       "      <td>18.936861</td>\n",
       "      <td>13.109181</td>\n",
       "      <td>17.124267</td>\n",
       "    </tr>\n",
       "    <tr>\n",
       "      <th>2099-09-30 12:00:00</th>\n",
       "      <td>53.022689</td>\n",
       "      <td>NaN</td>\n",
       "      <td>NaN</td>\n",
       "      <td>NaN</td>\n",
       "      <td>18.072284</td>\n",
       "      <td>3.303956</td>\n",
       "      <td>13.115603</td>\n",
       "      <td>23.088623</td>\n",
       "      <td>3.142575</td>\n",
       "      <td>30.345581</td>\n",
       "      <td>11.168640</td>\n",
       "      <td>9.891785</td>\n",
       "      <td>-10.579193</td>\n",
       "      <td>19.876447</td>\n",
       "      <td>5.278475</td>\n",
       "      <td>8.337817</td>\n",
       "    </tr>\n",
       "    <tr>\n",
       "      <th>2099-10-31 12:00:00</th>\n",
       "      <td>50.225806</td>\n",
       "      <td>NaN</td>\n",
       "      <td>NaN</td>\n",
       "      <td>NaN</td>\n",
       "      <td>0.000000</td>\n",
       "      <td>3.978889</td>\n",
       "      <td>2.274579</td>\n",
       "      <td>12.580429</td>\n",
       "      <td>-8.031269</td>\n",
       "      <td>19.612915</td>\n",
       "      <td>-0.884064</td>\n",
       "      <td>4.021301</td>\n",
       "      <td>-17.887024</td>\n",
       "      <td>20.607201</td>\n",
       "      <td>0.000000</td>\n",
       "      <td>0.000000</td>\n",
       "    </tr>\n",
       "    <tr>\n",
       "      <th>2099-11-30 12:00:00</th>\n",
       "      <td>61.945111</td>\n",
       "      <td>NaN</td>\n",
       "      <td>NaN</td>\n",
       "      <td>NaN</td>\n",
       "      <td>0.000000</td>\n",
       "      <td>4.312458</td>\n",
       "      <td>-0.949884</td>\n",
       "      <td>10.957847</td>\n",
       "      <td>-12.857610</td>\n",
       "      <td>19.551453</td>\n",
       "      <td>-4.238831</td>\n",
       "      <td>3.208191</td>\n",
       "      <td>-19.575714</td>\n",
       "      <td>23.781071</td>\n",
       "      <td>0.000000</td>\n",
       "      <td>0.000000</td>\n",
       "    </tr>\n",
       "    <tr>\n",
       "      <th>2099-12-31 12:00:00</th>\n",
       "      <td>NaN</td>\n",
       "      <td>NaN</td>\n",
       "      <td>NaN</td>\n",
       "      <td>NaN</td>\n",
       "      <td>0.000000</td>\n",
       "      <td>NaN</td>\n",
       "      <td>NaN</td>\n",
       "      <td>NaN</td>\n",
       "      <td>NaN</td>\n",
       "      <td>2.462189</td>\n",
       "      <td>-22.595963</td>\n",
       "      <td>2.462189</td>\n",
       "      <td>-22.595963</td>\n",
       "      <td>25.058151</td>\n",
       "      <td>0.000000</td>\n",
       "      <td>0.000000</td>\n",
       "    </tr>\n",
       "  </tbody>\n",
       "</table>\n",
       "<p>1020 rows × 16 columns</p>\n",
       "</div>"
      ],
      "text/plain": [
       "                          hurs  huss  rlds  rsds         pr   sfcWind  \\\n",
       "2015-01-31 12:00:00  73.838647   NaN   NaN   NaN   0.000000  4.197701   \n",
       "2015-02-28 12:00:00  62.294267   NaN   NaN   NaN   1.291093  4.640519   \n",
       "2015-03-31 12:00:00  40.995905   NaN   NaN   NaN   8.645945  5.155489   \n",
       "2015-04-30 12:00:00  50.759698   NaN   NaN   NaN  42.457000  4.691003   \n",
       "2015-05-31 12:00:00  54.285343   NaN   NaN   NaN  49.270722  4.008785   \n",
       "...                        ...   ...   ...   ...        ...       ...   \n",
       "2099-08-31 12:00:00  54.988016   NaN   NaN   NaN  24.536843  3.988774   \n",
       "2099-09-30 12:00:00  53.022689   NaN   NaN   NaN  18.072284  3.303956   \n",
       "2099-10-31 12:00:00  50.225806   NaN   NaN   NaN   0.000000  3.978889   \n",
       "2099-11-30 12:00:00  61.945111   NaN   NaN   NaN   0.000000  4.312458   \n",
       "2099-12-31 12:00:00        NaN   NaN   NaN   NaN   0.000000       NaN   \n",
       "\n",
       "                           tas     tasmax     tasmin        TXx        TNx  \\\n",
       "2015-01-31 12:00:00 -12.286962  -0.584947 -23.988983  11.590668 -11.941254   \n",
       "2015-02-28 12:00:00  -6.933827   4.300878 -18.168527  20.055267  -1.906250   \n",
       "2015-03-31 12:00:00   4.481198  16.162367  -7.199961  24.925507   1.559998   \n",
       "2015-04-30 12:00:00  10.259230  20.826284  -0.307824  30.174194  10.600372   \n",
       "2015-05-31 12:00:00  13.873670  23.614920   4.132419  30.852509  12.253906   \n",
       "...                        ...        ...        ...        ...        ...   \n",
       "2099-08-31 12:00:00  19.312472  28.742103   9.882839  38.559204  17.378662   \n",
       "2099-09-30 12:00:00  13.115603  23.088623   3.142575  30.345581  11.168640   \n",
       "2099-10-31 12:00:00   2.274579  12.580429  -8.031269  19.612915  -0.884064   \n",
       "2099-11-30 12:00:00  -0.949884  10.957847 -12.857610  19.551453  -4.238831   \n",
       "2099-12-31 12:00:00        NaN        NaN        NaN   2.462189 -22.595963   \n",
       "\n",
       "                           TXn        TNn        DTR     RX1day     RX5day  \n",
       "2015-01-31 12:00:00  -7.558136 -31.652695  23.427053   0.000000   0.000000  \n",
       "2015-02-28 12:00:00  -2.518646 -26.040390  22.504673   0.670327   0.682330  \n",
       "2015-03-31 12:00:00   4.796692 -18.563126  23.362373   5.072156   8.453205  \n",
       "2015-04-30 12:00:00   7.714874 -14.954559  21.208565  11.775623  21.982382  \n",
       "2015-05-31 12:00:00  12.242523  -6.725769  19.485838   8.970915  24.133716  \n",
       "...                        ...        ...        ...        ...        ...  \n",
       "2099-08-31 12:00:00  19.891388   1.644196  18.936861  13.109181  17.124267  \n",
       "2099-09-30 12:00:00   9.891785 -10.579193  19.876447   5.278475   8.337817  \n",
       "2099-10-31 12:00:00   4.021301 -17.887024  20.607201   0.000000   0.000000  \n",
       "2099-11-30 12:00:00   3.208191 -19.575714  23.781071   0.000000   0.000000  \n",
       "2099-12-31 12:00:00   2.462189 -22.595963  25.058151   0.000000   0.000000  \n",
       "\n",
       "[1020 rows x 16 columns]"
      ]
     },
     "execution_count": 3,
     "metadata": {},
     "output_type": "execute_result"
    }
   ],
   "source": [
    "model_list[0].df_monthly"
   ]
  },
  {
   "cell_type": "code",
   "execution_count": 4,
   "metadata": {},
   "outputs": [
    {
     "data": {
      "application/vnd.plotly.v1+json": {
       "config": {
        "plotlyServerURL": "https://plot.ly"
       },
       "data": [
        {
         "name": "2020",
         "type": "scatter",
         "x": [
          1,
          2,
          3,
          4,
          5,
          6,
          7,
          8,
          9,
          10,
          11,
          12
         ],
         "y": [
          6.481584821428571,
          9.734187685210129,
          18.223371834590516,
          19.741062558930494,
          23.559059932314117,
          26.198053820379847,
          22.698067500673492,
          18.699616530845905,
          15.460044071592133,
          10.19116947568696,
          4.793828503838901,
          1.102081298828125
         ]
        },
        {
         "name": "2050",
         "type": "scatter",
         "x": [
          1,
          2,
          3,
          4,
          5,
          6,
          7,
          8,
          9,
          10,
          11,
          12
         ],
         "y": [
          8.350246034819504,
          13.823282176050647,
          16.657829547750538,
          20.865208066742994,
          25.074175604458514,
          28.10365032327586,
          27.304097142712823,
          20.54760426488416,
          16.703636432516163,
          9.538738382273706,
          7.514822071996228,
          7.943408834523168
         ]
        }
       ],
       "layout": {
        "template": {
         "data": {
          "bar": [
           {
            "error_x": {
             "color": "rgb(36,36,36)"
            },
            "error_y": {
             "color": "rgb(36,36,36)"
            },
            "marker": {
             "line": {
              "color": "white",
              "width": 0.5
             },
             "pattern": {
              "fillmode": "overlay",
              "size": 10,
              "solidity": 0.2
             }
            },
            "type": "bar"
           }
          ],
          "barpolar": [
           {
            "marker": {
             "line": {
              "color": "white",
              "width": 0.5
             },
             "pattern": {
              "fillmode": "overlay",
              "size": 10,
              "solidity": 0.2
             }
            },
            "type": "barpolar"
           }
          ],
          "carpet": [
           {
            "aaxis": {
             "endlinecolor": "rgb(36,36,36)",
             "gridcolor": "white",
             "linecolor": "white",
             "minorgridcolor": "white",
             "startlinecolor": "rgb(36,36,36)"
            },
            "baxis": {
             "endlinecolor": "rgb(36,36,36)",
             "gridcolor": "white",
             "linecolor": "white",
             "minorgridcolor": "white",
             "startlinecolor": "rgb(36,36,36)"
            },
            "type": "carpet"
           }
          ],
          "choropleth": [
           {
            "colorbar": {
             "outlinewidth": 1,
             "tickcolor": "rgb(36,36,36)",
             "ticks": "outside"
            },
            "type": "choropleth"
           }
          ],
          "contour": [
           {
            "colorbar": {
             "outlinewidth": 1,
             "tickcolor": "rgb(36,36,36)",
             "ticks": "outside"
            },
            "colorscale": [
             [
              0,
              "#440154"
             ],
             [
              0.1111111111111111,
              "#482878"
             ],
             [
              0.2222222222222222,
              "#3e4989"
             ],
             [
              0.3333333333333333,
              "#31688e"
             ],
             [
              0.4444444444444444,
              "#26828e"
             ],
             [
              0.5555555555555556,
              "#1f9e89"
             ],
             [
              0.6666666666666666,
              "#35b779"
             ],
             [
              0.7777777777777778,
              "#6ece58"
             ],
             [
              0.8888888888888888,
              "#b5de2b"
             ],
             [
              1,
              "#fde725"
             ]
            ],
            "type": "contour"
           }
          ],
          "contourcarpet": [
           {
            "colorbar": {
             "outlinewidth": 1,
             "tickcolor": "rgb(36,36,36)",
             "ticks": "outside"
            },
            "type": "contourcarpet"
           }
          ],
          "heatmap": [
           {
            "colorbar": {
             "outlinewidth": 1,
             "tickcolor": "rgb(36,36,36)",
             "ticks": "outside"
            },
            "colorscale": [
             [
              0,
              "#440154"
             ],
             [
              0.1111111111111111,
              "#482878"
             ],
             [
              0.2222222222222222,
              "#3e4989"
             ],
             [
              0.3333333333333333,
              "#31688e"
             ],
             [
              0.4444444444444444,
              "#26828e"
             ],
             [
              0.5555555555555556,
              "#1f9e89"
             ],
             [
              0.6666666666666666,
              "#35b779"
             ],
             [
              0.7777777777777778,
              "#6ece58"
             ],
             [
              0.8888888888888888,
              "#b5de2b"
             ],
             [
              1,
              "#fde725"
             ]
            ],
            "type": "heatmap"
           }
          ],
          "heatmapgl": [
           {
            "colorbar": {
             "outlinewidth": 1,
             "tickcolor": "rgb(36,36,36)",
             "ticks": "outside"
            },
            "colorscale": [
             [
              0,
              "#440154"
             ],
             [
              0.1111111111111111,
              "#482878"
             ],
             [
              0.2222222222222222,
              "#3e4989"
             ],
             [
              0.3333333333333333,
              "#31688e"
             ],
             [
              0.4444444444444444,
              "#26828e"
             ],
             [
              0.5555555555555556,
              "#1f9e89"
             ],
             [
              0.6666666666666666,
              "#35b779"
             ],
             [
              0.7777777777777778,
              "#6ece58"
             ],
             [
              0.8888888888888888,
              "#b5de2b"
             ],
             [
              1,
              "#fde725"
             ]
            ],
            "type": "heatmapgl"
           }
          ],
          "histogram": [
           {
            "marker": {
             "line": {
              "color": "white",
              "width": 0.6
             }
            },
            "type": "histogram"
           }
          ],
          "histogram2d": [
           {
            "colorbar": {
             "outlinewidth": 1,
             "tickcolor": "rgb(36,36,36)",
             "ticks": "outside"
            },
            "colorscale": [
             [
              0,
              "#440154"
             ],
             [
              0.1111111111111111,
              "#482878"
             ],
             [
              0.2222222222222222,
              "#3e4989"
             ],
             [
              0.3333333333333333,
              "#31688e"
             ],
             [
              0.4444444444444444,
              "#26828e"
             ],
             [
              0.5555555555555556,
              "#1f9e89"
             ],
             [
              0.6666666666666666,
              "#35b779"
             ],
             [
              0.7777777777777778,
              "#6ece58"
             ],
             [
              0.8888888888888888,
              "#b5de2b"
             ],
             [
              1,
              "#fde725"
             ]
            ],
            "type": "histogram2d"
           }
          ],
          "histogram2dcontour": [
           {
            "colorbar": {
             "outlinewidth": 1,
             "tickcolor": "rgb(36,36,36)",
             "ticks": "outside"
            },
            "colorscale": [
             [
              0,
              "#440154"
             ],
             [
              0.1111111111111111,
              "#482878"
             ],
             [
              0.2222222222222222,
              "#3e4989"
             ],
             [
              0.3333333333333333,
              "#31688e"
             ],
             [
              0.4444444444444444,
              "#26828e"
             ],
             [
              0.5555555555555556,
              "#1f9e89"
             ],
             [
              0.6666666666666666,
              "#35b779"
             ],
             [
              0.7777777777777778,
              "#6ece58"
             ],
             [
              0.8888888888888888,
              "#b5de2b"
             ],
             [
              1,
              "#fde725"
             ]
            ],
            "type": "histogram2dcontour"
           }
          ],
          "mesh3d": [
           {
            "colorbar": {
             "outlinewidth": 1,
             "tickcolor": "rgb(36,36,36)",
             "ticks": "outside"
            },
            "type": "mesh3d"
           }
          ],
          "parcoords": [
           {
            "line": {
             "colorbar": {
              "outlinewidth": 1,
              "tickcolor": "rgb(36,36,36)",
              "ticks": "outside"
             }
            },
            "type": "parcoords"
           }
          ],
          "pie": [
           {
            "automargin": true,
            "type": "pie"
           }
          ],
          "scatter": [
           {
            "fillpattern": {
             "fillmode": "overlay",
             "size": 10,
             "solidity": 0.2
            },
            "type": "scatter"
           }
          ],
          "scatter3d": [
           {
            "line": {
             "colorbar": {
              "outlinewidth": 1,
              "tickcolor": "rgb(36,36,36)",
              "ticks": "outside"
             }
            },
            "marker": {
             "colorbar": {
              "outlinewidth": 1,
              "tickcolor": "rgb(36,36,36)",
              "ticks": "outside"
             }
            },
            "type": "scatter3d"
           }
          ],
          "scattercarpet": [
           {
            "marker": {
             "colorbar": {
              "outlinewidth": 1,
              "tickcolor": "rgb(36,36,36)",
              "ticks": "outside"
             }
            },
            "type": "scattercarpet"
           }
          ],
          "scattergeo": [
           {
            "marker": {
             "colorbar": {
              "outlinewidth": 1,
              "tickcolor": "rgb(36,36,36)",
              "ticks": "outside"
             }
            },
            "type": "scattergeo"
           }
          ],
          "scattergl": [
           {
            "marker": {
             "colorbar": {
              "outlinewidth": 1,
              "tickcolor": "rgb(36,36,36)",
              "ticks": "outside"
             }
            },
            "type": "scattergl"
           }
          ],
          "scattermapbox": [
           {
            "marker": {
             "colorbar": {
              "outlinewidth": 1,
              "tickcolor": "rgb(36,36,36)",
              "ticks": "outside"
             }
            },
            "type": "scattermapbox"
           }
          ],
          "scatterpolar": [
           {
            "marker": {
             "colorbar": {
              "outlinewidth": 1,
              "tickcolor": "rgb(36,36,36)",
              "ticks": "outside"
             }
            },
            "type": "scatterpolar"
           }
          ],
          "scatterpolargl": [
           {
            "marker": {
             "colorbar": {
              "outlinewidth": 1,
              "tickcolor": "rgb(36,36,36)",
              "ticks": "outside"
             }
            },
            "type": "scatterpolargl"
           }
          ],
          "scatterternary": [
           {
            "marker": {
             "colorbar": {
              "outlinewidth": 1,
              "tickcolor": "rgb(36,36,36)",
              "ticks": "outside"
             }
            },
            "type": "scatterternary"
           }
          ],
          "surface": [
           {
            "colorbar": {
             "outlinewidth": 1,
             "tickcolor": "rgb(36,36,36)",
             "ticks": "outside"
            },
            "colorscale": [
             [
              0,
              "#440154"
             ],
             [
              0.1111111111111111,
              "#482878"
             ],
             [
              0.2222222222222222,
              "#3e4989"
             ],
             [
              0.3333333333333333,
              "#31688e"
             ],
             [
              0.4444444444444444,
              "#26828e"
             ],
             [
              0.5555555555555556,
              "#1f9e89"
             ],
             [
              0.6666666666666666,
              "#35b779"
             ],
             [
              0.7777777777777778,
              "#6ece58"
             ],
             [
              0.8888888888888888,
              "#b5de2b"
             ],
             [
              1,
              "#fde725"
             ]
            ],
            "type": "surface"
           }
          ],
          "table": [
           {
            "cells": {
             "fill": {
              "color": "rgb(237,237,237)"
             },
             "line": {
              "color": "white"
             }
            },
            "header": {
             "fill": {
              "color": "rgb(217,217,217)"
             },
             "line": {
              "color": "white"
             }
            },
            "type": "table"
           }
          ]
         },
         "layout": {
          "annotationdefaults": {
           "arrowhead": 0,
           "arrowwidth": 1
          },
          "autotypenumbers": "strict",
          "coloraxis": {
           "colorbar": {
            "outlinewidth": 1,
            "tickcolor": "rgb(36,36,36)",
            "ticks": "outside"
           }
          },
          "colorscale": {
           "diverging": [
            [
             0,
             "rgb(103,0,31)"
            ],
            [
             0.1,
             "rgb(178,24,43)"
            ],
            [
             0.2,
             "rgb(214,96,77)"
            ],
            [
             0.3,
             "rgb(244,165,130)"
            ],
            [
             0.4,
             "rgb(253,219,199)"
            ],
            [
             0.5,
             "rgb(247,247,247)"
            ],
            [
             0.6,
             "rgb(209,229,240)"
            ],
            [
             0.7,
             "rgb(146,197,222)"
            ],
            [
             0.8,
             "rgb(67,147,195)"
            ],
            [
             0.9,
             "rgb(33,102,172)"
            ],
            [
             1,
             "rgb(5,48,97)"
            ]
           ],
           "sequential": [
            [
             0,
             "#440154"
            ],
            [
             0.1111111111111111,
             "#482878"
            ],
            [
             0.2222222222222222,
             "#3e4989"
            ],
            [
             0.3333333333333333,
             "#31688e"
            ],
            [
             0.4444444444444444,
             "#26828e"
            ],
            [
             0.5555555555555556,
             "#1f9e89"
            ],
            [
             0.6666666666666666,
             "#35b779"
            ],
            [
             0.7777777777777778,
             "#6ece58"
            ],
            [
             0.8888888888888888,
             "#b5de2b"
            ],
            [
             1,
             "#fde725"
            ]
           ],
           "sequentialminus": [
            [
             0,
             "#440154"
            ],
            [
             0.1111111111111111,
             "#482878"
            ],
            [
             0.2222222222222222,
             "#3e4989"
            ],
            [
             0.3333333333333333,
             "#31688e"
            ],
            [
             0.4444444444444444,
             "#26828e"
            ],
            [
             0.5555555555555556,
             "#1f9e89"
            ],
            [
             0.6666666666666666,
             "#35b779"
            ],
            [
             0.7777777777777778,
             "#6ece58"
            ],
            [
             0.8888888888888888,
             "#b5de2b"
            ],
            [
             1,
             "#fde725"
            ]
           ]
          },
          "colorway": [
           "#1F77B4",
           "#FF7F0E",
           "#2CA02C",
           "#D62728",
           "#9467BD",
           "#8C564B",
           "#E377C2",
           "#7F7F7F",
           "#BCBD22",
           "#17BECF"
          ],
          "font": {
           "color": "rgb(36,36,36)"
          },
          "geo": {
           "bgcolor": "white",
           "lakecolor": "white",
           "landcolor": "white",
           "showlakes": true,
           "showland": true,
           "subunitcolor": "white"
          },
          "hoverlabel": {
           "align": "left"
          },
          "hovermode": "closest",
          "mapbox": {
           "style": "light"
          },
          "paper_bgcolor": "white",
          "plot_bgcolor": "white",
          "polar": {
           "angularaxis": {
            "gridcolor": "rgb(232,232,232)",
            "linecolor": "rgb(36,36,36)",
            "showgrid": false,
            "showline": true,
            "ticks": "outside"
           },
           "bgcolor": "white",
           "radialaxis": {
            "gridcolor": "rgb(232,232,232)",
            "linecolor": "rgb(36,36,36)",
            "showgrid": false,
            "showline": true,
            "ticks": "outside"
           }
          },
          "scene": {
           "xaxis": {
            "backgroundcolor": "white",
            "gridcolor": "rgb(232,232,232)",
            "gridwidth": 2,
            "linecolor": "rgb(36,36,36)",
            "showbackground": true,
            "showgrid": false,
            "showline": true,
            "ticks": "outside",
            "zeroline": false,
            "zerolinecolor": "rgb(36,36,36)"
           },
           "yaxis": {
            "backgroundcolor": "white",
            "gridcolor": "rgb(232,232,232)",
            "gridwidth": 2,
            "linecolor": "rgb(36,36,36)",
            "showbackground": true,
            "showgrid": false,
            "showline": true,
            "ticks": "outside",
            "zeroline": false,
            "zerolinecolor": "rgb(36,36,36)"
           },
           "zaxis": {
            "backgroundcolor": "white",
            "gridcolor": "rgb(232,232,232)",
            "gridwidth": 2,
            "linecolor": "rgb(36,36,36)",
            "showbackground": true,
            "showgrid": false,
            "showline": true,
            "ticks": "outside",
            "zeroline": false,
            "zerolinecolor": "rgb(36,36,36)"
           }
          },
          "shapedefaults": {
           "fillcolor": "black",
           "line": {
            "width": 0
           },
           "opacity": 0.3
          },
          "ternary": {
           "aaxis": {
            "gridcolor": "rgb(232,232,232)",
            "linecolor": "rgb(36,36,36)",
            "showgrid": false,
            "showline": true,
            "ticks": "outside"
           },
           "baxis": {
            "gridcolor": "rgb(232,232,232)",
            "linecolor": "rgb(36,36,36)",
            "showgrid": false,
            "showline": true,
            "ticks": "outside"
           },
           "bgcolor": "white",
           "caxis": {
            "gridcolor": "rgb(232,232,232)",
            "linecolor": "rgb(36,36,36)",
            "showgrid": false,
            "showline": true,
            "ticks": "outside"
           }
          },
          "title": {
           "x": 0.05
          },
          "xaxis": {
           "automargin": true,
           "gridcolor": "rgb(232,232,232)",
           "linecolor": "rgb(36,36,36)",
           "showgrid": false,
           "showline": true,
           "ticks": "outside",
           "title": {
            "standoff": 15
           },
           "zeroline": false,
           "zerolinecolor": "rgb(36,36,36)"
          },
          "yaxis": {
           "automargin": true,
           "gridcolor": "rgb(232,232,232)",
           "linecolor": "rgb(36,36,36)",
           "showgrid": false,
           "showline": true,
           "ticks": "outside",
           "title": {
            "standoff": 15
           },
           "zeroline": false,
           "zerolinecolor": "rgb(36,36,36)"
          }
         }
        }
       }
      }
     },
     "metadata": {},
     "output_type": "display_data"
    }
   ],
   "source": [
    "fig = go.Figure()\n",
    "\n",
    "variable_name = 'tasmax'\n",
    "\n",
    "baseline_start    = datetime.datetime(year = 2020, month = 1, day = 1, hour = 00, minute = 00, second = 00)\n",
    "baseline_end      = datetime.datetime(year = 2021, month = 1, day = 1, hour = 00, minute = 00, second = 00)\n",
    "mask = (model_list[0].df_monthly.index >= baseline_start) & (model_list[0].df_monthly.index < baseline_end)\n",
    "fig.add_trace(go.Scatter(\n",
    "    x = [*range(1,13)],\n",
    "    y = model_list[0].df_monthly[mask][variable_name],\n",
    "    name = '2020'\n",
    "))\n",
    "\n",
    "comparison_start    = datetime.datetime(year = 2050, month = 1, day = 1, hour = 00, minute = 00, second = 00)\n",
    "comparison_end      = datetime.datetime(year = 2051, month = 1, day = 1, hour = 00, minute = 00, second = 00)\n",
    "mask = (model_list[0].df_monthly.index >= comparison_start) & (model_list[0].df_monthly.index < comparison_end)\n",
    "fig.add_trace(go.Scatter(\n",
    "    x = [*range(1,13)],\n",
    "    y = model_list[0].df_monthly[mask][variable_name],\n",
    "    name = '2050'\n",
    "))\n",
    "\n",
    "fig.update_layout(template = 'simple_white')\n",
    "fig.show()"
   ]
  },
  {
   "cell_type": "code",
   "execution_count": 5,
   "metadata": {},
   "outputs": [
    {
     "name": "stdout",
     "output_type": "stream",
     "text": [
      "                          hurs  huss  rlds  rsds         pr   sfcWind  \\\n",
      "2015-01-31 12:00:00  73.838647   NaN   NaN   NaN   0.000000  4.197701   \n",
      "2015-02-28 12:00:00  62.294267   NaN   NaN   NaN   1.291093  4.640519   \n",
      "2015-03-31 12:00:00  40.995905   NaN   NaN   NaN   8.645945  5.155489   \n",
      "2015-04-30 12:00:00  50.759698   NaN   NaN   NaN  42.457000  4.691003   \n",
      "2015-05-31 12:00:00  54.285343   NaN   NaN   NaN  49.270722  4.008785   \n",
      "...                        ...   ...   ...   ...        ...       ...   \n",
      "2099-08-31 12:00:00  54.988016   NaN   NaN   NaN  24.536843  3.988774   \n",
      "2099-09-30 12:00:00  53.022689   NaN   NaN   NaN  18.072284  3.303956   \n",
      "2099-10-31 12:00:00  50.225806   NaN   NaN   NaN   0.000000  3.978889   \n",
      "2099-11-30 12:00:00  61.945111   NaN   NaN   NaN   0.000000  4.312458   \n",
      "2099-12-31 12:00:00        NaN   NaN   NaN   NaN   0.000000       NaN   \n",
      "\n",
      "                           tas     tasmax     tasmin        TXx        TNx  \\\n",
      "2015-01-31 12:00:00 -12.286962  -0.584947 -23.988983  11.590668 -11.941254   \n",
      "2015-02-28 12:00:00  -6.933827   4.300878 -18.168527  20.055267  -1.906250   \n",
      "2015-03-31 12:00:00   4.481198  16.162367  -7.199961  24.925507   1.559998   \n",
      "2015-04-30 12:00:00  10.259230  20.826284  -0.307824  30.174194  10.600372   \n",
      "2015-05-31 12:00:00  13.873670  23.614920   4.132419  30.852509  12.253906   \n",
      "...                        ...        ...        ...        ...        ...   \n",
      "2099-08-31 12:00:00  19.312472  28.742103   9.882839  38.559204  17.378662   \n",
      "2099-09-30 12:00:00  13.115603  23.088623   3.142575  30.345581  11.168640   \n",
      "2099-10-31 12:00:00   2.274579  12.580429  -8.031269  19.612915  -0.884064   \n",
      "2099-11-30 12:00:00  -0.949884  10.957847 -12.857610  19.551453  -4.238831   \n",
      "2099-12-31 12:00:00        NaN        NaN        NaN   2.462189 -22.595963   \n",
      "\n",
      "                           TXn        TNn        DTR     RX1day     RX5day  \n",
      "2015-01-31 12:00:00  -7.558136 -31.652695  23.427053   0.000000   0.000000  \n",
      "2015-02-28 12:00:00  -2.518646 -26.040390  22.504673   0.670327   0.682330  \n",
      "2015-03-31 12:00:00   4.796692 -18.563126  23.362373   5.072156   8.453205  \n",
      "2015-04-30 12:00:00   7.714874 -14.954559  21.208565  11.775623  21.982382  \n",
      "2015-05-31 12:00:00  12.242523  -6.725769  19.485838   8.970915  24.133716  \n",
      "...                        ...        ...        ...        ...        ...  \n",
      "2099-08-31 12:00:00  19.891388   1.644196  18.936861  13.109181  17.124267  \n",
      "2099-09-30 12:00:00   9.891785 -10.579193  19.876447   5.278475   8.337817  \n",
      "2099-10-31 12:00:00   4.021301 -17.887024  20.607201   0.000000   0.000000  \n",
      "2099-11-30 12:00:00   3.208191 -19.575714  23.781071   0.000000   0.000000  \n",
      "2099-12-31 12:00:00   2.462189 -22.595963  25.058151   0.000000   0.000000  \n",
      "\n",
      "[1020 rows x 16 columns]\n"
     ]
    }
   ],
   "source": [
    "print(model_list[0].df_monthly)\n"
   ]
  },
  {
   "cell_type": "code",
   "execution_count": 6,
   "metadata": {},
   "outputs": [
    {
     "data": {
      "application/vnd.plotly.v1+json": {
       "config": {
        "plotlyServerURL": "https://plot.ly"
       },
       "data": [
        {
         "hovertemplate": "index=%{x}<br>RX1day=%{y}<extra></extra>",
         "legendgroup": "",
         "line": {
          "color": "#636efa",
          "dash": "solid"
         },
         "marker": {
          "symbol": "circle"
         },
         "mode": "lines",
         "name": "",
         "showlegend": false,
         "type": "scattergl",
         "x": [
          "2015-01-31T12:00:00",
          "2015-02-28T12:00:00",
          "2015-03-31T12:00:00",
          "2015-04-30T12:00:00",
          "2015-05-31T12:00:00",
          "2015-06-30T12:00:00",
          "2015-07-31T12:00:00",
          "2015-08-31T12:00:00",
          "2015-09-30T12:00:00",
          "2015-10-31T12:00:00",
          "2015-11-30T12:00:00",
          "2015-12-31T12:00:00",
          "2016-01-31T12:00:00",
          "2016-02-29T12:00:00",
          "2016-03-31T12:00:00",
          "2016-04-30T12:00:00",
          "2016-05-31T12:00:00",
          "2016-06-30T12:00:00",
          "2016-07-31T12:00:00",
          "2016-08-31T12:00:00",
          "2016-09-30T12:00:00",
          "2016-10-31T12:00:00",
          "2016-11-30T12:00:00",
          "2016-12-31T12:00:00",
          "2017-01-31T12:00:00",
          "2017-02-28T12:00:00",
          "2017-03-31T12:00:00",
          "2017-04-30T12:00:00",
          "2017-05-31T12:00:00",
          "2017-06-30T12:00:00",
          "2017-07-31T12:00:00",
          "2017-08-31T12:00:00",
          "2017-09-30T12:00:00",
          "2017-10-31T12:00:00",
          "2017-11-30T12:00:00",
          "2017-12-31T12:00:00",
          "2018-01-31T12:00:00",
          "2018-02-28T12:00:00",
          "2018-03-31T12:00:00",
          "2018-04-30T12:00:00",
          "2018-05-31T12:00:00",
          "2018-06-30T12:00:00",
          "2018-07-31T12:00:00",
          "2018-08-31T12:00:00",
          "2018-09-30T12:00:00",
          "2018-10-31T12:00:00",
          "2018-11-30T12:00:00",
          "2018-12-31T12:00:00",
          "2019-01-31T12:00:00",
          "2019-02-28T12:00:00",
          "2019-03-31T12:00:00",
          "2019-04-30T12:00:00",
          "2019-05-31T12:00:00",
          "2019-06-30T12:00:00",
          "2019-07-31T12:00:00",
          "2019-08-31T12:00:00",
          "2019-09-30T12:00:00",
          "2019-10-31T12:00:00",
          "2019-11-30T12:00:00",
          "2019-12-31T12:00:00",
          "2020-01-31T12:00:00",
          "2020-02-29T12:00:00",
          "2020-03-31T12:00:00",
          "2020-04-30T12:00:00",
          "2020-05-31T12:00:00",
          "2020-06-30T12:00:00",
          "2020-07-31T12:00:00",
          "2020-08-31T12:00:00",
          "2020-09-30T12:00:00",
          "2020-10-31T12:00:00",
          "2020-11-30T12:00:00",
          "2020-12-31T12:00:00",
          "2021-01-31T12:00:00",
          "2021-02-28T12:00:00",
          "2021-03-31T12:00:00",
          "2021-04-30T12:00:00",
          "2021-05-31T12:00:00",
          "2021-06-30T12:00:00",
          "2021-07-31T12:00:00",
          "2021-08-31T12:00:00",
          "2021-09-30T12:00:00",
          "2021-10-31T12:00:00",
          "2021-11-30T12:00:00",
          "2021-12-31T12:00:00",
          "2022-01-31T12:00:00",
          "2022-02-28T12:00:00",
          "2022-03-31T12:00:00",
          "2022-04-30T12:00:00",
          "2022-05-31T12:00:00",
          "2022-06-30T12:00:00",
          "2022-07-31T12:00:00",
          "2022-08-31T12:00:00",
          "2022-09-30T12:00:00",
          "2022-10-31T12:00:00",
          "2022-11-30T12:00:00",
          "2022-12-31T12:00:00",
          "2023-01-31T12:00:00",
          "2023-02-28T12:00:00",
          "2023-03-31T12:00:00",
          "2023-04-30T12:00:00",
          "2023-05-31T12:00:00",
          "2023-06-30T12:00:00",
          "2023-07-31T12:00:00",
          "2023-08-31T12:00:00",
          "2023-09-30T12:00:00",
          "2023-10-31T12:00:00",
          "2023-11-30T12:00:00",
          "2023-12-31T12:00:00",
          "2024-01-31T12:00:00",
          "2024-02-29T12:00:00",
          "2024-03-31T12:00:00",
          "2024-04-30T12:00:00",
          "2024-05-31T12:00:00",
          "2024-06-30T12:00:00",
          "2024-07-31T12:00:00",
          "2024-08-31T12:00:00",
          "2024-09-30T12:00:00",
          "2024-10-31T12:00:00",
          "2024-11-30T12:00:00",
          "2024-12-31T12:00:00",
          "2025-01-31T12:00:00",
          "2025-02-28T12:00:00",
          "2025-03-31T12:00:00",
          "2025-04-30T12:00:00",
          "2025-05-31T12:00:00",
          "2025-06-30T12:00:00",
          "2025-07-31T12:00:00",
          "2025-08-31T12:00:00",
          "2025-09-30T12:00:00",
          "2025-10-31T12:00:00",
          "2025-11-30T12:00:00",
          "2025-12-31T12:00:00",
          "2026-01-31T12:00:00",
          "2026-02-28T12:00:00",
          "2026-03-31T12:00:00",
          "2026-04-30T12:00:00",
          "2026-05-31T12:00:00",
          "2026-06-30T12:00:00",
          "2026-07-31T12:00:00",
          "2026-08-31T12:00:00",
          "2026-09-30T12:00:00",
          "2026-10-31T12:00:00",
          "2026-11-30T12:00:00",
          "2026-12-31T12:00:00",
          "2027-01-31T12:00:00",
          "2027-02-28T12:00:00",
          "2027-03-31T12:00:00",
          "2027-04-30T12:00:00",
          "2027-05-31T12:00:00",
          "2027-06-30T12:00:00",
          "2027-07-31T12:00:00",
          "2027-08-31T12:00:00",
          "2027-09-30T12:00:00",
          "2027-10-31T12:00:00",
          "2027-11-30T12:00:00",
          "2027-12-31T12:00:00",
          "2028-01-31T12:00:00",
          "2028-02-29T12:00:00",
          "2028-03-31T12:00:00",
          "2028-04-30T12:00:00",
          "2028-05-31T12:00:00",
          "2028-06-30T12:00:00",
          "2028-07-31T12:00:00",
          "2028-08-31T12:00:00",
          "2028-09-30T12:00:00",
          "2028-10-31T12:00:00",
          "2028-11-30T12:00:00",
          "2028-12-31T12:00:00",
          "2029-01-31T12:00:00",
          "2029-02-28T12:00:00",
          "2029-03-31T12:00:00",
          "2029-04-30T12:00:00",
          "2029-05-31T12:00:00",
          "2029-06-30T12:00:00",
          "2029-07-31T12:00:00",
          "2029-08-31T12:00:00",
          "2029-09-30T12:00:00",
          "2029-10-31T12:00:00",
          "2029-11-30T12:00:00",
          "2029-12-31T12:00:00",
          "2030-01-31T12:00:00",
          "2030-02-28T12:00:00",
          "2030-03-31T12:00:00",
          "2030-04-30T12:00:00",
          "2030-05-31T12:00:00",
          "2030-06-30T12:00:00",
          "2030-07-31T12:00:00",
          "2030-08-31T12:00:00",
          "2030-09-30T12:00:00",
          "2030-10-31T12:00:00",
          "2030-11-30T12:00:00",
          "2030-12-31T12:00:00",
          "2031-01-31T12:00:00",
          "2031-02-28T12:00:00",
          "2031-03-31T12:00:00",
          "2031-04-30T12:00:00",
          "2031-05-31T12:00:00",
          "2031-06-30T12:00:00",
          "2031-07-31T12:00:00",
          "2031-08-31T12:00:00",
          "2031-09-30T12:00:00",
          "2031-10-31T12:00:00",
          "2031-11-30T12:00:00",
          "2031-12-31T12:00:00",
          "2032-01-31T12:00:00",
          "2032-02-29T12:00:00",
          "2032-03-31T12:00:00",
          "2032-04-30T12:00:00",
          "2032-05-31T12:00:00",
          "2032-06-30T12:00:00",
          "2032-07-31T12:00:00",
          "2032-08-31T12:00:00",
          "2032-09-30T12:00:00",
          "2032-10-31T12:00:00",
          "2032-11-30T12:00:00",
          "2032-12-31T12:00:00",
          "2033-01-31T12:00:00",
          "2033-02-28T12:00:00",
          "2033-03-31T12:00:00",
          "2033-04-30T12:00:00",
          "2033-05-31T12:00:00",
          "2033-06-30T12:00:00",
          "2033-07-31T12:00:00",
          "2033-08-31T12:00:00",
          "2033-09-30T12:00:00",
          "2033-10-31T12:00:00",
          "2033-11-30T12:00:00",
          "2033-12-31T12:00:00",
          "2034-01-31T12:00:00",
          "2034-02-28T12:00:00",
          "2034-03-31T12:00:00",
          "2034-04-30T12:00:00",
          "2034-05-31T12:00:00",
          "2034-06-30T12:00:00",
          "2034-07-31T12:00:00",
          "2034-08-31T12:00:00",
          "2034-09-30T12:00:00",
          "2034-10-31T12:00:00",
          "2034-11-30T12:00:00",
          "2034-12-31T12:00:00",
          "2035-01-31T12:00:00",
          "2035-02-28T12:00:00",
          "2035-03-31T12:00:00",
          "2035-04-30T12:00:00",
          "2035-05-31T12:00:00",
          "2035-06-30T12:00:00",
          "2035-07-31T12:00:00",
          "2035-08-31T12:00:00",
          "2035-09-30T12:00:00",
          "2035-10-31T12:00:00",
          "2035-11-30T12:00:00",
          "2035-12-31T12:00:00",
          "2036-01-31T12:00:00",
          "2036-02-29T12:00:00",
          "2036-03-31T12:00:00",
          "2036-04-30T12:00:00",
          "2036-05-31T12:00:00",
          "2036-06-30T12:00:00",
          "2036-07-31T12:00:00",
          "2036-08-31T12:00:00",
          "2036-09-30T12:00:00",
          "2036-10-31T12:00:00",
          "2036-11-30T12:00:00",
          "2036-12-31T12:00:00",
          "2037-01-31T12:00:00",
          "2037-02-28T12:00:00",
          "2037-03-31T12:00:00",
          "2037-04-30T12:00:00",
          "2037-05-31T12:00:00",
          "2037-06-30T12:00:00",
          "2037-07-31T12:00:00",
          "2037-08-31T12:00:00",
          "2037-09-30T12:00:00",
          "2037-10-31T12:00:00",
          "2037-11-30T12:00:00",
          "2037-12-31T12:00:00",
          "2038-01-31T12:00:00",
          "2038-02-28T12:00:00",
          "2038-03-31T12:00:00",
          "2038-04-30T12:00:00",
          "2038-05-31T12:00:00",
          "2038-06-30T12:00:00",
          "2038-07-31T12:00:00",
          "2038-08-31T12:00:00",
          "2038-09-30T12:00:00",
          "2038-10-31T12:00:00",
          "2038-11-30T12:00:00",
          "2038-12-31T12:00:00",
          "2039-01-31T12:00:00",
          "2039-02-28T12:00:00",
          "2039-03-31T12:00:00",
          "2039-04-30T12:00:00",
          "2039-05-31T12:00:00",
          "2039-06-30T12:00:00",
          "2039-07-31T12:00:00",
          "2039-08-31T12:00:00",
          "2039-09-30T12:00:00",
          "2039-10-31T12:00:00",
          "2039-11-30T12:00:00",
          "2039-12-31T12:00:00",
          "2040-01-31T12:00:00",
          "2040-02-29T12:00:00",
          "2040-03-31T12:00:00",
          "2040-04-30T12:00:00",
          "2040-05-31T12:00:00",
          "2040-06-30T12:00:00",
          "2040-07-31T12:00:00",
          "2040-08-31T12:00:00",
          "2040-09-30T12:00:00",
          "2040-10-31T12:00:00",
          "2040-11-30T12:00:00",
          "2040-12-31T12:00:00",
          "2041-01-31T12:00:00",
          "2041-02-28T12:00:00",
          "2041-03-31T12:00:00",
          "2041-04-30T12:00:00",
          "2041-05-31T12:00:00",
          "2041-06-30T12:00:00",
          "2041-07-31T12:00:00",
          "2041-08-31T12:00:00",
          "2041-09-30T12:00:00",
          "2041-10-31T12:00:00",
          "2041-11-30T12:00:00",
          "2041-12-31T12:00:00",
          "2042-01-31T12:00:00",
          "2042-02-28T12:00:00",
          "2042-03-31T12:00:00",
          "2042-04-30T12:00:00",
          "2042-05-31T12:00:00",
          "2042-06-30T12:00:00",
          "2042-07-31T12:00:00",
          "2042-08-31T12:00:00",
          "2042-09-30T12:00:00",
          "2042-10-31T12:00:00",
          "2042-11-30T12:00:00",
          "2042-12-31T12:00:00",
          "2043-01-31T12:00:00",
          "2043-02-28T12:00:00",
          "2043-03-31T12:00:00",
          "2043-04-30T12:00:00",
          "2043-05-31T12:00:00",
          "2043-06-30T12:00:00",
          "2043-07-31T12:00:00",
          "2043-08-31T12:00:00",
          "2043-09-30T12:00:00",
          "2043-10-31T12:00:00",
          "2043-11-30T12:00:00",
          "2043-12-31T12:00:00",
          "2044-01-31T12:00:00",
          "2044-02-29T12:00:00",
          "2044-03-31T12:00:00",
          "2044-04-30T12:00:00",
          "2044-05-31T12:00:00",
          "2044-06-30T12:00:00",
          "2044-07-31T12:00:00",
          "2044-08-31T12:00:00",
          "2044-09-30T12:00:00",
          "2044-10-31T12:00:00",
          "2044-11-30T12:00:00",
          "2044-12-31T12:00:00",
          "2045-01-31T12:00:00",
          "2045-02-28T12:00:00",
          "2045-03-31T12:00:00",
          "2045-04-30T12:00:00",
          "2045-05-31T12:00:00",
          "2045-06-30T12:00:00",
          "2045-07-31T12:00:00",
          "2045-08-31T12:00:00",
          "2045-09-30T12:00:00",
          "2045-10-31T12:00:00",
          "2045-11-30T12:00:00",
          "2045-12-31T12:00:00",
          "2046-01-31T12:00:00",
          "2046-02-28T12:00:00",
          "2046-03-31T12:00:00",
          "2046-04-30T12:00:00",
          "2046-05-31T12:00:00",
          "2046-06-30T12:00:00",
          "2046-07-31T12:00:00",
          "2046-08-31T12:00:00",
          "2046-09-30T12:00:00",
          "2046-10-31T12:00:00",
          "2046-11-30T12:00:00",
          "2046-12-31T12:00:00",
          "2047-01-31T12:00:00",
          "2047-02-28T12:00:00",
          "2047-03-31T12:00:00",
          "2047-04-30T12:00:00",
          "2047-05-31T12:00:00",
          "2047-06-30T12:00:00",
          "2047-07-31T12:00:00",
          "2047-08-31T12:00:00",
          "2047-09-30T12:00:00",
          "2047-10-31T12:00:00",
          "2047-11-30T12:00:00",
          "2047-12-31T12:00:00",
          "2048-01-31T12:00:00",
          "2048-02-29T12:00:00",
          "2048-03-31T12:00:00",
          "2048-04-30T12:00:00",
          "2048-05-31T12:00:00",
          "2048-06-30T12:00:00",
          "2048-07-31T12:00:00",
          "2048-08-31T12:00:00",
          "2048-09-30T12:00:00",
          "2048-10-31T12:00:00",
          "2048-11-30T12:00:00",
          "2048-12-31T12:00:00",
          "2049-01-31T12:00:00",
          "2049-02-28T12:00:00",
          "2049-03-31T12:00:00",
          "2049-04-30T12:00:00",
          "2049-05-31T12:00:00",
          "2049-06-30T12:00:00",
          "2049-07-31T12:00:00",
          "2049-08-31T12:00:00",
          "2049-09-30T12:00:00",
          "2049-10-31T12:00:00",
          "2049-11-30T12:00:00",
          "2049-12-31T12:00:00",
          "2050-01-31T12:00:00",
          "2050-02-28T12:00:00",
          "2050-03-31T12:00:00",
          "2050-04-30T12:00:00",
          "2050-05-31T12:00:00",
          "2050-06-30T12:00:00",
          "2050-07-31T12:00:00",
          "2050-08-31T12:00:00",
          "2050-09-30T12:00:00",
          "2050-10-31T12:00:00",
          "2050-11-30T12:00:00",
          "2050-12-31T12:00:00",
          "2051-01-31T12:00:00",
          "2051-02-28T12:00:00",
          "2051-03-31T12:00:00",
          "2051-04-30T12:00:00",
          "2051-05-31T12:00:00",
          "2051-06-30T12:00:00",
          "2051-07-31T12:00:00",
          "2051-08-31T12:00:00",
          "2051-09-30T12:00:00",
          "2051-10-31T12:00:00",
          "2051-11-30T12:00:00",
          "2051-12-31T12:00:00",
          "2052-01-31T12:00:00",
          "2052-02-29T12:00:00",
          "2052-03-31T12:00:00",
          "2052-04-30T12:00:00",
          "2052-05-31T12:00:00",
          "2052-06-30T12:00:00",
          "2052-07-31T12:00:00",
          "2052-08-31T12:00:00",
          "2052-09-30T12:00:00",
          "2052-10-31T12:00:00",
          "2052-11-30T12:00:00",
          "2052-12-31T12:00:00",
          "2053-01-31T12:00:00",
          "2053-02-28T12:00:00",
          "2053-03-31T12:00:00",
          "2053-04-30T12:00:00",
          "2053-05-31T12:00:00",
          "2053-06-30T12:00:00",
          "2053-07-31T12:00:00",
          "2053-08-31T12:00:00",
          "2053-09-30T12:00:00",
          "2053-10-31T12:00:00",
          "2053-11-30T12:00:00",
          "2053-12-31T12:00:00",
          "2054-01-31T12:00:00",
          "2054-02-28T12:00:00",
          "2054-03-31T12:00:00",
          "2054-04-30T12:00:00",
          "2054-05-31T12:00:00",
          "2054-06-30T12:00:00",
          "2054-07-31T12:00:00",
          "2054-08-31T12:00:00",
          "2054-09-30T12:00:00",
          "2054-10-31T12:00:00",
          "2054-11-30T12:00:00",
          "2054-12-31T12:00:00",
          "2055-01-31T12:00:00",
          "2055-02-28T12:00:00",
          "2055-03-31T12:00:00",
          "2055-04-30T12:00:00",
          "2055-05-31T12:00:00",
          "2055-06-30T12:00:00",
          "2055-07-31T12:00:00",
          "2055-08-31T12:00:00",
          "2055-09-30T12:00:00",
          "2055-10-31T12:00:00",
          "2055-11-30T12:00:00",
          "2055-12-31T12:00:00",
          "2056-01-31T12:00:00",
          "2056-02-29T12:00:00",
          "2056-03-31T12:00:00",
          "2056-04-30T12:00:00",
          "2056-05-31T12:00:00",
          "2056-06-30T12:00:00",
          "2056-07-31T12:00:00",
          "2056-08-31T12:00:00",
          "2056-09-30T12:00:00",
          "2056-10-31T12:00:00",
          "2056-11-30T12:00:00",
          "2056-12-31T12:00:00",
          "2057-01-31T12:00:00",
          "2057-02-28T12:00:00",
          "2057-03-31T12:00:00",
          "2057-04-30T12:00:00",
          "2057-05-31T12:00:00",
          "2057-06-30T12:00:00",
          "2057-07-31T12:00:00",
          "2057-08-31T12:00:00",
          "2057-09-30T12:00:00",
          "2057-10-31T12:00:00",
          "2057-11-30T12:00:00",
          "2057-12-31T12:00:00",
          "2058-01-31T12:00:00",
          "2058-02-28T12:00:00",
          "2058-03-31T12:00:00",
          "2058-04-30T12:00:00",
          "2058-05-31T12:00:00",
          "2058-06-30T12:00:00",
          "2058-07-31T12:00:00",
          "2058-08-31T12:00:00",
          "2058-09-30T12:00:00",
          "2058-10-31T12:00:00",
          "2058-11-30T12:00:00",
          "2058-12-31T12:00:00",
          "2059-01-31T12:00:00",
          "2059-02-28T12:00:00",
          "2059-03-31T12:00:00",
          "2059-04-30T12:00:00",
          "2059-05-31T12:00:00",
          "2059-06-30T12:00:00",
          "2059-07-31T12:00:00",
          "2059-08-31T12:00:00",
          "2059-09-30T12:00:00",
          "2059-10-31T12:00:00",
          "2059-11-30T12:00:00",
          "2059-12-31T12:00:00",
          "2060-01-31T12:00:00",
          "2060-02-29T12:00:00",
          "2060-03-31T12:00:00",
          "2060-04-30T12:00:00",
          "2060-05-31T12:00:00",
          "2060-06-30T12:00:00",
          "2060-07-31T12:00:00",
          "2060-08-31T12:00:00",
          "2060-09-30T12:00:00",
          "2060-10-31T12:00:00",
          "2060-11-30T12:00:00",
          "2060-12-31T12:00:00",
          "2061-01-31T12:00:00",
          "2061-02-28T12:00:00",
          "2061-03-31T12:00:00",
          "2061-04-30T12:00:00",
          "2061-05-31T12:00:00",
          "2061-06-30T12:00:00",
          "2061-07-31T12:00:00",
          "2061-08-31T12:00:00",
          "2061-09-30T12:00:00",
          "2061-10-31T12:00:00",
          "2061-11-30T12:00:00",
          "2061-12-31T12:00:00",
          "2062-01-31T12:00:00",
          "2062-02-28T12:00:00",
          "2062-03-31T12:00:00",
          "2062-04-30T12:00:00",
          "2062-05-31T12:00:00",
          "2062-06-30T12:00:00",
          "2062-07-31T12:00:00",
          "2062-08-31T12:00:00",
          "2062-09-30T12:00:00",
          "2062-10-31T12:00:00",
          "2062-11-30T12:00:00",
          "2062-12-31T12:00:00",
          "2063-01-31T12:00:00",
          "2063-02-28T12:00:00",
          "2063-03-31T12:00:00",
          "2063-04-30T12:00:00",
          "2063-05-31T12:00:00",
          "2063-06-30T12:00:00",
          "2063-07-31T12:00:00",
          "2063-08-31T12:00:00",
          "2063-09-30T12:00:00",
          "2063-10-31T12:00:00",
          "2063-11-30T12:00:00",
          "2063-12-31T12:00:00",
          "2064-01-31T12:00:00",
          "2064-02-29T12:00:00",
          "2064-03-31T12:00:00",
          "2064-04-30T12:00:00",
          "2064-05-31T12:00:00",
          "2064-06-30T12:00:00",
          "2064-07-31T12:00:00",
          "2064-08-31T12:00:00",
          "2064-09-30T12:00:00",
          "2064-10-31T12:00:00",
          "2064-11-30T12:00:00",
          "2064-12-31T12:00:00",
          "2065-01-31T12:00:00",
          "2065-02-28T12:00:00",
          "2065-03-31T12:00:00",
          "2065-04-30T12:00:00",
          "2065-05-31T12:00:00",
          "2065-06-30T12:00:00",
          "2065-07-31T12:00:00",
          "2065-08-31T12:00:00",
          "2065-09-30T12:00:00",
          "2065-10-31T12:00:00",
          "2065-11-30T12:00:00",
          "2065-12-31T12:00:00",
          "2066-01-31T12:00:00",
          "2066-02-28T12:00:00",
          "2066-03-31T12:00:00",
          "2066-04-30T12:00:00",
          "2066-05-31T12:00:00",
          "2066-06-30T12:00:00",
          "2066-07-31T12:00:00",
          "2066-08-31T12:00:00",
          "2066-09-30T12:00:00",
          "2066-10-31T12:00:00",
          "2066-11-30T12:00:00",
          "2066-12-31T12:00:00",
          "2067-01-31T12:00:00",
          "2067-02-28T12:00:00",
          "2067-03-31T12:00:00",
          "2067-04-30T12:00:00",
          "2067-05-31T12:00:00",
          "2067-06-30T12:00:00",
          "2067-07-31T12:00:00",
          "2067-08-31T12:00:00",
          "2067-09-30T12:00:00",
          "2067-10-31T12:00:00",
          "2067-11-30T12:00:00",
          "2067-12-31T12:00:00",
          "2068-01-31T12:00:00",
          "2068-02-29T12:00:00",
          "2068-03-31T12:00:00",
          "2068-04-30T12:00:00",
          "2068-05-31T12:00:00",
          "2068-06-30T12:00:00",
          "2068-07-31T12:00:00",
          "2068-08-31T12:00:00",
          "2068-09-30T12:00:00",
          "2068-10-31T12:00:00",
          "2068-11-30T12:00:00",
          "2068-12-31T12:00:00",
          "2069-01-31T12:00:00",
          "2069-02-28T12:00:00",
          "2069-03-31T12:00:00",
          "2069-04-30T12:00:00",
          "2069-05-31T12:00:00",
          "2069-06-30T12:00:00",
          "2069-07-31T12:00:00",
          "2069-08-31T12:00:00",
          "2069-09-30T12:00:00",
          "2069-10-31T12:00:00",
          "2069-11-30T12:00:00",
          "2069-12-31T12:00:00",
          "2070-01-31T12:00:00",
          "2070-02-28T12:00:00",
          "2070-03-31T12:00:00",
          "2070-04-30T12:00:00",
          "2070-05-31T12:00:00",
          "2070-06-30T12:00:00",
          "2070-07-31T12:00:00",
          "2070-08-31T12:00:00",
          "2070-09-30T12:00:00",
          "2070-10-31T12:00:00",
          "2070-11-30T12:00:00",
          "2070-12-31T12:00:00",
          "2071-01-31T12:00:00",
          "2071-02-28T12:00:00",
          "2071-03-31T12:00:00",
          "2071-04-30T12:00:00",
          "2071-05-31T12:00:00",
          "2071-06-30T12:00:00",
          "2071-07-31T12:00:00",
          "2071-08-31T12:00:00",
          "2071-09-30T12:00:00",
          "2071-10-31T12:00:00",
          "2071-11-30T12:00:00",
          "2071-12-31T12:00:00",
          "2072-01-31T12:00:00",
          "2072-02-29T12:00:00",
          "2072-03-31T12:00:00",
          "2072-04-30T12:00:00",
          "2072-05-31T12:00:00",
          "2072-06-30T12:00:00",
          "2072-07-31T12:00:00",
          "2072-08-31T12:00:00",
          "2072-09-30T12:00:00",
          "2072-10-31T12:00:00",
          "2072-11-30T12:00:00",
          "2072-12-31T12:00:00",
          "2073-01-31T12:00:00",
          "2073-02-28T12:00:00",
          "2073-03-31T12:00:00",
          "2073-04-30T12:00:00",
          "2073-05-31T12:00:00",
          "2073-06-30T12:00:00",
          "2073-07-31T12:00:00",
          "2073-08-31T12:00:00",
          "2073-09-30T12:00:00",
          "2073-10-31T12:00:00",
          "2073-11-30T12:00:00",
          "2073-12-31T12:00:00",
          "2074-01-31T12:00:00",
          "2074-02-28T12:00:00",
          "2074-03-31T12:00:00",
          "2074-04-30T12:00:00",
          "2074-05-31T12:00:00",
          "2074-06-30T12:00:00",
          "2074-07-31T12:00:00",
          "2074-08-31T12:00:00",
          "2074-09-30T12:00:00",
          "2074-10-31T12:00:00",
          "2074-11-30T12:00:00",
          "2074-12-31T12:00:00",
          "2075-01-31T12:00:00",
          "2075-02-28T12:00:00",
          "2075-03-31T12:00:00",
          "2075-04-30T12:00:00",
          "2075-05-31T12:00:00",
          "2075-06-30T12:00:00",
          "2075-07-31T12:00:00",
          "2075-08-31T12:00:00",
          "2075-09-30T12:00:00",
          "2075-10-31T12:00:00",
          "2075-11-30T12:00:00",
          "2075-12-31T12:00:00",
          "2076-01-31T12:00:00",
          "2076-02-29T12:00:00",
          "2076-03-31T12:00:00",
          "2076-04-30T12:00:00",
          "2076-05-31T12:00:00",
          "2076-06-30T12:00:00",
          "2076-07-31T12:00:00",
          "2076-08-31T12:00:00",
          "2076-09-30T12:00:00",
          "2076-10-31T12:00:00",
          "2076-11-30T12:00:00",
          "2076-12-31T12:00:00",
          "2077-01-31T12:00:00",
          "2077-02-28T12:00:00",
          "2077-03-31T12:00:00",
          "2077-04-30T12:00:00",
          "2077-05-31T12:00:00",
          "2077-06-30T12:00:00",
          "2077-07-31T12:00:00",
          "2077-08-31T12:00:00",
          "2077-09-30T12:00:00",
          "2077-10-31T12:00:00",
          "2077-11-30T12:00:00",
          "2077-12-31T12:00:00",
          "2078-01-31T12:00:00",
          "2078-02-28T12:00:00",
          "2078-03-31T12:00:00",
          "2078-04-30T12:00:00",
          "2078-05-31T12:00:00",
          "2078-06-30T12:00:00",
          "2078-07-31T12:00:00",
          "2078-08-31T12:00:00",
          "2078-09-30T12:00:00",
          "2078-10-31T12:00:00",
          "2078-11-30T12:00:00",
          "2078-12-31T12:00:00",
          "2079-01-31T12:00:00",
          "2079-02-28T12:00:00",
          "2079-03-31T12:00:00",
          "2079-04-30T12:00:00",
          "2079-05-31T12:00:00",
          "2079-06-30T12:00:00",
          "2079-07-31T12:00:00",
          "2079-08-31T12:00:00",
          "2079-09-30T12:00:00",
          "2079-10-31T12:00:00",
          "2079-11-30T12:00:00",
          "2079-12-31T12:00:00",
          "2080-01-31T12:00:00",
          "2080-02-29T12:00:00",
          "2080-03-31T12:00:00",
          "2080-04-30T12:00:00",
          "2080-05-31T12:00:00",
          "2080-06-30T12:00:00",
          "2080-07-31T12:00:00",
          "2080-08-31T12:00:00",
          "2080-09-30T12:00:00",
          "2080-10-31T12:00:00",
          "2080-11-30T12:00:00",
          "2080-12-31T12:00:00",
          "2081-01-31T12:00:00",
          "2081-02-28T12:00:00",
          "2081-03-31T12:00:00",
          "2081-04-30T12:00:00",
          "2081-05-31T12:00:00",
          "2081-06-30T12:00:00",
          "2081-07-31T12:00:00",
          "2081-08-31T12:00:00",
          "2081-09-30T12:00:00",
          "2081-10-31T12:00:00",
          "2081-11-30T12:00:00",
          "2081-12-31T12:00:00",
          "2082-01-31T12:00:00",
          "2082-02-28T12:00:00",
          "2082-03-31T12:00:00",
          "2082-04-30T12:00:00",
          "2082-05-31T12:00:00",
          "2082-06-30T12:00:00",
          "2082-07-31T12:00:00",
          "2082-08-31T12:00:00",
          "2082-09-30T12:00:00",
          "2082-10-31T12:00:00",
          "2082-11-30T12:00:00",
          "2082-12-31T12:00:00",
          "2083-01-31T12:00:00",
          "2083-02-28T12:00:00",
          "2083-03-31T12:00:00",
          "2083-04-30T12:00:00",
          "2083-05-31T12:00:00",
          "2083-06-30T12:00:00",
          "2083-07-31T12:00:00",
          "2083-08-31T12:00:00",
          "2083-09-30T12:00:00",
          "2083-10-31T12:00:00",
          "2083-11-30T12:00:00",
          "2083-12-31T12:00:00",
          "2084-01-31T12:00:00",
          "2084-02-29T12:00:00",
          "2084-03-31T12:00:00",
          "2084-04-30T12:00:00",
          "2084-05-31T12:00:00",
          "2084-06-30T12:00:00",
          "2084-07-31T12:00:00",
          "2084-08-31T12:00:00",
          "2084-09-30T12:00:00",
          "2084-10-31T12:00:00",
          "2084-11-30T12:00:00",
          "2084-12-31T12:00:00",
          "2085-01-31T12:00:00",
          "2085-02-28T12:00:00",
          "2085-03-31T12:00:00",
          "2085-04-30T12:00:00",
          "2085-05-31T12:00:00",
          "2085-06-30T12:00:00",
          "2085-07-31T12:00:00",
          "2085-08-31T12:00:00",
          "2085-09-30T12:00:00",
          "2085-10-31T12:00:00",
          "2085-11-30T12:00:00",
          "2085-12-31T12:00:00",
          "2086-01-31T12:00:00",
          "2086-02-28T12:00:00",
          "2086-03-31T12:00:00",
          "2086-04-30T12:00:00",
          "2086-05-31T12:00:00",
          "2086-06-30T12:00:00",
          "2086-07-31T12:00:00",
          "2086-08-31T12:00:00",
          "2086-09-30T12:00:00",
          "2086-10-31T12:00:00",
          "2086-11-30T12:00:00",
          "2086-12-31T12:00:00",
          "2087-01-31T12:00:00",
          "2087-02-28T12:00:00",
          "2087-03-31T12:00:00",
          "2087-04-30T12:00:00",
          "2087-05-31T12:00:00",
          "2087-06-30T12:00:00",
          "2087-07-31T12:00:00",
          "2087-08-31T12:00:00",
          "2087-09-30T12:00:00",
          "2087-10-31T12:00:00",
          "2087-11-30T12:00:00",
          "2087-12-31T12:00:00",
          "2088-01-31T12:00:00",
          "2088-02-29T12:00:00",
          "2088-03-31T12:00:00",
          "2088-04-30T12:00:00",
          "2088-05-31T12:00:00",
          "2088-06-30T12:00:00",
          "2088-07-31T12:00:00",
          "2088-08-31T12:00:00",
          "2088-09-30T12:00:00",
          "2088-10-31T12:00:00",
          "2088-11-30T12:00:00",
          "2088-12-31T12:00:00",
          "2089-01-31T12:00:00",
          "2089-02-28T12:00:00",
          "2089-03-31T12:00:00",
          "2089-04-30T12:00:00",
          "2089-05-31T12:00:00",
          "2089-06-30T12:00:00",
          "2089-07-31T12:00:00",
          "2089-08-31T12:00:00",
          "2089-09-30T12:00:00",
          "2089-10-31T12:00:00",
          "2089-11-30T12:00:00",
          "2089-12-31T12:00:00",
          "2090-01-31T12:00:00",
          "2090-02-28T12:00:00",
          "2090-03-31T12:00:00",
          "2090-04-30T12:00:00",
          "2090-05-31T12:00:00",
          "2090-06-30T12:00:00",
          "2090-07-31T12:00:00",
          "2090-08-31T12:00:00",
          "2090-09-30T12:00:00",
          "2090-10-31T12:00:00",
          "2090-11-30T12:00:00",
          "2090-12-31T12:00:00",
          "2091-01-31T12:00:00",
          "2091-02-28T12:00:00",
          "2091-03-31T12:00:00",
          "2091-04-30T12:00:00",
          "2091-05-31T12:00:00",
          "2091-06-30T12:00:00",
          "2091-07-31T12:00:00",
          "2091-08-31T12:00:00",
          "2091-09-30T12:00:00",
          "2091-10-31T12:00:00",
          "2091-11-30T12:00:00",
          "2091-12-31T12:00:00",
          "2092-01-31T12:00:00",
          "2092-02-29T12:00:00",
          "2092-03-31T12:00:00",
          "2092-04-30T12:00:00",
          "2092-05-31T12:00:00",
          "2092-06-30T12:00:00",
          "2092-07-31T12:00:00",
          "2092-08-31T12:00:00",
          "2092-09-30T12:00:00",
          "2092-10-31T12:00:00",
          "2092-11-30T12:00:00",
          "2092-12-31T12:00:00",
          "2093-01-31T12:00:00",
          "2093-02-28T12:00:00",
          "2093-03-31T12:00:00",
          "2093-04-30T12:00:00",
          "2093-05-31T12:00:00",
          "2093-06-30T12:00:00",
          "2093-07-31T12:00:00",
          "2093-08-31T12:00:00",
          "2093-09-30T12:00:00",
          "2093-10-31T12:00:00",
          "2093-11-30T12:00:00",
          "2093-12-31T12:00:00",
          "2094-01-31T12:00:00",
          "2094-02-28T12:00:00",
          "2094-03-31T12:00:00",
          "2094-04-30T12:00:00",
          "2094-05-31T12:00:00",
          "2094-06-30T12:00:00",
          "2094-07-31T12:00:00",
          "2094-08-31T12:00:00",
          "2094-09-30T12:00:00",
          "2094-10-31T12:00:00",
          "2094-11-30T12:00:00",
          "2094-12-31T12:00:00",
          "2095-01-31T12:00:00",
          "2095-02-28T12:00:00",
          "2095-03-31T12:00:00",
          "2095-04-30T12:00:00",
          "2095-05-31T12:00:00",
          "2095-06-30T12:00:00",
          "2095-07-31T12:00:00",
          "2095-08-31T12:00:00",
          "2095-09-30T12:00:00",
          "2095-10-31T12:00:00",
          "2095-11-30T12:00:00",
          "2095-12-31T12:00:00",
          "2096-01-31T12:00:00",
          "2096-02-29T12:00:00",
          "2096-03-31T12:00:00",
          "2096-04-30T12:00:00",
          "2096-05-31T12:00:00",
          "2096-06-30T12:00:00",
          "2096-07-31T12:00:00",
          "2096-08-31T12:00:00",
          "2096-09-30T12:00:00",
          "2096-10-31T12:00:00",
          "2096-11-30T12:00:00",
          "2096-12-31T12:00:00",
          "2097-01-31T12:00:00",
          "2097-02-28T12:00:00",
          "2097-03-31T12:00:00",
          "2097-04-30T12:00:00",
          "2097-05-31T12:00:00",
          "2097-06-30T12:00:00",
          "2097-07-31T12:00:00",
          "2097-08-31T12:00:00",
          "2097-09-30T12:00:00",
          "2097-10-31T12:00:00",
          "2097-11-30T12:00:00",
          "2097-12-31T12:00:00",
          "2098-01-31T12:00:00",
          "2098-02-28T12:00:00",
          "2098-03-31T12:00:00",
          "2098-04-30T12:00:00",
          "2098-05-31T12:00:00",
          "2098-06-30T12:00:00",
          "2098-07-31T12:00:00",
          "2098-08-31T12:00:00",
          "2098-09-30T12:00:00",
          "2098-10-31T12:00:00",
          "2098-11-30T12:00:00",
          "2098-12-31T12:00:00",
          "2099-01-31T12:00:00",
          "2099-02-28T12:00:00",
          "2099-03-31T12:00:00",
          "2099-04-30T12:00:00",
          "2099-05-31T12:00:00",
          "2099-06-30T12:00:00",
          "2099-07-31T12:00:00",
          "2099-08-31T12:00:00",
          "2099-09-30T12:00:00",
          "2099-10-31T12:00:00",
          "2099-11-30T12:00:00",
          "2099-12-31T12:00:00"
         ],
         "xaxis": "x",
         "y": [
          0,
          0.6703270162688568,
          5.0721558392979205,
          11.775622610002756,
          8.970914804376662,
          16.27343692816794,
          7.204760005697608,
          11.08017023652792,
          1.8548173131421208,
          0.6275762847508304,
          0,
          0,
          0,
          0.8361771935597062,
          5.03649387974292,
          13.680503144860268,
          16.659075301140547,
          9.635795652866364,
          21.593214198946953,
          14.579752692952752,
          4.289345699362457,
          0.0640474776446353,
          0,
          0,
          0,
          2.70965953823179,
          9.78066511452198,
          2.751042461022734,
          6.348137464374304,
          3.9005977450869977,
          7.7201294945552945,
          13.90419309027493,
          7.849981309846044,
          3.797285025939346,
          0,
          0,
          0,
          1.1003228923073038,
          9.25613755825907,
          4.001282108947635,
          22.12951434776187,
          10.044471267610788,
          20.88637459091842,
          7.078874297440052,
          14.57070275209844,
          0,
          0,
          0,
          0,
          1.65187650709413,
          5.1111958106048405,
          20.87738122791052,
          4.259545833338052,
          8.50322786718607,
          6.3610340701416135,
          15.69675779901445,
          7.924118405207992,
          0.3859488046145998,
          0,
          0,
          0,
          0.0290720598059124,
          0.6863624352263287,
          13.929224386811256,
          12.845049519091845,
          6.716490676626563,
          25.373657885938883,
          11.36485361494124,
          4.280064417980611,
          0.1124251019064104,
          0,
          0,
          0,
          2.0500520593486726,
          5.937242740765214,
          6.289647286757827,
          9.784841816872358,
          9.998331405222416,
          10.425274120643737,
          12.5719771720469,
          2.5337838451378047,
          0.230337685206905,
          0,
          0,
          0,
          1.829757570521906,
          2.242406050208956,
          5.947319883853197,
          14.684060867875814,
          22.619986440986395,
          13.172061927616596,
          16.266938019543886,
          5.543024023063481,
          0,
          0,
          0,
          0,
          3.1222808291204274,
          26.111231837421656,
          16.710955929011106,
          24.28371962159872,
          8.230319595895708,
          20.477667544037104,
          7.699455949477851,
          3.551065153442323,
          4.5833213604055345,
          0,
          0,
          0,
          3.5185096319764853,
          3.8119185715913777,
          3.951831499580294,
          24.352483078837395,
          8.49251076579094,
          16.74895486794412,
          9.538394375704229,
          4.497960791923106,
          0,
          0,
          0,
          0,
          0.711656897328794,
          7.066927570849657,
          7.545743999071419,
          18.211072264239192,
          6.230097217485309,
          28.143420070409775,
          6.962850107811391,
          5.521951289847493,
          2.718864439520985,
          0,
          0,
          0,
          0.4382064216770232,
          1.303844407084398,
          4.047575674485415,
          17.557555390521884,
          26.990607473999265,
          19.935821508988735,
          15.16850427724421,
          17.186221154406667,
          0.322308608883759,
          0,
          0,
          0,
          1.376071450067684,
          11.008080001920462,
          3.813639795407653,
          8.317023259587586,
          5.214726668782532,
          14.406281244009731,
          8.332114457152784,
          0.9781764296349138,
          0.0077244372050699,
          0,
          0,
          0,
          3.199274791404605,
          11.900815553963184,
          10.655103391036391,
          6.846779398620129,
          19.413459626957778,
          15.956160938367248,
          6.014055339619517,
          2.4707633536309004,
          3.6586661590263247,
          0,
          0,
          0,
          1.0765337938209996,
          6.752928695641458,
          4.385404195636511,
          20.854263519868255,
          5.5828039068728685,
          20.95686555840075,
          14.904965925961733,
          6.589362141676247,
          0,
          0,
          0,
          0,
          0.1720177322567906,
          2.568604052066803,
          6.2141472939401865,
          7.468475005589426,
          10.79022386111319,
          18.680269829928875,
          11.438561975955963,
          7.591134519316256,
          0.1108875105273909,
          0,
          0,
          0,
          0.0864530316903255,
          7.514379755593836,
          4.922800697386265,
          12.182134436443448,
          18.187764706090093,
          20.200680010020733,
          9.190852381289004,
          7.901403657160699,
          2.1638945443555713,
          0,
          0,
          0,
          0.3704369664774276,
          5.0108619150705636,
          6.160012353211641,
          18.200474604964256,
          10.09847167879343,
          6.0143904061988,
          6.2928722240030766,
          1.6855007212143391,
          0,
          0,
          0,
          0,
          2.277262089774013,
          2.2154289472382516,
          13.343551894649863,
          1.3008093985263258,
          16.86344831250608,
          8.051763055846095,
          15.414099907502532,
          7.706254720687866,
          0.1809047367714811,
          0,
          0,
          0,
          5.523233721032739,
          5.56968601886183,
          10.30686234589666,
          10.885908314958217,
          11.325125908479096,
          10.622149938717484,
          27.91945980861783,
          4.169115889817476,
          0.0033329833740936,
          0,
          0,
          0,
          0.6546500022523105,
          6.597543926909566,
          18.337709829211235,
          19.283770630136132,
          9.361752052791417,
          8.431907091289759,
          14.953733514994385,
          4.8877984983846545,
          0.33619491441641,
          0,
          0,
          0,
          2.1341047366149724,
          7.682663016021252,
          22.408405411988497,
          13.743964629247785,
          2.893601660616696,
          9.604425122961402,
          12.602628534659743,
          15.105893975123765,
          0,
          0,
          0,
          0,
          1.3478749373462051,
          9.33082157280296,
          6.997074675746262,
          8.19659794215113,
          15.693358099088073,
          14.43674275651574,
          18.052712129428983,
          11.812926270067692,
          0.9404987271409482,
          0,
          0,
          0,
          0.0686100929669919,
          17.558465665206313,
          17.52587682567537,
          7.593372487463057,
          17.349506076425314,
          22.664836328476667,
          6.448552454821765,
          3.686944709625095,
          0,
          0,
          0,
          0,
          2.474521065596491,
          10.2483973139897,
          6.746642896905541,
          8.773681288585067,
          10.98970351740718,
          6.520039192400873,
          14.193515852093697,
          6.535797379910946,
          0.1558219897560775,
          0,
          0,
          0,
          9.269513189792631,
          5.7310504373162985,
          18.206753488630056,
          9.185924450866878,
          10.501542314887049,
          24.6942057274282,
          9.824170963838696,
          1.7369809036608783,
          0.2567775540228467,
          0,
          0,
          0,
          1.7707552062347531,
          5.169445532374084,
          10.192155791446568,
          10.055999946780505,
          5.541333602741361,
          21.60368738695979,
          14.221456507220864,
          15.704024909064174,
          2.928165066987276,
          0,
          0,
          0,
          1.7405277059879154,
          1.2410706578521058,
          4.641183838248253,
          7.896639802493155,
          16.83102040551603,
          13.744114246219397,
          15.095750195905566,
          6.6846153466030955,
          1.2289289734326303,
          0,
          0,
          0,
          0.0087533725036337,
          1.8648957135155797,
          15.021057380363343,
          11.937084468081594,
          19.62291835807264,
          16.785790817812085,
          12.678444106131792,
          3.080102044623345,
          1.1681012663757429,
          0,
          0,
          0,
          2.9154787422157824,
          0.5898041679756716,
          10.038660722784698,
          8.82364644203335,
          3.2801562803797424,
          22.6143185980618,
          13.499569706618786,
          16.494308039546013,
          0.8512811211403459,
          0,
          0,
          0,
          6.022820505313575,
          6.995995924808085,
          17.214238503947854,
          9.943388029932976,
          9.20412177219987,
          12.725334567949176,
          8.912695571780205,
          16.72950843349099,
          0.2038573475147131,
          0,
          0,
          0,
          1.618379750289023,
          2.8291280614212155,
          21.129695791751143,
          9.730545314960182,
          4.768707475159317,
          24.069832731038332,
          14.453577809035778,
          7.9355075256899,
          0,
          0,
          0,
          0,
          5.357477604411542,
          5.204670585226268,
          18.246503826230764,
          16.647480614483356,
          10.130091151222588,
          15.16682831570506,
          9.014802868478,
          4.724918736610562,
          0.1458449285564711,
          0,
          0,
          0,
          1.2087659648386762,
          1.70937767252326,
          8.065122971311212,
          27.451231610029936,
          14.42517447285354,
          14.326975448057055,
          5.621203291229904,
          11.257416056469085,
          0.0662134661979507,
          0,
          0,
          0,
          0.1151645796198863,
          4.216813843231648,
          14.190904470160604,
          6.124404142610729,
          15.561346895992756,
          12.429604679346085,
          17.368159163743258,
          7.889437442645431,
          0,
          0,
          0,
          0,
          8.56101019307971,
          6.3858428271487355,
          19.716323353350163,
          25.940497498959303,
          13.5532658547163,
          14.742297073826194,
          8.26501187402755,
          7.035824842751026,
          1.3545641675591469,
          0,
          0,
          0,
          5.309690069407225,
          3.878451290074736,
          17.984320828691125,
          35.31242664903402,
          24.42229008302093,
          21.458478458225727,
          10.547266015782952,
          2.9565743752755225,
          0.018776769093165,
          0,
          0,
          0,
          1.7258393112570047,
          9.70317421015352,
          9.286995115689932,
          9.819741547107697,
          7.557635405100882,
          18.17882666364312,
          5.132760771084577,
          8.678529295139015,
          0.5722345857066102,
          0,
          0,
          0,
          1.0994304553605616,
          0.8194806781830266,
          4.112067504320294,
          27.230339124798775,
          10.497897444292905,
          12.853381549939511,
          24.570966605097055,
          0.8088038099231198,
          0.1385505413054488,
          0,
          0,
          0,
          2.626487275119871,
          3.0083981109783053,
          21.47743329405785,
          13.685791287571192,
          22.274672985076904,
          12.826194008812308,
          12.389631802216172,
          8.66848232690245,
          1.3781785033643246,
          0,
          0,
          0,
          3.2473955070599914,
          5.822797701694071,
          18.54430572129786,
          8.15524896606803,
          13.868606882169844,
          11.897751549258828,
          9.528753510676324,
          17.327853105962276,
          0.1517162945674499,
          0,
          0,
          0,
          1.5653685084544122,
          1.50590802077204,
          5.010949925053865,
          10.141625488176942,
          22.602039948105812,
          8.758441102690995,
          9.497638209722936,
          5.535828578285873,
          0.0225764957576757,
          0,
          0,
          0,
          10.674673039466144,
          3.7534180213697255,
          25.859777256846428,
          14.42504245787859,
          16.061771661043167,
          16.01209002546966,
          7.134788925759494,
          12.69805021584034,
          2.862960984930396,
          0,
          0,
          0,
          0.0023565111973766,
          5.949929379858077,
          16.37764577753842,
          27.224558126181364,
          4.8097040969878435,
          9.4536024145782,
          11.682252818718553,
          24.60677158087492,
          0,
          0,
          0,
          0,
          0.4183076787739992,
          5.88053036481142,
          16.681654890999198,
          12.007126584649086,
          15.45363524928689,
          29.56219632178545,
          14.655701536685228,
          3.913589590229094,
          0.1855480688391253,
          0,
          0,
          0,
          1.3776518579106778,
          0.757526679080911,
          15.995092783123257,
          3.425350436009466,
          8.386207278817892,
          7.011668616905808,
          20.88973908685148,
          2.666485297959298,
          3.2186901080422103,
          0,
          0,
          0,
          0.0648949224341777,
          3.5280961194075644,
          11.27824173308909,
          7.695935550145805,
          9.185004117898645,
          9.54676726832986,
          13.921576319262384,
          9.124029544182122,
          0,
          0,
          0,
          0,
          8.955607982352376,
          3.5175540950149298,
          11.110470816493034,
          24.471535440534353,
          6.117623602040112,
          16.389818815514445,
          13.87336067855358,
          17.011180613189936,
          0.2121510508004576,
          0,
          0,
          0,
          2.4253307143226266,
          1.559979940066114,
          26.08094634488225,
          16.289103962481022,
          10.91267466545105,
          10.424716514535248,
          3.758888784795999,
          4.602145752869546,
          0.916399000561796,
          0,
          0,
          0,
          0.2841923298547044,
          5.259109474718571,
          11.164291435852649,
          4.7160048969089985,
          17.12107490748167,
          12.393993325531484,
          10.73105474933982,
          18.21691361255944,
          0.0445190053142141,
          0,
          0,
          0,
          0.133974483833299,
          16.461873846128583,
          3.693323547486216,
          7.096190261654556,
          6.78867835085839,
          18.588373577222228,
          4.731634841300547,
          8.958402927964926,
          0.2961381724162493,
          0,
          0,
          0,
          1.78613243624568,
          2.946975000668317,
          2.0939052337780595,
          11.887099826708436,
          19.055920327082276,
          22.080553136765957,
          10.989922285079956,
          7.009590952657163,
          0.1155073077825363,
          0,
          0,
          0,
          0.5677355467923917,
          2.265963179524988,
          4.2493351036682725,
          11.638055462390184,
          18.97395788691938,
          30.496568139642477,
          12.677883356809616,
          5.2335353451780975,
          0.1073582512617576,
          0,
          0,
          0,
          1.440534833818674,
          12.490694923326371,
          20.333644235506657,
          27.745713014155623,
          8.884753030724823,
          22.761589474976063,
          10.686873737722635,
          15.36286175251007,
          3.626880410593003,
          0,
          0,
          0,
          4.079903312958777,
          8.72174093965441,
          32.551136054098606,
          6.933057471178472,
          15.286851301789284,
          12.483001593500376,
          6.582702929154038,
          9.136342769488692,
          0.0191000645827443,
          0,
          0,
          0,
          0.2699077987927012,
          4.172279534395784,
          27.452825848013163,
          13.06390268728137,
          11.660277983173728,
          21.28501832485199,
          5.549565050750971,
          15.775911463424563,
          0.0074816957749135,
          0,
          0,
          0,
          0.1751036608766298,
          6.609187019057572,
          8.22473221924156,
          12.483446672558784,
          19.221664499491453,
          34.83569920063019,
          21.05399714782834,
          8.546242746524513,
          0.026827481087821,
          0,
          0,
          0,
          0,
          8.578725974075496,
          19.863789109513164,
          25.268020760267973,
          9.158892813138664,
          14.743525441735985,
          11.142376950010656,
          12.878072122111917,
          0.1320172832492971,
          0,
          0,
          0,
          0.4637263700715266,
          2.8366073383949697,
          3.0374291469343007,
          9.376118425279856,
          6.064867274835706,
          6.718607945367694,
          12.92172004468739,
          11.712276795879006,
          0.6048485316568986,
          0,
          0,
          0,
          1.8979873100761324,
          5.87738212198019,
          6.597123364917934,
          6.961291702464223,
          13.716223882511258,
          14.718868816271424,
          6.289445492438972,
          6.788870715536177,
          0,
          0,
          0,
          0,
          10.823150910437109,
          5.5440537398681045,
          12.262459890916944,
          9.474254585802557,
          5.933260917663574,
          21.41124475747347,
          20.996378269046545,
          11.398668307811022,
          0.4780369505169801,
          0,
          0,
          0,
          5.462442082352936,
          17.565159453079104,
          1.3804812217131257,
          24.593461956828833,
          23.630202747881413,
          9.804990445263684,
          11.173460818827152,
          7.209520717151463,
          0.0248195323365507,
          0,
          0,
          0,
          0.0867229158757254,
          4.559220769442618,
          2.43212272762321,
          9.311305359005928,
          8.590905298478901,
          11.798591958358884,
          15.81646897830069,
          12.07975996658206,
          0.4700857592979446,
          0,
          0,
          0,
          10.918958578258753,
          6.323660630732775,
          5.99228166975081,
          6.112238648347557,
          21.8742024153471,
          17.613820172846317,
          16.38511656783521,
          8.324199845083058,
          0.1710748074401635,
          0,
          0,
          0,
          0.8989463851321489,
          15.508547192439435,
          10.789813986048102,
          28.514025080949068,
          12.33976660296321,
          8.666591998189688,
          15.66405203193426,
          4.5802520122379065,
          2.900043991394341,
          0,
          0,
          0,
          0,
          0.9072446264326572,
          5.523729091510177,
          28.13850659877062,
          22.08594940602779,
          3.99837086442858,
          26.879470981657505,
          8.806104166433215,
          0.007487001789741,
          0,
          0,
          0,
          6.06020400300622,
          10.500792344100772,
          9.22654797323048,
          20.643097395077348,
          12.81758537515998,
          14.052111469209194,
          13.956381753087044,
          7.581668416969478,
          0.0045877324851062,
          0,
          0,
          0,
          2.0735538681037724,
          2.8261759551241994,
          10.522927483543754,
          26.5158087015152,
          3.42147076735273,
          20.38622642867267,
          10.800412902608514,
          21.34266486391425,
          0,
          0,
          0,
          0,
          0.9199593972880392,
          6.194811500608921,
          18.07485418394208,
          8.09832033701241,
          8.591926842927933,
          21.367285028100017,
          16.214387258514762,
          10.91033359989524,
          1.046363971545361,
          0,
          0,
          0,
          8.417350240051746,
          15.1330073364079,
          11.698415223509071,
          24.018351919949055,
          23.97948419675231,
          12.221623258665204,
          13.459483673796058,
          10.84243138320744,
          1.0330196935683489,
          0,
          0,
          0,
          1.2615763553185388,
          1.9907416601199657,
          28.347844630479813,
          25.47077815979719,
          13.090620003640652,
          31.340988725423813,
          16.37168498709798,
          22.775354236364365,
          3.704294620547443,
          0,
          0,
          0,
          2.0068015961442143,
          6.666101817972958,
          10.612832196056845,
          7.081552315503359,
          12.54133083857596,
          19.21784989535809,
          11.009038053452969,
          13.808093732222916,
          0.073914536187658,
          0,
          0,
          0,
          0.769068009685725,
          8.20356581825763,
          15.33122593536973,
          13.27803349122405,
          6.358941318467259,
          20.41519428603351,
          13.08377282693982,
          7.378544518724084,
          0,
          0,
          0,
          0,
          0.1721326167171355,
          13.471525954082608,
          25.17330441623926,
          8.973411144688725,
          11.504384642466905,
          41.646127961575985,
          7.731652515940368,
          3.836582112126053,
          0.2810474659781903,
          0,
          0,
          0,
          9.64838988147676,
          2.2957858338486403,
          7.2388733038678765,
          8.612250862643123,
          15.889124991372228,
          21.620826702564955,
          6.869076727889478,
          2.437029912834987,
          0,
          0,
          0,
          0,
          0.2904537293943576,
          3.106234723236412,
          0.9767077630385756,
          18.687290512025356,
          9.767746506258844,
          21.966831665486097,
          17.572672991082072,
          7.014985964633524,
          0,
          0,
          0,
          0,
          3.422789031174034,
          4.576249443925917,
          3.650956798810512,
          26.45933143794537,
          18.425248330459,
          6.746063916943967,
          8.538382197730243,
          19.587239110842347,
          0.0090794686457229,
          0,
          0,
          0,
          0.3015470145328436,
          15.532376524060965,
          26.780990324914455,
          10.17506739590317,
          11.092442600056527,
          18.040554178878665,
          26.021371129900217,
          4.479749011807144,
          1.8106845498550683,
          0,
          0,
          0,
          2.030245726928115,
          10.461398446932437,
          11.216076510027053,
          16.280546877533197,
          12.504850700497627,
          21.75508718937635,
          24.533637799322605,
          8.064833167009056,
          3.074472863227129,
          0,
          0,
          0,
          4.559263202827424,
          6.449951813556254,
          7.355203642509878,
          15.4003678355366,
          17.354635801166296,
          29.80519440025091,
          9.483258007094264,
          3.90890808776021,
          0,
          0,
          0,
          0,
          0.3638136651716195,
          23.436284065246586,
          8.695492590777576,
          14.932345831766725,
          10.440953727811577,
          25.47014951705933,
          15.42801302857697,
          17.932602390646935,
          0.8204720477806404,
          0,
          0,
          0,
          1.4937920321244746,
          3.455409302841872,
          29.163425602018833,
          15.506780706346037,
          7.5616467744112015,
          10.301499394699931,
          12.739853700622916,
          8.672353508882225,
          2.8581616119481623,
          0,
          0,
          0,
          0.6604108057217672,
          17.7513609174639,
          9.989092242904007,
          19.695759192109108,
          12.414179043844342,
          20.82233978435397,
          30.546899791806936,
          10.848116828128695,
          0,
          0,
          0,
          0,
          5.415369942784309,
          16.043547308072448,
          20.972238387912512,
          9.043863764964044,
          13.22955759242177,
          9.476823848672211,
          14.447129191830754,
          6.792393000796437,
          0.0374387323063274,
          0,
          0,
          0,
          0.0288357809949957,
          7.251981133595109,
          6.042704475112259,
          9.820422367192805,
          10.21372452378273,
          29.710659105330706,
          13.109181309118869,
          5.278474814258516,
          0,
          0,
          0
         ],
         "yaxis": "y"
        }
       ],
       "layout": {
        "legend": {
         "tracegroupgap": 0
        },
        "margin": {
         "t": 60
        },
        "template": {
         "data": {
          "bar": [
           {
            "error_x": {
             "color": "#2a3f5f"
            },
            "error_y": {
             "color": "#2a3f5f"
            },
            "marker": {
             "line": {
              "color": "#E5ECF6",
              "width": 0.5
             },
             "pattern": {
              "fillmode": "overlay",
              "size": 10,
              "solidity": 0.2
             }
            },
            "type": "bar"
           }
          ],
          "barpolar": [
           {
            "marker": {
             "line": {
              "color": "#E5ECF6",
              "width": 0.5
             },
             "pattern": {
              "fillmode": "overlay",
              "size": 10,
              "solidity": 0.2
             }
            },
            "type": "barpolar"
           }
          ],
          "carpet": [
           {
            "aaxis": {
             "endlinecolor": "#2a3f5f",
             "gridcolor": "white",
             "linecolor": "white",
             "minorgridcolor": "white",
             "startlinecolor": "#2a3f5f"
            },
            "baxis": {
             "endlinecolor": "#2a3f5f",
             "gridcolor": "white",
             "linecolor": "white",
             "minorgridcolor": "white",
             "startlinecolor": "#2a3f5f"
            },
            "type": "carpet"
           }
          ],
          "choropleth": [
           {
            "colorbar": {
             "outlinewidth": 0,
             "ticks": ""
            },
            "type": "choropleth"
           }
          ],
          "contour": [
           {
            "colorbar": {
             "outlinewidth": 0,
             "ticks": ""
            },
            "colorscale": [
             [
              0,
              "#0d0887"
             ],
             [
              0.1111111111111111,
              "#46039f"
             ],
             [
              0.2222222222222222,
              "#7201a8"
             ],
             [
              0.3333333333333333,
              "#9c179e"
             ],
             [
              0.4444444444444444,
              "#bd3786"
             ],
             [
              0.5555555555555556,
              "#d8576b"
             ],
             [
              0.6666666666666666,
              "#ed7953"
             ],
             [
              0.7777777777777778,
              "#fb9f3a"
             ],
             [
              0.8888888888888888,
              "#fdca26"
             ],
             [
              1,
              "#f0f921"
             ]
            ],
            "type": "contour"
           }
          ],
          "contourcarpet": [
           {
            "colorbar": {
             "outlinewidth": 0,
             "ticks": ""
            },
            "type": "contourcarpet"
           }
          ],
          "heatmap": [
           {
            "colorbar": {
             "outlinewidth": 0,
             "ticks": ""
            },
            "colorscale": [
             [
              0,
              "#0d0887"
             ],
             [
              0.1111111111111111,
              "#46039f"
             ],
             [
              0.2222222222222222,
              "#7201a8"
             ],
             [
              0.3333333333333333,
              "#9c179e"
             ],
             [
              0.4444444444444444,
              "#bd3786"
             ],
             [
              0.5555555555555556,
              "#d8576b"
             ],
             [
              0.6666666666666666,
              "#ed7953"
             ],
             [
              0.7777777777777778,
              "#fb9f3a"
             ],
             [
              0.8888888888888888,
              "#fdca26"
             ],
             [
              1,
              "#f0f921"
             ]
            ],
            "type": "heatmap"
           }
          ],
          "heatmapgl": [
           {
            "colorbar": {
             "outlinewidth": 0,
             "ticks": ""
            },
            "colorscale": [
             [
              0,
              "#0d0887"
             ],
             [
              0.1111111111111111,
              "#46039f"
             ],
             [
              0.2222222222222222,
              "#7201a8"
             ],
             [
              0.3333333333333333,
              "#9c179e"
             ],
             [
              0.4444444444444444,
              "#bd3786"
             ],
             [
              0.5555555555555556,
              "#d8576b"
             ],
             [
              0.6666666666666666,
              "#ed7953"
             ],
             [
              0.7777777777777778,
              "#fb9f3a"
             ],
             [
              0.8888888888888888,
              "#fdca26"
             ],
             [
              1,
              "#f0f921"
             ]
            ],
            "type": "heatmapgl"
           }
          ],
          "histogram": [
           {
            "marker": {
             "pattern": {
              "fillmode": "overlay",
              "size": 10,
              "solidity": 0.2
             }
            },
            "type": "histogram"
           }
          ],
          "histogram2d": [
           {
            "colorbar": {
             "outlinewidth": 0,
             "ticks": ""
            },
            "colorscale": [
             [
              0,
              "#0d0887"
             ],
             [
              0.1111111111111111,
              "#46039f"
             ],
             [
              0.2222222222222222,
              "#7201a8"
             ],
             [
              0.3333333333333333,
              "#9c179e"
             ],
             [
              0.4444444444444444,
              "#bd3786"
             ],
             [
              0.5555555555555556,
              "#d8576b"
             ],
             [
              0.6666666666666666,
              "#ed7953"
             ],
             [
              0.7777777777777778,
              "#fb9f3a"
             ],
             [
              0.8888888888888888,
              "#fdca26"
             ],
             [
              1,
              "#f0f921"
             ]
            ],
            "type": "histogram2d"
           }
          ],
          "histogram2dcontour": [
           {
            "colorbar": {
             "outlinewidth": 0,
             "ticks": ""
            },
            "colorscale": [
             [
              0,
              "#0d0887"
             ],
             [
              0.1111111111111111,
              "#46039f"
             ],
             [
              0.2222222222222222,
              "#7201a8"
             ],
             [
              0.3333333333333333,
              "#9c179e"
             ],
             [
              0.4444444444444444,
              "#bd3786"
             ],
             [
              0.5555555555555556,
              "#d8576b"
             ],
             [
              0.6666666666666666,
              "#ed7953"
             ],
             [
              0.7777777777777778,
              "#fb9f3a"
             ],
             [
              0.8888888888888888,
              "#fdca26"
             ],
             [
              1,
              "#f0f921"
             ]
            ],
            "type": "histogram2dcontour"
           }
          ],
          "mesh3d": [
           {
            "colorbar": {
             "outlinewidth": 0,
             "ticks": ""
            },
            "type": "mesh3d"
           }
          ],
          "parcoords": [
           {
            "line": {
             "colorbar": {
              "outlinewidth": 0,
              "ticks": ""
             }
            },
            "type": "parcoords"
           }
          ],
          "pie": [
           {
            "automargin": true,
            "type": "pie"
           }
          ],
          "scatter": [
           {
            "fillpattern": {
             "fillmode": "overlay",
             "size": 10,
             "solidity": 0.2
            },
            "type": "scatter"
           }
          ],
          "scatter3d": [
           {
            "line": {
             "colorbar": {
              "outlinewidth": 0,
              "ticks": ""
             }
            },
            "marker": {
             "colorbar": {
              "outlinewidth": 0,
              "ticks": ""
             }
            },
            "type": "scatter3d"
           }
          ],
          "scattercarpet": [
           {
            "marker": {
             "colorbar": {
              "outlinewidth": 0,
              "ticks": ""
             }
            },
            "type": "scattercarpet"
           }
          ],
          "scattergeo": [
           {
            "marker": {
             "colorbar": {
              "outlinewidth": 0,
              "ticks": ""
             }
            },
            "type": "scattergeo"
           }
          ],
          "scattergl": [
           {
            "marker": {
             "colorbar": {
              "outlinewidth": 0,
              "ticks": ""
             }
            },
            "type": "scattergl"
           }
          ],
          "scattermapbox": [
           {
            "marker": {
             "colorbar": {
              "outlinewidth": 0,
              "ticks": ""
             }
            },
            "type": "scattermapbox"
           }
          ],
          "scatterpolar": [
           {
            "marker": {
             "colorbar": {
              "outlinewidth": 0,
              "ticks": ""
             }
            },
            "type": "scatterpolar"
           }
          ],
          "scatterpolargl": [
           {
            "marker": {
             "colorbar": {
              "outlinewidth": 0,
              "ticks": ""
             }
            },
            "type": "scatterpolargl"
           }
          ],
          "scatterternary": [
           {
            "marker": {
             "colorbar": {
              "outlinewidth": 0,
              "ticks": ""
             }
            },
            "type": "scatterternary"
           }
          ],
          "surface": [
           {
            "colorbar": {
             "outlinewidth": 0,
             "ticks": ""
            },
            "colorscale": [
             [
              0,
              "#0d0887"
             ],
             [
              0.1111111111111111,
              "#46039f"
             ],
             [
              0.2222222222222222,
              "#7201a8"
             ],
             [
              0.3333333333333333,
              "#9c179e"
             ],
             [
              0.4444444444444444,
              "#bd3786"
             ],
             [
              0.5555555555555556,
              "#d8576b"
             ],
             [
              0.6666666666666666,
              "#ed7953"
             ],
             [
              0.7777777777777778,
              "#fb9f3a"
             ],
             [
              0.8888888888888888,
              "#fdca26"
             ],
             [
              1,
              "#f0f921"
             ]
            ],
            "type": "surface"
           }
          ],
          "table": [
           {
            "cells": {
             "fill": {
              "color": "#EBF0F8"
             },
             "line": {
              "color": "white"
             }
            },
            "header": {
             "fill": {
              "color": "#C8D4E3"
             },
             "line": {
              "color": "white"
             }
            },
            "type": "table"
           }
          ]
         },
         "layout": {
          "annotationdefaults": {
           "arrowcolor": "#2a3f5f",
           "arrowhead": 0,
           "arrowwidth": 1
          },
          "autotypenumbers": "strict",
          "coloraxis": {
           "colorbar": {
            "outlinewidth": 0,
            "ticks": ""
           }
          },
          "colorscale": {
           "diverging": [
            [
             0,
             "#8e0152"
            ],
            [
             0.1,
             "#c51b7d"
            ],
            [
             0.2,
             "#de77ae"
            ],
            [
             0.3,
             "#f1b6da"
            ],
            [
             0.4,
             "#fde0ef"
            ],
            [
             0.5,
             "#f7f7f7"
            ],
            [
             0.6,
             "#e6f5d0"
            ],
            [
             0.7,
             "#b8e186"
            ],
            [
             0.8,
             "#7fbc41"
            ],
            [
             0.9,
             "#4d9221"
            ],
            [
             1,
             "#276419"
            ]
           ],
           "sequential": [
            [
             0,
             "#0d0887"
            ],
            [
             0.1111111111111111,
             "#46039f"
            ],
            [
             0.2222222222222222,
             "#7201a8"
            ],
            [
             0.3333333333333333,
             "#9c179e"
            ],
            [
             0.4444444444444444,
             "#bd3786"
            ],
            [
             0.5555555555555556,
             "#d8576b"
            ],
            [
             0.6666666666666666,
             "#ed7953"
            ],
            [
             0.7777777777777778,
             "#fb9f3a"
            ],
            [
             0.8888888888888888,
             "#fdca26"
            ],
            [
             1,
             "#f0f921"
            ]
           ],
           "sequentialminus": [
            [
             0,
             "#0d0887"
            ],
            [
             0.1111111111111111,
             "#46039f"
            ],
            [
             0.2222222222222222,
             "#7201a8"
            ],
            [
             0.3333333333333333,
             "#9c179e"
            ],
            [
             0.4444444444444444,
             "#bd3786"
            ],
            [
             0.5555555555555556,
             "#d8576b"
            ],
            [
             0.6666666666666666,
             "#ed7953"
            ],
            [
             0.7777777777777778,
             "#fb9f3a"
            ],
            [
             0.8888888888888888,
             "#fdca26"
            ],
            [
             1,
             "#f0f921"
            ]
           ]
          },
          "colorway": [
           "#636efa",
           "#EF553B",
           "#00cc96",
           "#ab63fa",
           "#FFA15A",
           "#19d3f3",
           "#FF6692",
           "#B6E880",
           "#FF97FF",
           "#FECB52"
          ],
          "font": {
           "color": "#2a3f5f"
          },
          "geo": {
           "bgcolor": "white",
           "lakecolor": "white",
           "landcolor": "#E5ECF6",
           "showlakes": true,
           "showland": true,
           "subunitcolor": "white"
          },
          "hoverlabel": {
           "align": "left"
          },
          "hovermode": "closest",
          "mapbox": {
           "style": "light"
          },
          "paper_bgcolor": "white",
          "plot_bgcolor": "#E5ECF6",
          "polar": {
           "angularaxis": {
            "gridcolor": "white",
            "linecolor": "white",
            "ticks": ""
           },
           "bgcolor": "#E5ECF6",
           "radialaxis": {
            "gridcolor": "white",
            "linecolor": "white",
            "ticks": ""
           }
          },
          "scene": {
           "xaxis": {
            "backgroundcolor": "#E5ECF6",
            "gridcolor": "white",
            "gridwidth": 2,
            "linecolor": "white",
            "showbackground": true,
            "ticks": "",
            "zerolinecolor": "white"
           },
           "yaxis": {
            "backgroundcolor": "#E5ECF6",
            "gridcolor": "white",
            "gridwidth": 2,
            "linecolor": "white",
            "showbackground": true,
            "ticks": "",
            "zerolinecolor": "white"
           },
           "zaxis": {
            "backgroundcolor": "#E5ECF6",
            "gridcolor": "white",
            "gridwidth": 2,
            "linecolor": "white",
            "showbackground": true,
            "ticks": "",
            "zerolinecolor": "white"
           }
          },
          "shapedefaults": {
           "line": {
            "color": "#2a3f5f"
           }
          },
          "ternary": {
           "aaxis": {
            "gridcolor": "white",
            "linecolor": "white",
            "ticks": ""
           },
           "baxis": {
            "gridcolor": "white",
            "linecolor": "white",
            "ticks": ""
           },
           "bgcolor": "#E5ECF6",
           "caxis": {
            "gridcolor": "white",
            "linecolor": "white",
            "ticks": ""
           }
          },
          "title": {
           "x": 0.05
          },
          "xaxis": {
           "automargin": true,
           "gridcolor": "white",
           "linecolor": "white",
           "ticks": "",
           "title": {
            "standoff": 15
           },
           "zerolinecolor": "white",
           "zerolinewidth": 2
          },
          "yaxis": {
           "automargin": true,
           "gridcolor": "white",
           "linecolor": "white",
           "ticks": "",
           "title": {
            "standoff": 15
           },
           "zerolinecolor": "white",
           "zerolinewidth": 2
          }
         }
        },
        "xaxis": {
         "anchor": "y",
         "domain": [
          0,
          1
         ],
         "title": {
          "text": "index"
         }
        },
        "yaxis": {
         "anchor": "x",
         "domain": [
          0,
          1
         ],
         "title": {
          "text": "RX1day"
         }
        }
       }
      }
     },
     "metadata": {},
     "output_type": "display_data"
    }
   ],
   "source": [
    "fig = px.line(model_list[0].df_monthly, y=\"RX1day\")\n",
    "fig.show()"
   ]
  },
  {
   "cell_type": "code",
   "execution_count": 7,
   "metadata": {},
   "outputs": [
    {
     "data": {
      "application/vnd.plotly.v1+json": {
       "config": {
        "plotlyServerURL": "https://plot.ly"
       },
       "data": [
        {
         "hovertemplate": "index=%{x}<br>RX5day=%{y}<extra></extra>",
         "legendgroup": "",
         "line": {
          "color": "#636efa",
          "dash": "solid"
         },
         "marker": {
          "symbol": "circle"
         },
         "mode": "lines",
         "name": "",
         "showlegend": false,
         "type": "scattergl",
         "x": [
          "2015-01-31T12:00:00",
          "2015-02-28T12:00:00",
          "2015-03-31T12:00:00",
          "2015-04-30T12:00:00",
          "2015-05-31T12:00:00",
          "2015-06-30T12:00:00",
          "2015-07-31T12:00:00",
          "2015-08-31T12:00:00",
          "2015-09-30T12:00:00",
          "2015-10-31T12:00:00",
          "2015-11-30T12:00:00",
          "2015-12-31T12:00:00",
          "2016-01-31T12:00:00",
          "2016-02-29T12:00:00",
          "2016-03-31T12:00:00",
          "2016-04-30T12:00:00",
          "2016-05-31T12:00:00",
          "2016-06-30T12:00:00",
          "2016-07-31T12:00:00",
          "2016-08-31T12:00:00",
          "2016-09-30T12:00:00",
          "2016-10-31T12:00:00",
          "2016-11-30T12:00:00",
          "2016-12-31T12:00:00",
          "2017-01-31T12:00:00",
          "2017-02-28T12:00:00",
          "2017-03-31T12:00:00",
          "2017-04-30T12:00:00",
          "2017-05-31T12:00:00",
          "2017-06-30T12:00:00",
          "2017-07-31T12:00:00",
          "2017-08-31T12:00:00",
          "2017-09-30T12:00:00",
          "2017-10-31T12:00:00",
          "2017-11-30T12:00:00",
          "2017-12-31T12:00:00",
          "2018-01-31T12:00:00",
          "2018-02-28T12:00:00",
          "2018-03-31T12:00:00",
          "2018-04-30T12:00:00",
          "2018-05-31T12:00:00",
          "2018-06-30T12:00:00",
          "2018-07-31T12:00:00",
          "2018-08-31T12:00:00",
          "2018-09-30T12:00:00",
          "2018-10-31T12:00:00",
          "2018-11-30T12:00:00",
          "2018-12-31T12:00:00",
          "2019-01-31T12:00:00",
          "2019-02-28T12:00:00",
          "2019-03-31T12:00:00",
          "2019-04-30T12:00:00",
          "2019-05-31T12:00:00",
          "2019-06-30T12:00:00",
          "2019-07-31T12:00:00",
          "2019-08-31T12:00:00",
          "2019-09-30T12:00:00",
          "2019-10-31T12:00:00",
          "2019-11-30T12:00:00",
          "2019-12-31T12:00:00",
          "2020-01-31T12:00:00",
          "2020-02-29T12:00:00",
          "2020-03-31T12:00:00",
          "2020-04-30T12:00:00",
          "2020-05-31T12:00:00",
          "2020-06-30T12:00:00",
          "2020-07-31T12:00:00",
          "2020-08-31T12:00:00",
          "2020-09-30T12:00:00",
          "2020-10-31T12:00:00",
          "2020-11-30T12:00:00",
          "2020-12-31T12:00:00",
          "2021-01-31T12:00:00",
          "2021-02-28T12:00:00",
          "2021-03-31T12:00:00",
          "2021-04-30T12:00:00",
          "2021-05-31T12:00:00",
          "2021-06-30T12:00:00",
          "2021-07-31T12:00:00",
          "2021-08-31T12:00:00",
          "2021-09-30T12:00:00",
          "2021-10-31T12:00:00",
          "2021-11-30T12:00:00",
          "2021-12-31T12:00:00",
          "2022-01-31T12:00:00",
          "2022-02-28T12:00:00",
          "2022-03-31T12:00:00",
          "2022-04-30T12:00:00",
          "2022-05-31T12:00:00",
          "2022-06-30T12:00:00",
          "2022-07-31T12:00:00",
          "2022-08-31T12:00:00",
          "2022-09-30T12:00:00",
          "2022-10-31T12:00:00",
          "2022-11-30T12:00:00",
          "2022-12-31T12:00:00",
          "2023-01-31T12:00:00",
          "2023-02-28T12:00:00",
          "2023-03-31T12:00:00",
          "2023-04-30T12:00:00",
          "2023-05-31T12:00:00",
          "2023-06-30T12:00:00",
          "2023-07-31T12:00:00",
          "2023-08-31T12:00:00",
          "2023-09-30T12:00:00",
          "2023-10-31T12:00:00",
          "2023-11-30T12:00:00",
          "2023-12-31T12:00:00",
          "2024-01-31T12:00:00",
          "2024-02-29T12:00:00",
          "2024-03-31T12:00:00",
          "2024-04-30T12:00:00",
          "2024-05-31T12:00:00",
          "2024-06-30T12:00:00",
          "2024-07-31T12:00:00",
          "2024-08-31T12:00:00",
          "2024-09-30T12:00:00",
          "2024-10-31T12:00:00",
          "2024-11-30T12:00:00",
          "2024-12-31T12:00:00",
          "2025-01-31T12:00:00",
          "2025-02-28T12:00:00",
          "2025-03-31T12:00:00",
          "2025-04-30T12:00:00",
          "2025-05-31T12:00:00",
          "2025-06-30T12:00:00",
          "2025-07-31T12:00:00",
          "2025-08-31T12:00:00",
          "2025-09-30T12:00:00",
          "2025-10-31T12:00:00",
          "2025-11-30T12:00:00",
          "2025-12-31T12:00:00",
          "2026-01-31T12:00:00",
          "2026-02-28T12:00:00",
          "2026-03-31T12:00:00",
          "2026-04-30T12:00:00",
          "2026-05-31T12:00:00",
          "2026-06-30T12:00:00",
          "2026-07-31T12:00:00",
          "2026-08-31T12:00:00",
          "2026-09-30T12:00:00",
          "2026-10-31T12:00:00",
          "2026-11-30T12:00:00",
          "2026-12-31T12:00:00",
          "2027-01-31T12:00:00",
          "2027-02-28T12:00:00",
          "2027-03-31T12:00:00",
          "2027-04-30T12:00:00",
          "2027-05-31T12:00:00",
          "2027-06-30T12:00:00",
          "2027-07-31T12:00:00",
          "2027-08-31T12:00:00",
          "2027-09-30T12:00:00",
          "2027-10-31T12:00:00",
          "2027-11-30T12:00:00",
          "2027-12-31T12:00:00",
          "2028-01-31T12:00:00",
          "2028-02-29T12:00:00",
          "2028-03-31T12:00:00",
          "2028-04-30T12:00:00",
          "2028-05-31T12:00:00",
          "2028-06-30T12:00:00",
          "2028-07-31T12:00:00",
          "2028-08-31T12:00:00",
          "2028-09-30T12:00:00",
          "2028-10-31T12:00:00",
          "2028-11-30T12:00:00",
          "2028-12-31T12:00:00",
          "2029-01-31T12:00:00",
          "2029-02-28T12:00:00",
          "2029-03-31T12:00:00",
          "2029-04-30T12:00:00",
          "2029-05-31T12:00:00",
          "2029-06-30T12:00:00",
          "2029-07-31T12:00:00",
          "2029-08-31T12:00:00",
          "2029-09-30T12:00:00",
          "2029-10-31T12:00:00",
          "2029-11-30T12:00:00",
          "2029-12-31T12:00:00",
          "2030-01-31T12:00:00",
          "2030-02-28T12:00:00",
          "2030-03-31T12:00:00",
          "2030-04-30T12:00:00",
          "2030-05-31T12:00:00",
          "2030-06-30T12:00:00",
          "2030-07-31T12:00:00",
          "2030-08-31T12:00:00",
          "2030-09-30T12:00:00",
          "2030-10-31T12:00:00",
          "2030-11-30T12:00:00",
          "2030-12-31T12:00:00",
          "2031-01-31T12:00:00",
          "2031-02-28T12:00:00",
          "2031-03-31T12:00:00",
          "2031-04-30T12:00:00",
          "2031-05-31T12:00:00",
          "2031-06-30T12:00:00",
          "2031-07-31T12:00:00",
          "2031-08-31T12:00:00",
          "2031-09-30T12:00:00",
          "2031-10-31T12:00:00",
          "2031-11-30T12:00:00",
          "2031-12-31T12:00:00",
          "2032-01-31T12:00:00",
          "2032-02-29T12:00:00",
          "2032-03-31T12:00:00",
          "2032-04-30T12:00:00",
          "2032-05-31T12:00:00",
          "2032-06-30T12:00:00",
          "2032-07-31T12:00:00",
          "2032-08-31T12:00:00",
          "2032-09-30T12:00:00",
          "2032-10-31T12:00:00",
          "2032-11-30T12:00:00",
          "2032-12-31T12:00:00",
          "2033-01-31T12:00:00",
          "2033-02-28T12:00:00",
          "2033-03-31T12:00:00",
          "2033-04-30T12:00:00",
          "2033-05-31T12:00:00",
          "2033-06-30T12:00:00",
          "2033-07-31T12:00:00",
          "2033-08-31T12:00:00",
          "2033-09-30T12:00:00",
          "2033-10-31T12:00:00",
          "2033-11-30T12:00:00",
          "2033-12-31T12:00:00",
          "2034-01-31T12:00:00",
          "2034-02-28T12:00:00",
          "2034-03-31T12:00:00",
          "2034-04-30T12:00:00",
          "2034-05-31T12:00:00",
          "2034-06-30T12:00:00",
          "2034-07-31T12:00:00",
          "2034-08-31T12:00:00",
          "2034-09-30T12:00:00",
          "2034-10-31T12:00:00",
          "2034-11-30T12:00:00",
          "2034-12-31T12:00:00",
          "2035-01-31T12:00:00",
          "2035-02-28T12:00:00",
          "2035-03-31T12:00:00",
          "2035-04-30T12:00:00",
          "2035-05-31T12:00:00",
          "2035-06-30T12:00:00",
          "2035-07-31T12:00:00",
          "2035-08-31T12:00:00",
          "2035-09-30T12:00:00",
          "2035-10-31T12:00:00",
          "2035-11-30T12:00:00",
          "2035-12-31T12:00:00",
          "2036-01-31T12:00:00",
          "2036-02-29T12:00:00",
          "2036-03-31T12:00:00",
          "2036-04-30T12:00:00",
          "2036-05-31T12:00:00",
          "2036-06-30T12:00:00",
          "2036-07-31T12:00:00",
          "2036-08-31T12:00:00",
          "2036-09-30T12:00:00",
          "2036-10-31T12:00:00",
          "2036-11-30T12:00:00",
          "2036-12-31T12:00:00",
          "2037-01-31T12:00:00",
          "2037-02-28T12:00:00",
          "2037-03-31T12:00:00",
          "2037-04-30T12:00:00",
          "2037-05-31T12:00:00",
          "2037-06-30T12:00:00",
          "2037-07-31T12:00:00",
          "2037-08-31T12:00:00",
          "2037-09-30T12:00:00",
          "2037-10-31T12:00:00",
          "2037-11-30T12:00:00",
          "2037-12-31T12:00:00",
          "2038-01-31T12:00:00",
          "2038-02-28T12:00:00",
          "2038-03-31T12:00:00",
          "2038-04-30T12:00:00",
          "2038-05-31T12:00:00",
          "2038-06-30T12:00:00",
          "2038-07-31T12:00:00",
          "2038-08-31T12:00:00",
          "2038-09-30T12:00:00",
          "2038-10-31T12:00:00",
          "2038-11-30T12:00:00",
          "2038-12-31T12:00:00",
          "2039-01-31T12:00:00",
          "2039-02-28T12:00:00",
          "2039-03-31T12:00:00",
          "2039-04-30T12:00:00",
          "2039-05-31T12:00:00",
          "2039-06-30T12:00:00",
          "2039-07-31T12:00:00",
          "2039-08-31T12:00:00",
          "2039-09-30T12:00:00",
          "2039-10-31T12:00:00",
          "2039-11-30T12:00:00",
          "2039-12-31T12:00:00",
          "2040-01-31T12:00:00",
          "2040-02-29T12:00:00",
          "2040-03-31T12:00:00",
          "2040-04-30T12:00:00",
          "2040-05-31T12:00:00",
          "2040-06-30T12:00:00",
          "2040-07-31T12:00:00",
          "2040-08-31T12:00:00",
          "2040-09-30T12:00:00",
          "2040-10-31T12:00:00",
          "2040-11-30T12:00:00",
          "2040-12-31T12:00:00",
          "2041-01-31T12:00:00",
          "2041-02-28T12:00:00",
          "2041-03-31T12:00:00",
          "2041-04-30T12:00:00",
          "2041-05-31T12:00:00",
          "2041-06-30T12:00:00",
          "2041-07-31T12:00:00",
          "2041-08-31T12:00:00",
          "2041-09-30T12:00:00",
          "2041-10-31T12:00:00",
          "2041-11-30T12:00:00",
          "2041-12-31T12:00:00",
          "2042-01-31T12:00:00",
          "2042-02-28T12:00:00",
          "2042-03-31T12:00:00",
          "2042-04-30T12:00:00",
          "2042-05-31T12:00:00",
          "2042-06-30T12:00:00",
          "2042-07-31T12:00:00",
          "2042-08-31T12:00:00",
          "2042-09-30T12:00:00",
          "2042-10-31T12:00:00",
          "2042-11-30T12:00:00",
          "2042-12-31T12:00:00",
          "2043-01-31T12:00:00",
          "2043-02-28T12:00:00",
          "2043-03-31T12:00:00",
          "2043-04-30T12:00:00",
          "2043-05-31T12:00:00",
          "2043-06-30T12:00:00",
          "2043-07-31T12:00:00",
          "2043-08-31T12:00:00",
          "2043-09-30T12:00:00",
          "2043-10-31T12:00:00",
          "2043-11-30T12:00:00",
          "2043-12-31T12:00:00",
          "2044-01-31T12:00:00",
          "2044-02-29T12:00:00",
          "2044-03-31T12:00:00",
          "2044-04-30T12:00:00",
          "2044-05-31T12:00:00",
          "2044-06-30T12:00:00",
          "2044-07-31T12:00:00",
          "2044-08-31T12:00:00",
          "2044-09-30T12:00:00",
          "2044-10-31T12:00:00",
          "2044-11-30T12:00:00",
          "2044-12-31T12:00:00",
          "2045-01-31T12:00:00",
          "2045-02-28T12:00:00",
          "2045-03-31T12:00:00",
          "2045-04-30T12:00:00",
          "2045-05-31T12:00:00",
          "2045-06-30T12:00:00",
          "2045-07-31T12:00:00",
          "2045-08-31T12:00:00",
          "2045-09-30T12:00:00",
          "2045-10-31T12:00:00",
          "2045-11-30T12:00:00",
          "2045-12-31T12:00:00",
          "2046-01-31T12:00:00",
          "2046-02-28T12:00:00",
          "2046-03-31T12:00:00",
          "2046-04-30T12:00:00",
          "2046-05-31T12:00:00",
          "2046-06-30T12:00:00",
          "2046-07-31T12:00:00",
          "2046-08-31T12:00:00",
          "2046-09-30T12:00:00",
          "2046-10-31T12:00:00",
          "2046-11-30T12:00:00",
          "2046-12-31T12:00:00",
          "2047-01-31T12:00:00",
          "2047-02-28T12:00:00",
          "2047-03-31T12:00:00",
          "2047-04-30T12:00:00",
          "2047-05-31T12:00:00",
          "2047-06-30T12:00:00",
          "2047-07-31T12:00:00",
          "2047-08-31T12:00:00",
          "2047-09-30T12:00:00",
          "2047-10-31T12:00:00",
          "2047-11-30T12:00:00",
          "2047-12-31T12:00:00",
          "2048-01-31T12:00:00",
          "2048-02-29T12:00:00",
          "2048-03-31T12:00:00",
          "2048-04-30T12:00:00",
          "2048-05-31T12:00:00",
          "2048-06-30T12:00:00",
          "2048-07-31T12:00:00",
          "2048-08-31T12:00:00",
          "2048-09-30T12:00:00",
          "2048-10-31T12:00:00",
          "2048-11-30T12:00:00",
          "2048-12-31T12:00:00",
          "2049-01-31T12:00:00",
          "2049-02-28T12:00:00",
          "2049-03-31T12:00:00",
          "2049-04-30T12:00:00",
          "2049-05-31T12:00:00",
          "2049-06-30T12:00:00",
          "2049-07-31T12:00:00",
          "2049-08-31T12:00:00",
          "2049-09-30T12:00:00",
          "2049-10-31T12:00:00",
          "2049-11-30T12:00:00",
          "2049-12-31T12:00:00",
          "2050-01-31T12:00:00",
          "2050-02-28T12:00:00",
          "2050-03-31T12:00:00",
          "2050-04-30T12:00:00",
          "2050-05-31T12:00:00",
          "2050-06-30T12:00:00",
          "2050-07-31T12:00:00",
          "2050-08-31T12:00:00",
          "2050-09-30T12:00:00",
          "2050-10-31T12:00:00",
          "2050-11-30T12:00:00",
          "2050-12-31T12:00:00",
          "2051-01-31T12:00:00",
          "2051-02-28T12:00:00",
          "2051-03-31T12:00:00",
          "2051-04-30T12:00:00",
          "2051-05-31T12:00:00",
          "2051-06-30T12:00:00",
          "2051-07-31T12:00:00",
          "2051-08-31T12:00:00",
          "2051-09-30T12:00:00",
          "2051-10-31T12:00:00",
          "2051-11-30T12:00:00",
          "2051-12-31T12:00:00",
          "2052-01-31T12:00:00",
          "2052-02-29T12:00:00",
          "2052-03-31T12:00:00",
          "2052-04-30T12:00:00",
          "2052-05-31T12:00:00",
          "2052-06-30T12:00:00",
          "2052-07-31T12:00:00",
          "2052-08-31T12:00:00",
          "2052-09-30T12:00:00",
          "2052-10-31T12:00:00",
          "2052-11-30T12:00:00",
          "2052-12-31T12:00:00",
          "2053-01-31T12:00:00",
          "2053-02-28T12:00:00",
          "2053-03-31T12:00:00",
          "2053-04-30T12:00:00",
          "2053-05-31T12:00:00",
          "2053-06-30T12:00:00",
          "2053-07-31T12:00:00",
          "2053-08-31T12:00:00",
          "2053-09-30T12:00:00",
          "2053-10-31T12:00:00",
          "2053-11-30T12:00:00",
          "2053-12-31T12:00:00",
          "2054-01-31T12:00:00",
          "2054-02-28T12:00:00",
          "2054-03-31T12:00:00",
          "2054-04-30T12:00:00",
          "2054-05-31T12:00:00",
          "2054-06-30T12:00:00",
          "2054-07-31T12:00:00",
          "2054-08-31T12:00:00",
          "2054-09-30T12:00:00",
          "2054-10-31T12:00:00",
          "2054-11-30T12:00:00",
          "2054-12-31T12:00:00",
          "2055-01-31T12:00:00",
          "2055-02-28T12:00:00",
          "2055-03-31T12:00:00",
          "2055-04-30T12:00:00",
          "2055-05-31T12:00:00",
          "2055-06-30T12:00:00",
          "2055-07-31T12:00:00",
          "2055-08-31T12:00:00",
          "2055-09-30T12:00:00",
          "2055-10-31T12:00:00",
          "2055-11-30T12:00:00",
          "2055-12-31T12:00:00",
          "2056-01-31T12:00:00",
          "2056-02-29T12:00:00",
          "2056-03-31T12:00:00",
          "2056-04-30T12:00:00",
          "2056-05-31T12:00:00",
          "2056-06-30T12:00:00",
          "2056-07-31T12:00:00",
          "2056-08-31T12:00:00",
          "2056-09-30T12:00:00",
          "2056-10-31T12:00:00",
          "2056-11-30T12:00:00",
          "2056-12-31T12:00:00",
          "2057-01-31T12:00:00",
          "2057-02-28T12:00:00",
          "2057-03-31T12:00:00",
          "2057-04-30T12:00:00",
          "2057-05-31T12:00:00",
          "2057-06-30T12:00:00",
          "2057-07-31T12:00:00",
          "2057-08-31T12:00:00",
          "2057-09-30T12:00:00",
          "2057-10-31T12:00:00",
          "2057-11-30T12:00:00",
          "2057-12-31T12:00:00",
          "2058-01-31T12:00:00",
          "2058-02-28T12:00:00",
          "2058-03-31T12:00:00",
          "2058-04-30T12:00:00",
          "2058-05-31T12:00:00",
          "2058-06-30T12:00:00",
          "2058-07-31T12:00:00",
          "2058-08-31T12:00:00",
          "2058-09-30T12:00:00",
          "2058-10-31T12:00:00",
          "2058-11-30T12:00:00",
          "2058-12-31T12:00:00",
          "2059-01-31T12:00:00",
          "2059-02-28T12:00:00",
          "2059-03-31T12:00:00",
          "2059-04-30T12:00:00",
          "2059-05-31T12:00:00",
          "2059-06-30T12:00:00",
          "2059-07-31T12:00:00",
          "2059-08-31T12:00:00",
          "2059-09-30T12:00:00",
          "2059-10-31T12:00:00",
          "2059-11-30T12:00:00",
          "2059-12-31T12:00:00",
          "2060-01-31T12:00:00",
          "2060-02-29T12:00:00",
          "2060-03-31T12:00:00",
          "2060-04-30T12:00:00",
          "2060-05-31T12:00:00",
          "2060-06-30T12:00:00",
          "2060-07-31T12:00:00",
          "2060-08-31T12:00:00",
          "2060-09-30T12:00:00",
          "2060-10-31T12:00:00",
          "2060-11-30T12:00:00",
          "2060-12-31T12:00:00",
          "2061-01-31T12:00:00",
          "2061-02-28T12:00:00",
          "2061-03-31T12:00:00",
          "2061-04-30T12:00:00",
          "2061-05-31T12:00:00",
          "2061-06-30T12:00:00",
          "2061-07-31T12:00:00",
          "2061-08-31T12:00:00",
          "2061-09-30T12:00:00",
          "2061-10-31T12:00:00",
          "2061-11-30T12:00:00",
          "2061-12-31T12:00:00",
          "2062-01-31T12:00:00",
          "2062-02-28T12:00:00",
          "2062-03-31T12:00:00",
          "2062-04-30T12:00:00",
          "2062-05-31T12:00:00",
          "2062-06-30T12:00:00",
          "2062-07-31T12:00:00",
          "2062-08-31T12:00:00",
          "2062-09-30T12:00:00",
          "2062-10-31T12:00:00",
          "2062-11-30T12:00:00",
          "2062-12-31T12:00:00",
          "2063-01-31T12:00:00",
          "2063-02-28T12:00:00",
          "2063-03-31T12:00:00",
          "2063-04-30T12:00:00",
          "2063-05-31T12:00:00",
          "2063-06-30T12:00:00",
          "2063-07-31T12:00:00",
          "2063-08-31T12:00:00",
          "2063-09-30T12:00:00",
          "2063-10-31T12:00:00",
          "2063-11-30T12:00:00",
          "2063-12-31T12:00:00",
          "2064-01-31T12:00:00",
          "2064-02-29T12:00:00",
          "2064-03-31T12:00:00",
          "2064-04-30T12:00:00",
          "2064-05-31T12:00:00",
          "2064-06-30T12:00:00",
          "2064-07-31T12:00:00",
          "2064-08-31T12:00:00",
          "2064-09-30T12:00:00",
          "2064-10-31T12:00:00",
          "2064-11-30T12:00:00",
          "2064-12-31T12:00:00",
          "2065-01-31T12:00:00",
          "2065-02-28T12:00:00",
          "2065-03-31T12:00:00",
          "2065-04-30T12:00:00",
          "2065-05-31T12:00:00",
          "2065-06-30T12:00:00",
          "2065-07-31T12:00:00",
          "2065-08-31T12:00:00",
          "2065-09-30T12:00:00",
          "2065-10-31T12:00:00",
          "2065-11-30T12:00:00",
          "2065-12-31T12:00:00",
          "2066-01-31T12:00:00",
          "2066-02-28T12:00:00",
          "2066-03-31T12:00:00",
          "2066-04-30T12:00:00",
          "2066-05-31T12:00:00",
          "2066-06-30T12:00:00",
          "2066-07-31T12:00:00",
          "2066-08-31T12:00:00",
          "2066-09-30T12:00:00",
          "2066-10-31T12:00:00",
          "2066-11-30T12:00:00",
          "2066-12-31T12:00:00",
          "2067-01-31T12:00:00",
          "2067-02-28T12:00:00",
          "2067-03-31T12:00:00",
          "2067-04-30T12:00:00",
          "2067-05-31T12:00:00",
          "2067-06-30T12:00:00",
          "2067-07-31T12:00:00",
          "2067-08-31T12:00:00",
          "2067-09-30T12:00:00",
          "2067-10-31T12:00:00",
          "2067-11-30T12:00:00",
          "2067-12-31T12:00:00",
          "2068-01-31T12:00:00",
          "2068-02-29T12:00:00",
          "2068-03-31T12:00:00",
          "2068-04-30T12:00:00",
          "2068-05-31T12:00:00",
          "2068-06-30T12:00:00",
          "2068-07-31T12:00:00",
          "2068-08-31T12:00:00",
          "2068-09-30T12:00:00",
          "2068-10-31T12:00:00",
          "2068-11-30T12:00:00",
          "2068-12-31T12:00:00",
          "2069-01-31T12:00:00",
          "2069-02-28T12:00:00",
          "2069-03-31T12:00:00",
          "2069-04-30T12:00:00",
          "2069-05-31T12:00:00",
          "2069-06-30T12:00:00",
          "2069-07-31T12:00:00",
          "2069-08-31T12:00:00",
          "2069-09-30T12:00:00",
          "2069-10-31T12:00:00",
          "2069-11-30T12:00:00",
          "2069-12-31T12:00:00",
          "2070-01-31T12:00:00",
          "2070-02-28T12:00:00",
          "2070-03-31T12:00:00",
          "2070-04-30T12:00:00",
          "2070-05-31T12:00:00",
          "2070-06-30T12:00:00",
          "2070-07-31T12:00:00",
          "2070-08-31T12:00:00",
          "2070-09-30T12:00:00",
          "2070-10-31T12:00:00",
          "2070-11-30T12:00:00",
          "2070-12-31T12:00:00",
          "2071-01-31T12:00:00",
          "2071-02-28T12:00:00",
          "2071-03-31T12:00:00",
          "2071-04-30T12:00:00",
          "2071-05-31T12:00:00",
          "2071-06-30T12:00:00",
          "2071-07-31T12:00:00",
          "2071-08-31T12:00:00",
          "2071-09-30T12:00:00",
          "2071-10-31T12:00:00",
          "2071-11-30T12:00:00",
          "2071-12-31T12:00:00",
          "2072-01-31T12:00:00",
          "2072-02-29T12:00:00",
          "2072-03-31T12:00:00",
          "2072-04-30T12:00:00",
          "2072-05-31T12:00:00",
          "2072-06-30T12:00:00",
          "2072-07-31T12:00:00",
          "2072-08-31T12:00:00",
          "2072-09-30T12:00:00",
          "2072-10-31T12:00:00",
          "2072-11-30T12:00:00",
          "2072-12-31T12:00:00",
          "2073-01-31T12:00:00",
          "2073-02-28T12:00:00",
          "2073-03-31T12:00:00",
          "2073-04-30T12:00:00",
          "2073-05-31T12:00:00",
          "2073-06-30T12:00:00",
          "2073-07-31T12:00:00",
          "2073-08-31T12:00:00",
          "2073-09-30T12:00:00",
          "2073-10-31T12:00:00",
          "2073-11-30T12:00:00",
          "2073-12-31T12:00:00",
          "2074-01-31T12:00:00",
          "2074-02-28T12:00:00",
          "2074-03-31T12:00:00",
          "2074-04-30T12:00:00",
          "2074-05-31T12:00:00",
          "2074-06-30T12:00:00",
          "2074-07-31T12:00:00",
          "2074-08-31T12:00:00",
          "2074-09-30T12:00:00",
          "2074-10-31T12:00:00",
          "2074-11-30T12:00:00",
          "2074-12-31T12:00:00",
          "2075-01-31T12:00:00",
          "2075-02-28T12:00:00",
          "2075-03-31T12:00:00",
          "2075-04-30T12:00:00",
          "2075-05-31T12:00:00",
          "2075-06-30T12:00:00",
          "2075-07-31T12:00:00",
          "2075-08-31T12:00:00",
          "2075-09-30T12:00:00",
          "2075-10-31T12:00:00",
          "2075-11-30T12:00:00",
          "2075-12-31T12:00:00",
          "2076-01-31T12:00:00",
          "2076-02-29T12:00:00",
          "2076-03-31T12:00:00",
          "2076-04-30T12:00:00",
          "2076-05-31T12:00:00",
          "2076-06-30T12:00:00",
          "2076-07-31T12:00:00",
          "2076-08-31T12:00:00",
          "2076-09-30T12:00:00",
          "2076-10-31T12:00:00",
          "2076-11-30T12:00:00",
          "2076-12-31T12:00:00",
          "2077-01-31T12:00:00",
          "2077-02-28T12:00:00",
          "2077-03-31T12:00:00",
          "2077-04-30T12:00:00",
          "2077-05-31T12:00:00",
          "2077-06-30T12:00:00",
          "2077-07-31T12:00:00",
          "2077-08-31T12:00:00",
          "2077-09-30T12:00:00",
          "2077-10-31T12:00:00",
          "2077-11-30T12:00:00",
          "2077-12-31T12:00:00",
          "2078-01-31T12:00:00",
          "2078-02-28T12:00:00",
          "2078-03-31T12:00:00",
          "2078-04-30T12:00:00",
          "2078-05-31T12:00:00",
          "2078-06-30T12:00:00",
          "2078-07-31T12:00:00",
          "2078-08-31T12:00:00",
          "2078-09-30T12:00:00",
          "2078-10-31T12:00:00",
          "2078-11-30T12:00:00",
          "2078-12-31T12:00:00",
          "2079-01-31T12:00:00",
          "2079-02-28T12:00:00",
          "2079-03-31T12:00:00",
          "2079-04-30T12:00:00",
          "2079-05-31T12:00:00",
          "2079-06-30T12:00:00",
          "2079-07-31T12:00:00",
          "2079-08-31T12:00:00",
          "2079-09-30T12:00:00",
          "2079-10-31T12:00:00",
          "2079-11-30T12:00:00",
          "2079-12-31T12:00:00",
          "2080-01-31T12:00:00",
          "2080-02-29T12:00:00",
          "2080-03-31T12:00:00",
          "2080-04-30T12:00:00",
          "2080-05-31T12:00:00",
          "2080-06-30T12:00:00",
          "2080-07-31T12:00:00",
          "2080-08-31T12:00:00",
          "2080-09-30T12:00:00",
          "2080-10-31T12:00:00",
          "2080-11-30T12:00:00",
          "2080-12-31T12:00:00",
          "2081-01-31T12:00:00",
          "2081-02-28T12:00:00",
          "2081-03-31T12:00:00",
          "2081-04-30T12:00:00",
          "2081-05-31T12:00:00",
          "2081-06-30T12:00:00",
          "2081-07-31T12:00:00",
          "2081-08-31T12:00:00",
          "2081-09-30T12:00:00",
          "2081-10-31T12:00:00",
          "2081-11-30T12:00:00",
          "2081-12-31T12:00:00",
          "2082-01-31T12:00:00",
          "2082-02-28T12:00:00",
          "2082-03-31T12:00:00",
          "2082-04-30T12:00:00",
          "2082-05-31T12:00:00",
          "2082-06-30T12:00:00",
          "2082-07-31T12:00:00",
          "2082-08-31T12:00:00",
          "2082-09-30T12:00:00",
          "2082-10-31T12:00:00",
          "2082-11-30T12:00:00",
          "2082-12-31T12:00:00",
          "2083-01-31T12:00:00",
          "2083-02-28T12:00:00",
          "2083-03-31T12:00:00",
          "2083-04-30T12:00:00",
          "2083-05-31T12:00:00",
          "2083-06-30T12:00:00",
          "2083-07-31T12:00:00",
          "2083-08-31T12:00:00",
          "2083-09-30T12:00:00",
          "2083-10-31T12:00:00",
          "2083-11-30T12:00:00",
          "2083-12-31T12:00:00",
          "2084-01-31T12:00:00",
          "2084-02-29T12:00:00",
          "2084-03-31T12:00:00",
          "2084-04-30T12:00:00",
          "2084-05-31T12:00:00",
          "2084-06-30T12:00:00",
          "2084-07-31T12:00:00",
          "2084-08-31T12:00:00",
          "2084-09-30T12:00:00",
          "2084-10-31T12:00:00",
          "2084-11-30T12:00:00",
          "2084-12-31T12:00:00",
          "2085-01-31T12:00:00",
          "2085-02-28T12:00:00",
          "2085-03-31T12:00:00",
          "2085-04-30T12:00:00",
          "2085-05-31T12:00:00",
          "2085-06-30T12:00:00",
          "2085-07-31T12:00:00",
          "2085-08-31T12:00:00",
          "2085-09-30T12:00:00",
          "2085-10-31T12:00:00",
          "2085-11-30T12:00:00",
          "2085-12-31T12:00:00",
          "2086-01-31T12:00:00",
          "2086-02-28T12:00:00",
          "2086-03-31T12:00:00",
          "2086-04-30T12:00:00",
          "2086-05-31T12:00:00",
          "2086-06-30T12:00:00",
          "2086-07-31T12:00:00",
          "2086-08-31T12:00:00",
          "2086-09-30T12:00:00",
          "2086-10-31T12:00:00",
          "2086-11-30T12:00:00",
          "2086-12-31T12:00:00",
          "2087-01-31T12:00:00",
          "2087-02-28T12:00:00",
          "2087-03-31T12:00:00",
          "2087-04-30T12:00:00",
          "2087-05-31T12:00:00",
          "2087-06-30T12:00:00",
          "2087-07-31T12:00:00",
          "2087-08-31T12:00:00",
          "2087-09-30T12:00:00",
          "2087-10-31T12:00:00",
          "2087-11-30T12:00:00",
          "2087-12-31T12:00:00",
          "2088-01-31T12:00:00",
          "2088-02-29T12:00:00",
          "2088-03-31T12:00:00",
          "2088-04-30T12:00:00",
          "2088-05-31T12:00:00",
          "2088-06-30T12:00:00",
          "2088-07-31T12:00:00",
          "2088-08-31T12:00:00",
          "2088-09-30T12:00:00",
          "2088-10-31T12:00:00",
          "2088-11-30T12:00:00",
          "2088-12-31T12:00:00",
          "2089-01-31T12:00:00",
          "2089-02-28T12:00:00",
          "2089-03-31T12:00:00",
          "2089-04-30T12:00:00",
          "2089-05-31T12:00:00",
          "2089-06-30T12:00:00",
          "2089-07-31T12:00:00",
          "2089-08-31T12:00:00",
          "2089-09-30T12:00:00",
          "2089-10-31T12:00:00",
          "2089-11-30T12:00:00",
          "2089-12-31T12:00:00",
          "2090-01-31T12:00:00",
          "2090-02-28T12:00:00",
          "2090-03-31T12:00:00",
          "2090-04-30T12:00:00",
          "2090-05-31T12:00:00",
          "2090-06-30T12:00:00",
          "2090-07-31T12:00:00",
          "2090-08-31T12:00:00",
          "2090-09-30T12:00:00",
          "2090-10-31T12:00:00",
          "2090-11-30T12:00:00",
          "2090-12-31T12:00:00",
          "2091-01-31T12:00:00",
          "2091-02-28T12:00:00",
          "2091-03-31T12:00:00",
          "2091-04-30T12:00:00",
          "2091-05-31T12:00:00",
          "2091-06-30T12:00:00",
          "2091-07-31T12:00:00",
          "2091-08-31T12:00:00",
          "2091-09-30T12:00:00",
          "2091-10-31T12:00:00",
          "2091-11-30T12:00:00",
          "2091-12-31T12:00:00",
          "2092-01-31T12:00:00",
          "2092-02-29T12:00:00",
          "2092-03-31T12:00:00",
          "2092-04-30T12:00:00",
          "2092-05-31T12:00:00",
          "2092-06-30T12:00:00",
          "2092-07-31T12:00:00",
          "2092-08-31T12:00:00",
          "2092-09-30T12:00:00",
          "2092-10-31T12:00:00",
          "2092-11-30T12:00:00",
          "2092-12-31T12:00:00",
          "2093-01-31T12:00:00",
          "2093-02-28T12:00:00",
          "2093-03-31T12:00:00",
          "2093-04-30T12:00:00",
          "2093-05-31T12:00:00",
          "2093-06-30T12:00:00",
          "2093-07-31T12:00:00",
          "2093-08-31T12:00:00",
          "2093-09-30T12:00:00",
          "2093-10-31T12:00:00",
          "2093-11-30T12:00:00",
          "2093-12-31T12:00:00",
          "2094-01-31T12:00:00",
          "2094-02-28T12:00:00",
          "2094-03-31T12:00:00",
          "2094-04-30T12:00:00",
          "2094-05-31T12:00:00",
          "2094-06-30T12:00:00",
          "2094-07-31T12:00:00",
          "2094-08-31T12:00:00",
          "2094-09-30T12:00:00",
          "2094-10-31T12:00:00",
          "2094-11-30T12:00:00",
          "2094-12-31T12:00:00",
          "2095-01-31T12:00:00",
          "2095-02-28T12:00:00",
          "2095-03-31T12:00:00",
          "2095-04-30T12:00:00",
          "2095-05-31T12:00:00",
          "2095-06-30T12:00:00",
          "2095-07-31T12:00:00",
          "2095-08-31T12:00:00",
          "2095-09-30T12:00:00",
          "2095-10-31T12:00:00",
          "2095-11-30T12:00:00",
          "2095-12-31T12:00:00",
          "2096-01-31T12:00:00",
          "2096-02-29T12:00:00",
          "2096-03-31T12:00:00",
          "2096-04-30T12:00:00",
          "2096-05-31T12:00:00",
          "2096-06-30T12:00:00",
          "2096-07-31T12:00:00",
          "2096-08-31T12:00:00",
          "2096-09-30T12:00:00",
          "2096-10-31T12:00:00",
          "2096-11-30T12:00:00",
          "2096-12-31T12:00:00",
          "2097-01-31T12:00:00",
          "2097-02-28T12:00:00",
          "2097-03-31T12:00:00",
          "2097-04-30T12:00:00",
          "2097-05-31T12:00:00",
          "2097-06-30T12:00:00",
          "2097-07-31T12:00:00",
          "2097-08-31T12:00:00",
          "2097-09-30T12:00:00",
          "2097-10-31T12:00:00",
          "2097-11-30T12:00:00",
          "2097-12-31T12:00:00",
          "2098-01-31T12:00:00",
          "2098-02-28T12:00:00",
          "2098-03-31T12:00:00",
          "2098-04-30T12:00:00",
          "2098-05-31T12:00:00",
          "2098-06-30T12:00:00",
          "2098-07-31T12:00:00",
          "2098-08-31T12:00:00",
          "2098-09-30T12:00:00",
          "2098-10-31T12:00:00",
          "2098-11-30T12:00:00",
          "2098-12-31T12:00:00",
          "2099-01-31T12:00:00",
          "2099-02-28T12:00:00",
          "2099-03-31T12:00:00",
          "2099-04-30T12:00:00",
          "2099-05-31T12:00:00",
          "2099-06-30T12:00:00",
          "2099-07-31T12:00:00",
          "2099-08-31T12:00:00",
          "2099-09-30T12:00:00",
          "2099-10-31T12:00:00",
          "2099-11-30T12:00:00",
          "2099-12-31T12:00:00"
         ],
         "xaxis": "x",
         "y": [
          0,
          0.6823304582212586,
          8.453204524994362,
          21.982382233909448,
          24.13371579896193,
          32.48745812506968,
          16.818859861814417,
          17.6534454799139,
          1.9502231898513855,
          0.6275762847508304,
          0,
          0,
          0,
          5.380915281784837,
          9.76297840825282,
          24.333914622548036,
          28.29703002353199,
          29.830336023587734,
          41.822951024187205,
          17.73783427906892,
          6.49210724986915,
          0.10266564195262609,
          0,
          0,
          0,
          6.527130596805364,
          14.230416701957438,
          7.239383211708628,
          7.853266361053102,
          7.098549199326953,
          16.532937291049166,
          33.909801369009074,
          9.283146256666441,
          4.552690978744067,
          0,
          0,
          0,
          1.6021015180740505,
          18.910493200382916,
          10.783553568762727,
          31.996602869185153,
          17.27584723913651,
          40.94205249566585,
          19.74295007148612,
          28.15940425498411,
          0,
          0,
          0,
          0,
          4.1969603233155794,
          24.985461447795387,
          28.866321657551453,
          4.418091655952594,
          22.02490841718827,
          13.878365780396962,
          23.398036331127514,
          8.850459704990499,
          0.5512394898687489,
          0,
          0,
          0,
          1.7488444922491906,
          10.486230778042227,
          22.0589214020265,
          20.90897696907632,
          24.040813246392645,
          43.969907649443485,
          20.19807990436675,
          5.689168863318628,
          0.15091090622263428,
          0,
          0,
          0,
          6.466741918120533,
          7.572384070954286,
          17.678930695183226,
          25.438130463589914,
          16.42351318469082,
          18.65108562124078,
          21.25476395012811,
          5.05140815366758,
          0.23683723352405642,
          0,
          0,
          0,
          2.2673564482829534,
          4.977936869545374,
          13.654924892307463,
          25.607189390575513,
          43.22329389397055,
          22.42061286815442,
          24.946822739639174,
          11.886094031785888,
          0,
          0,
          0,
          0,
          5.631289235316217,
          31.831999801215716,
          23.435396343120374,
          35.7680080512182,
          19.41667617084022,
          30.408085750968894,
          23.03014879580587,
          7.454891882662196,
          4.589309757716364,
          0,
          0,
          0,
          4.359109361575975,
          7.174255981226452,
          4.473729207529686,
          40.98859944351716,
          18.72045951022301,
          38.8187448552344,
          15.530335006769747,
          5.126449355157092,
          0,
          0,
          0,
          0,
          0.9798550972845985,
          11.41720124578569,
          11.635512673728954,
          19.354343105078442,
          14.568872301606461,
          34.07105141377542,
          13.319578171649482,
          10.448262101442651,
          2.718864439520985,
          0,
          0,
          0,
          0.45547434629042977,
          2.084746414948313,
          9.292396531964187,
          54.11874284473015,
          45.99742997816065,
          25.26053111068904,
          23.489589511882514,
          44.47666732594371,
          0.6229535505553939,
          0,
          0,
          0,
          1.6565931190143601,
          16.320566407136994,
          12.613578980381135,
          15.447177713213023,
          18.43330564443022,
          50.758322048932314,
          28.203776688314974,
          1.517057785531506,
          0.0077244372050699,
          0,
          0,
          0,
          5.09980519709643,
          17.453562165610492,
          14.676312924711965,
          14.994087585364468,
          42.786468914709985,
          27.45677348866593,
          10.193300039099995,
          3.6586661590263247,
          4.93702458406915,
          0,
          0,
          0,
          15.583019668702036,
          13.504374108742923,
          7.493046842864715,
          23.900159555023492,
          15.76614746300038,
          42.86665124982392,
          27.31158506940119,
          13.266355941595975,
          0,
          0,
          0,
          0,
          0.3301830489021994,
          4.138201813475462,
          8.80465353402542,
          11.282917892094702,
          22.550669797783485,
          57.32433199882507,
          22.84974708372829,
          14.304707272094674,
          0.1252918888894782,
          0,
          0,
          0,
          0.0864530316903255,
          9.610151410015533,
          21.637190187084343,
          20.406490727327764,
          30.887249248917215,
          24.681298198993318,
          25.069623155286536,
          10.963164482654975,
          3.453450422603055,
          0,
          0,
          0,
          0.4907421536017863,
          11.893925943877548,
          8.933597628492862,
          32.48955527233193,
          35.48083548084833,
          15.44611495337449,
          13.31587612403382,
          1.7283225611890884,
          0,
          0,
          0,
          0,
          4.986842503740263,
          2.2340758046084375,
          25.02955802483484,
          3.6123214376857504,
          16.86344831250608,
          20.33546651364304,
          27.236788684967905,
          9.142033125681337,
          0.1809047367714811,
          0,
          0,
          0,
          11.259599784841612,
          9.825681269728648,
          17.200813209638,
          28.678191202925518,
          30.615389003651217,
          37.79782134806737,
          51.910040217626374,
          10.65429542795755,
          0.0033329833740936,
          0,
          0,
          0,
          1.0938255945802666,
          10.511472669895738,
          32.86152807686449,
          30.514510391640215,
          30.32883577652683,
          31.244931132823694,
          46.34942476695869,
          17.412981076631695,
          0.33619491441641,
          0,
          0,
          0,
          4.6888500059139915,
          9.641426838061307,
          28.33029170969894,
          23.601082464301726,
          5.949670162954135,
          23.1605178269092,
          18.85785120757646,
          18.156159800491878,
          0,
          0,
          0,
          0,
          2.4107698554871604,
          12.519735585374292,
          14.009248328511603,
          17.1838098380249,
          17.589392451918684,
          42.26789146196097,
          32.878333578264574,
          15.330318881251515,
          0.9449913955222655,
          0,
          0,
          0,
          0.092782776482636,
          19.57928614665434,
          24.918965622782707,
          13.312229190705693,
          28.093742992496118,
          31.919525808189064,
          13.325689011253417,
          6.726925674593076,
          0,
          0,
          0,
          0,
          4.23032822800451,
          17.666839339631224,
          14.314188825301244,
          15.219937429355923,
          19.06120953062782,
          21.608355452190153,
          26.009453821825446,
          9.813008950368385,
          0.2966266824614649,
          0,
          0,
          0,
          9.372248196086728,
          6.2651841368392525,
          26.129117564369153,
          14.349671808304265,
          15.015722914540676,
          38.64073727745563,
          21.156902319853543,
          4.189061938086525,
          0.38417714204115316,
          0,
          0,
          0,
          2.116452998598106,
          10.869401384479715,
          14.085591016919354,
          17.97624929167796,
          31.492729409364983,
          49.19600454013562,
          35.39075396256521,
          33.47663803724572,
          3.0323758317535976,
          0,
          0,
          0,
          1.838482347147874,
          4.696294216410024,
          9.47029826202197,
          19.238832575501874,
          27.894381992518902,
          31.32182351037045,
          22.97541172338242,
          12.940689575043507,
          1.232337342980827,
          0,
          0,
          0,
          0.0634646963590057,
          5.090133607154712,
          21.93790152668953,
          20.645085143769393,
          21.81050263607176,
          36.21608589019161,
          30.492091889027506,
          3.6034539210959338,
          1.1681012663757429,
          0,
          0,
          0,
          6.638727255631238,
          0.636869770642079,
          17.561913141980767,
          12.980267988677952,
          10.275309823919088,
          58.79156811861321,
          31.903938690084033,
          37.684718146920204,
          1.5231985838909168,
          0,
          0,
          0,
          6.559739340184478,
          10.099623745190911,
          19.658575853281945,
          24.32638843310997,
          18.130309775369824,
          33.432490343693644,
          30.594743590336293,
          23.707475906121545,
          0.32883317398955103,
          0,
          0,
          0,
          1.618379750289023,
          17.126914566324558,
          28.13362459364725,
          19.049187742621143,
          14.074258945765905,
          45.01340649821941,
          27.322457848276827,
          9.010904497699812,
          0,
          0,
          0,
          0,
          6.466337585425208,
          5.356040959304664,
          32.48524334303511,
          32.96624394133687,
          17.578943230910227,
          20.39872710738564,
          17.08942245095386,
          6.72730898950249,
          0.1458449285564711,
          0,
          0,
          0,
          2.8099748166710015,
          1.9819304267002733,
          12.689804309047759,
          68.9954831439536,
          44.63698788313195,
          27.548331728030462,
          22.24870236368588,
          22.178878518752754,
          0.0662134661979507,
          0,
          0,
          0,
          0.1151645796198863,
          16.585558676160872,
          16.889838994939055,
          15.272777719656006,
          27.672671643085778,
          40.302956057712436,
          27.914816967677325,
          21.480846509803087,
          0,
          0,
          0,
          0,
          12.891465984284878,
          7.49160865561862,
          38.643721798143815,
          46.86176958057331,
          24.321815017901827,
          35.48509076354094,
          15.750919712445466,
          13.486391233163886,
          2.708211852586828,
          0,
          0,
          0,
          6.988274148898199,
          6.314308902074117,
          44.96162967989221,
          50.179489504080266,
          30.477581292143444,
          42.396719807584304,
          25.917714700335637,
          6.57389018797403,
          0.021155626421886998,
          0,
          0,
          0,
          2.0094781555599184,
          17.514276324072853,
          14.745529554784296,
          18.365415836069587,
          17.10114213929046,
          24.11317293299362,
          13.635268085999996,
          18.974135792814195,
          0.8630869335320313,
          0,
          0,
          0,
          1.8765438937407453,
          0.8194806781830266,
          8.460392099459568,
          45.83169794641435,
          20.981493602414503,
          26.626105818286305,
          35.116715548792854,
          0.8088038099231198,
          0.15532951938439502,
          0,
          0,
          0,
          6.327926364610903,
          4.013815015423461,
          33.50467646596371,
          17.997009363534744,
          36.87327452064437,
          27.887715393444523,
          32.241309637902305,
          9.874967104406096,
          1.6282018019410316,
          0,
          0,
          0,
          3.965010012325365,
          8.933524863095954,
          23.015498904214837,
          15.821047822919354,
          19.763096573296934,
          32.636964931953116,
          27.6789748473675,
          50.16766410553828,
          0.1517162945674499,
          0,
          0,
          0,
          2.955288652310628,
          2.166019587639312,
          7.3504718486219645,
          15.380538479075767,
          62.12210414232686,
          13.110333925578743,
          16.01192514426657,
          8.233285748428898,
          0.0225764957576757,
          0,
          0,
          0,
          11.601938915555367,
          4.376347889774479,
          46.963932684047904,
          26.913461382628157,
          26.123562271823175,
          25.48434639174957,
          19.519948681409005,
          20.792718224493,
          4.804407848223491,
          0,
          0,
          0,
          3.5512862852783655,
          13.742443520095549,
          25.919625931419432,
          46.217907598474994,
          8.584753714967519,
          19.068736427288968,
          17.97666576565007,
          28.25302143683075,
          0,
          0,
          0,
          0,
          0.6719225017150164,
          9.152449067914858,
          24.472604054608382,
          27.509184298105538,
          25.954342569457367,
          50.414672408987826,
          23.957833416716312,
          6.565635733727504,
          0.2309659055754309,
          0,
          0,
          0,
          1.963657962915022,
          1.8869400828407379,
          28.664959999605347,
          5.216735440785669,
          9.050989889601624,
          13.937560857448261,
          33.95948233664967,
          6.971013387374114,
          3.24291103743235,
          0,
          0,
          0,
          0.5893599815408377,
          10.204250484821387,
          15.075123484712094,
          16.052604242577218,
          19.682861093315296,
          9.852304015566917,
          48.00643092021346,
          22.60511530275835,
          0,
          0,
          0,
          0,
          10.663669038785883,
          13.833228636940476,
          11.783995885707554,
          27.548192454196396,
          19.763271168994834,
          24.159353600680333,
          36.73729708098108,
          36.27622091153171,
          0.4144924558204366,
          0,
          0,
          0,
          3.1248869068804197,
          12.131714722727338,
          34.32895594742149,
          33.845739216485526,
          12.760027310196165,
          37.738186097703874,
          12.786335858982056,
          10.729126387741417,
          1.307268879463663,
          0,
          0,
          0,
          6.676568640978076,
          8.514186269167112,
          11.205369609342599,
          7.991366912028752,
          39.400590799050406,
          32.03952679177746,
          22.05265361844795,
          19.59616603110135,
          0.0445190053142141,
          0,
          0,
          0,
          0.36509238834696567,
          17.14109387830831,
          4.047578724384948,
          15.739636584567052,
          15.838943320841281,
          39.51669246889651,
          14.997202765516704,
          13.303345000349509,
          0.5675905267708004,
          0,
          0,
          0,
          3.54504985280073,
          4.356008762988495,
          4.798347754331189,
          22.796586561344157,
          19.955678211408667,
          58.62990146051743,
          14.948502618062776,
          17.19353113003308,
          0.1493126446803216,
          0,
          0,
          0,
          0.5677355467923917,
          4.2493351036682725,
          5.054266631486826,
          25.224280112888664,
          21.81599190516863,
          55.76530555263162,
          15.536690899170935,
          13.736108991724905,
          0.1073582512617576,
          0,
          0,
          0,
          3.9498201571404934,
          16.599866879550973,
          27.210989815648645,
          48.31941639386059,
          22.050236293125636,
          39.85236973530846,
          23.44756553065963,
          38.8104272831697,
          3.7005181966378586,
          0,
          0,
          0,
          6.345905949638109,
          12.792144812556216,
          55.09180601220578,
          8.966843714006245,
          22.64943654590752,
          35.55274780956097,
          14.01747718336992,
          12.436571455327794,
          0.0191000645827443,
          0,
          0,
          0,
          1.008459562308417,
          10.27527848018508,
          36.041967071832914,
          23.475344624603167,
          20.735869818599895,
          35.25450692541199,
          18.187115986074787,
          21.29513069157838,
          0.0074816957749135,
          0,
          0,
          0,
          6.6299871742558025,
          17.231167617137544,
          14.670224323344883,
          20.303943007456837,
          25.41589309112169,
          52.384194523256156,
          44.12973017301738,
          21.61605295843856,
          0.026827481087821,
          0,
          0,
          0,
          5.000359023688361,
          16.943032282870263,
          37.08319191355258,
          42.38279263045115,
          17.286020379469846,
          29.320882102183532,
          20.064510728116147,
          47.34440096653998,
          0.1320172832492971,
          0,
          0,
          0,
          1.7366937710903585,
          4.957568235840881,
          11.76595424185507,
          19.479945878367744,
          19.793928356375545,
          10.191948982719623,
          20.629905695568596,
          22.559782268945128,
          0.6048485316568986,
          0,
          0,
          0,
          6.959354893479031,
          16.05702352244407,
          16.074027757213116,
          15.012206203573442,
          25.367795792408288,
          26.024110519210808,
          10.968056062301912,
          7.396405476902146,
          0,
          0,
          0,
          0,
          18.767969813779928,
          6.992200808599591,
          24.441107171810472,
          23.967716633342206,
          11.762457534496207,
          41.836592566687614,
          53.95606452366337,
          25.14366208415595,
          0.4828634791465446,
          0,
          0,
          0,
          6.250916823773878,
          18.851829851337243,
          8.554971301145997,
          43.65048582694726,
          25.665160309290513,
          19.603228638879955,
          23.733525034185732,
          23.32419486483559,
          0.0248195323365507,
          0,
          0,
          0,
          0.2541050329000425,
          7.167570621095365,
          3.799486689968035,
          22.176500166824553,
          23.516156464756932,
          30.573551321072046,
          18.11483051860705,
          30.13119752286002,
          0.4986974782696051,
          0,
          0,
          0,
          14.50369599770056,
          14.104658851283602,
          7.1618795871472685,
          25.337568743998418,
          22.92595892358804,
          32.862114379531704,
          27.09155037700839,
          22.56176909431815,
          0.2438498058836557,
          0,
          0,
          0,
          1.6269045387161896,
          23.5584145761095,
          17.10159761059913,
          29.238050023195683,
          23.219273645372596,
          39.66688433429226,
          19.160608673701063,
          8.883732871254324,
          4.053575057696435,
          0,
          0,
          0,
          0.2248826378490775,
          6.6502096178282954,
          7.4412158274299145,
          32.96446425374597,
          40.83785057118803,
          30.92344692995539,
          26.98924532305682,
          20.89447363105137,
          0.007487001789741,
          0,
          0,
          0,
          10.786227677454008,
          22.74746788025368,
          28.354247828247026,
          23.854549648899592,
          35.40155145165045,
          20.05700592235371,
          20.680732507025823,
          24.123055196832865,
          0.0045877324851062,
          0,
          0,
          0,
          5.754355480894446,
          22.422285843640566,
          23.282502964138985,
          44.311073482640495,
          8.59040163040845,
          50.34875061828643,
          15.588492593087722,
          33.95901386029436,
          0,
          0,
          0,
          0,
          1.5453745731406343,
          9.92071292566834,
          19.148193804721814,
          20.54303192999214,
          17.51153971454187,
          53.950098620589415,
          25.803040363825858,
          16.331787640410766,
          1.046363971545361,
          0,
          0,
          0,
          14.080067722534295,
          31.202983178081922,
          14.139306802735517,
          41.26564178732224,
          34.224294003797695,
          30.49177395296283,
          18.83450339664705,
          11.021911188254307,
          1.1075107098804438,
          0,
          0,
          0,
          1.7829832700954285,
          2.4994633698952384,
          30.848065082682297,
          34.20915141468868,
          22.1267218774301,
          55.89987627463415,
          32.30423586737743,
          37.15373694431037,
          4.283027486235369,
          0,
          0,
          0,
          6.433420081157237,
          12.692064392035718,
          19.88434030990902,
          15.115004216568195,
          29.347866238094866,
          28.428351153706902,
          30.47582795843482,
          16.75567462662002,
          0.073914536187658,
          0,
          0,
          0,
          10.823319877817994,
          10.475026321364567,
          26.39500470540952,
          19.43645053702312,
          8.39241985049739,
          38.107431530806934,
          39.86210980801843,
          8.28083667311148,
          0,
          0,
          0,
          0,
          1.3713838183321059,
          27.14473590021953,
          43.09513208645512,
          11.42377750693413,
          72.30617542363689,
          74.43101756625765,
          10.670517291055148,
          7.176534673635615,
          0.3045112541258276,
          0,
          0,
          0,
          16.236394184306846,
          9.721403022558661,
          15.295412801970087,
          22.85128406365402,
          38.44518412370235,
          28.76818789372919,
          17.682276606865344,
          5.6007520281468715,
          0,
          0,
          0,
          0,
          0.4294202734968165,
          5.088892754793051,
          1.0870094693927967,
          23.144946149841417,
          14.845166105646966,
          41.88964105560444,
          49.753233580850065,
          11.374999751569703,
          0,
          0,
          0,
          0,
          4.839328011803445,
          5.632360678282566,
          6.549560962594114,
          34.80311236489797,
          24.455300185627493,
          14.1391444238252,
          22.800289664883167,
          30.303522327449173,
          0.0090794686457229,
          0,
          0,
          0,
          1.7499395096251646,
          26.22885876644432,
          30.483666111831553,
          14.512496345287218,
          26.31436799420044,
          52.74081788084004,
          50.488070539722685,
          9.0675977000501,
          1.9050284132390516,
          0,
          0,
          0,
          11.922762768517716,
          15.559885566835876,
          18.43846105512057,
          28.31743710266892,
          50.499384105205536,
          28.007800830488346,
          27.81829610466957,
          13.529359376843786,
          3.8657892407968575,
          0,
          0,
          0,
          6.738460522319656,
          11.585415434092283,
          13.811448783781088,
          35.90182879997883,
          29.63114365702495,
          29.94733321465901,
          22.899618989322335,
          3.9362915910714946,
          0,
          0,
          0,
          0,
          0.5593052905169316,
          24.346835712231044,
          16.161894588003634,
          20.576108927798487,
          13.103450395647089,
          56.42688822699711,
          24.583360296674073,
          23.422949374071322,
          1.197004845016636,
          0,
          0,
          0,
          2.6972905788966273,
          6.670049694366753,
          38.4519759012619,
          17.42896461782948,
          19.507563044317067,
          20.82347385585308,
          28.953176038339734,
          22.82184613868594,
          4.216340077437053,
          0,
          0,
          0,
          1.061481493525207,
          26.874822679383215,
          18.2940210448578,
          23.455381445819512,
          13.230814288544934,
          52.295886003412306,
          36.473651506821625,
          16.717270886272217,
          0,
          0,
          0,
          0,
          10.545643174555153,
          20.531866134842858,
          39.902247782447375,
          23.34089067298919,
          19.37327411142178,
          11.352156603243202,
          18.519508437020704,
          7.918225743924268,
          0.0374387323063274,
          0,
          0,
          0,
          0.0361955581411166,
          14.414945487988007,
          14.678608725535014,
          13.426107341365423,
          10.624659954464732,
          49.21572910971008,
          17.124267489271006,
          8.337816772291262,
          0,
          0,
          0
         ],
         "yaxis": "y"
        }
       ],
       "layout": {
        "legend": {
         "tracegroupgap": 0
        },
        "margin": {
         "t": 60
        },
        "template": {
         "data": {
          "bar": [
           {
            "error_x": {
             "color": "#2a3f5f"
            },
            "error_y": {
             "color": "#2a3f5f"
            },
            "marker": {
             "line": {
              "color": "#E5ECF6",
              "width": 0.5
             },
             "pattern": {
              "fillmode": "overlay",
              "size": 10,
              "solidity": 0.2
             }
            },
            "type": "bar"
           }
          ],
          "barpolar": [
           {
            "marker": {
             "line": {
              "color": "#E5ECF6",
              "width": 0.5
             },
             "pattern": {
              "fillmode": "overlay",
              "size": 10,
              "solidity": 0.2
             }
            },
            "type": "barpolar"
           }
          ],
          "carpet": [
           {
            "aaxis": {
             "endlinecolor": "#2a3f5f",
             "gridcolor": "white",
             "linecolor": "white",
             "minorgridcolor": "white",
             "startlinecolor": "#2a3f5f"
            },
            "baxis": {
             "endlinecolor": "#2a3f5f",
             "gridcolor": "white",
             "linecolor": "white",
             "minorgridcolor": "white",
             "startlinecolor": "#2a3f5f"
            },
            "type": "carpet"
           }
          ],
          "choropleth": [
           {
            "colorbar": {
             "outlinewidth": 0,
             "ticks": ""
            },
            "type": "choropleth"
           }
          ],
          "contour": [
           {
            "colorbar": {
             "outlinewidth": 0,
             "ticks": ""
            },
            "colorscale": [
             [
              0,
              "#0d0887"
             ],
             [
              0.1111111111111111,
              "#46039f"
             ],
             [
              0.2222222222222222,
              "#7201a8"
             ],
             [
              0.3333333333333333,
              "#9c179e"
             ],
             [
              0.4444444444444444,
              "#bd3786"
             ],
             [
              0.5555555555555556,
              "#d8576b"
             ],
             [
              0.6666666666666666,
              "#ed7953"
             ],
             [
              0.7777777777777778,
              "#fb9f3a"
             ],
             [
              0.8888888888888888,
              "#fdca26"
             ],
             [
              1,
              "#f0f921"
             ]
            ],
            "type": "contour"
           }
          ],
          "contourcarpet": [
           {
            "colorbar": {
             "outlinewidth": 0,
             "ticks": ""
            },
            "type": "contourcarpet"
           }
          ],
          "heatmap": [
           {
            "colorbar": {
             "outlinewidth": 0,
             "ticks": ""
            },
            "colorscale": [
             [
              0,
              "#0d0887"
             ],
             [
              0.1111111111111111,
              "#46039f"
             ],
             [
              0.2222222222222222,
              "#7201a8"
             ],
             [
              0.3333333333333333,
              "#9c179e"
             ],
             [
              0.4444444444444444,
              "#bd3786"
             ],
             [
              0.5555555555555556,
              "#d8576b"
             ],
             [
              0.6666666666666666,
              "#ed7953"
             ],
             [
              0.7777777777777778,
              "#fb9f3a"
             ],
             [
              0.8888888888888888,
              "#fdca26"
             ],
             [
              1,
              "#f0f921"
             ]
            ],
            "type": "heatmap"
           }
          ],
          "heatmapgl": [
           {
            "colorbar": {
             "outlinewidth": 0,
             "ticks": ""
            },
            "colorscale": [
             [
              0,
              "#0d0887"
             ],
             [
              0.1111111111111111,
              "#46039f"
             ],
             [
              0.2222222222222222,
              "#7201a8"
             ],
             [
              0.3333333333333333,
              "#9c179e"
             ],
             [
              0.4444444444444444,
              "#bd3786"
             ],
             [
              0.5555555555555556,
              "#d8576b"
             ],
             [
              0.6666666666666666,
              "#ed7953"
             ],
             [
              0.7777777777777778,
              "#fb9f3a"
             ],
             [
              0.8888888888888888,
              "#fdca26"
             ],
             [
              1,
              "#f0f921"
             ]
            ],
            "type": "heatmapgl"
           }
          ],
          "histogram": [
           {
            "marker": {
             "pattern": {
              "fillmode": "overlay",
              "size": 10,
              "solidity": 0.2
             }
            },
            "type": "histogram"
           }
          ],
          "histogram2d": [
           {
            "colorbar": {
             "outlinewidth": 0,
             "ticks": ""
            },
            "colorscale": [
             [
              0,
              "#0d0887"
             ],
             [
              0.1111111111111111,
              "#46039f"
             ],
             [
              0.2222222222222222,
              "#7201a8"
             ],
             [
              0.3333333333333333,
              "#9c179e"
             ],
             [
              0.4444444444444444,
              "#bd3786"
             ],
             [
              0.5555555555555556,
              "#d8576b"
             ],
             [
              0.6666666666666666,
              "#ed7953"
             ],
             [
              0.7777777777777778,
              "#fb9f3a"
             ],
             [
              0.8888888888888888,
              "#fdca26"
             ],
             [
              1,
              "#f0f921"
             ]
            ],
            "type": "histogram2d"
           }
          ],
          "histogram2dcontour": [
           {
            "colorbar": {
             "outlinewidth": 0,
             "ticks": ""
            },
            "colorscale": [
             [
              0,
              "#0d0887"
             ],
             [
              0.1111111111111111,
              "#46039f"
             ],
             [
              0.2222222222222222,
              "#7201a8"
             ],
             [
              0.3333333333333333,
              "#9c179e"
             ],
             [
              0.4444444444444444,
              "#bd3786"
             ],
             [
              0.5555555555555556,
              "#d8576b"
             ],
             [
              0.6666666666666666,
              "#ed7953"
             ],
             [
              0.7777777777777778,
              "#fb9f3a"
             ],
             [
              0.8888888888888888,
              "#fdca26"
             ],
             [
              1,
              "#f0f921"
             ]
            ],
            "type": "histogram2dcontour"
           }
          ],
          "mesh3d": [
           {
            "colorbar": {
             "outlinewidth": 0,
             "ticks": ""
            },
            "type": "mesh3d"
           }
          ],
          "parcoords": [
           {
            "line": {
             "colorbar": {
              "outlinewidth": 0,
              "ticks": ""
             }
            },
            "type": "parcoords"
           }
          ],
          "pie": [
           {
            "automargin": true,
            "type": "pie"
           }
          ],
          "scatter": [
           {
            "fillpattern": {
             "fillmode": "overlay",
             "size": 10,
             "solidity": 0.2
            },
            "type": "scatter"
           }
          ],
          "scatter3d": [
           {
            "line": {
             "colorbar": {
              "outlinewidth": 0,
              "ticks": ""
             }
            },
            "marker": {
             "colorbar": {
              "outlinewidth": 0,
              "ticks": ""
             }
            },
            "type": "scatter3d"
           }
          ],
          "scattercarpet": [
           {
            "marker": {
             "colorbar": {
              "outlinewidth": 0,
              "ticks": ""
             }
            },
            "type": "scattercarpet"
           }
          ],
          "scattergeo": [
           {
            "marker": {
             "colorbar": {
              "outlinewidth": 0,
              "ticks": ""
             }
            },
            "type": "scattergeo"
           }
          ],
          "scattergl": [
           {
            "marker": {
             "colorbar": {
              "outlinewidth": 0,
              "ticks": ""
             }
            },
            "type": "scattergl"
           }
          ],
          "scattermapbox": [
           {
            "marker": {
             "colorbar": {
              "outlinewidth": 0,
              "ticks": ""
             }
            },
            "type": "scattermapbox"
           }
          ],
          "scatterpolar": [
           {
            "marker": {
             "colorbar": {
              "outlinewidth": 0,
              "ticks": ""
             }
            },
            "type": "scatterpolar"
           }
          ],
          "scatterpolargl": [
           {
            "marker": {
             "colorbar": {
              "outlinewidth": 0,
              "ticks": ""
             }
            },
            "type": "scatterpolargl"
           }
          ],
          "scatterternary": [
           {
            "marker": {
             "colorbar": {
              "outlinewidth": 0,
              "ticks": ""
             }
            },
            "type": "scatterternary"
           }
          ],
          "surface": [
           {
            "colorbar": {
             "outlinewidth": 0,
             "ticks": ""
            },
            "colorscale": [
             [
              0,
              "#0d0887"
             ],
             [
              0.1111111111111111,
              "#46039f"
             ],
             [
              0.2222222222222222,
              "#7201a8"
             ],
             [
              0.3333333333333333,
              "#9c179e"
             ],
             [
              0.4444444444444444,
              "#bd3786"
             ],
             [
              0.5555555555555556,
              "#d8576b"
             ],
             [
              0.6666666666666666,
              "#ed7953"
             ],
             [
              0.7777777777777778,
              "#fb9f3a"
             ],
             [
              0.8888888888888888,
              "#fdca26"
             ],
             [
              1,
              "#f0f921"
             ]
            ],
            "type": "surface"
           }
          ],
          "table": [
           {
            "cells": {
             "fill": {
              "color": "#EBF0F8"
             },
             "line": {
              "color": "white"
             }
            },
            "header": {
             "fill": {
              "color": "#C8D4E3"
             },
             "line": {
              "color": "white"
             }
            },
            "type": "table"
           }
          ]
         },
         "layout": {
          "annotationdefaults": {
           "arrowcolor": "#2a3f5f",
           "arrowhead": 0,
           "arrowwidth": 1
          },
          "autotypenumbers": "strict",
          "coloraxis": {
           "colorbar": {
            "outlinewidth": 0,
            "ticks": ""
           }
          },
          "colorscale": {
           "diverging": [
            [
             0,
             "#8e0152"
            ],
            [
             0.1,
             "#c51b7d"
            ],
            [
             0.2,
             "#de77ae"
            ],
            [
             0.3,
             "#f1b6da"
            ],
            [
             0.4,
             "#fde0ef"
            ],
            [
             0.5,
             "#f7f7f7"
            ],
            [
             0.6,
             "#e6f5d0"
            ],
            [
             0.7,
             "#b8e186"
            ],
            [
             0.8,
             "#7fbc41"
            ],
            [
             0.9,
             "#4d9221"
            ],
            [
             1,
             "#276419"
            ]
           ],
           "sequential": [
            [
             0,
             "#0d0887"
            ],
            [
             0.1111111111111111,
             "#46039f"
            ],
            [
             0.2222222222222222,
             "#7201a8"
            ],
            [
             0.3333333333333333,
             "#9c179e"
            ],
            [
             0.4444444444444444,
             "#bd3786"
            ],
            [
             0.5555555555555556,
             "#d8576b"
            ],
            [
             0.6666666666666666,
             "#ed7953"
            ],
            [
             0.7777777777777778,
             "#fb9f3a"
            ],
            [
             0.8888888888888888,
             "#fdca26"
            ],
            [
             1,
             "#f0f921"
            ]
           ],
           "sequentialminus": [
            [
             0,
             "#0d0887"
            ],
            [
             0.1111111111111111,
             "#46039f"
            ],
            [
             0.2222222222222222,
             "#7201a8"
            ],
            [
             0.3333333333333333,
             "#9c179e"
            ],
            [
             0.4444444444444444,
             "#bd3786"
            ],
            [
             0.5555555555555556,
             "#d8576b"
            ],
            [
             0.6666666666666666,
             "#ed7953"
            ],
            [
             0.7777777777777778,
             "#fb9f3a"
            ],
            [
             0.8888888888888888,
             "#fdca26"
            ],
            [
             1,
             "#f0f921"
            ]
           ]
          },
          "colorway": [
           "#636efa",
           "#EF553B",
           "#00cc96",
           "#ab63fa",
           "#FFA15A",
           "#19d3f3",
           "#FF6692",
           "#B6E880",
           "#FF97FF",
           "#FECB52"
          ],
          "font": {
           "color": "#2a3f5f"
          },
          "geo": {
           "bgcolor": "white",
           "lakecolor": "white",
           "landcolor": "#E5ECF6",
           "showlakes": true,
           "showland": true,
           "subunitcolor": "white"
          },
          "hoverlabel": {
           "align": "left"
          },
          "hovermode": "closest",
          "mapbox": {
           "style": "light"
          },
          "paper_bgcolor": "white",
          "plot_bgcolor": "#E5ECF6",
          "polar": {
           "angularaxis": {
            "gridcolor": "white",
            "linecolor": "white",
            "ticks": ""
           },
           "bgcolor": "#E5ECF6",
           "radialaxis": {
            "gridcolor": "white",
            "linecolor": "white",
            "ticks": ""
           }
          },
          "scene": {
           "xaxis": {
            "backgroundcolor": "#E5ECF6",
            "gridcolor": "white",
            "gridwidth": 2,
            "linecolor": "white",
            "showbackground": true,
            "ticks": "",
            "zerolinecolor": "white"
           },
           "yaxis": {
            "backgroundcolor": "#E5ECF6",
            "gridcolor": "white",
            "gridwidth": 2,
            "linecolor": "white",
            "showbackground": true,
            "ticks": "",
            "zerolinecolor": "white"
           },
           "zaxis": {
            "backgroundcolor": "#E5ECF6",
            "gridcolor": "white",
            "gridwidth": 2,
            "linecolor": "white",
            "showbackground": true,
            "ticks": "",
            "zerolinecolor": "white"
           }
          },
          "shapedefaults": {
           "line": {
            "color": "#2a3f5f"
           }
          },
          "ternary": {
           "aaxis": {
            "gridcolor": "white",
            "linecolor": "white",
            "ticks": ""
           },
           "baxis": {
            "gridcolor": "white",
            "linecolor": "white",
            "ticks": ""
           },
           "bgcolor": "#E5ECF6",
           "caxis": {
            "gridcolor": "white",
            "linecolor": "white",
            "ticks": ""
           }
          },
          "title": {
           "x": 0.05
          },
          "xaxis": {
           "automargin": true,
           "gridcolor": "white",
           "linecolor": "white",
           "ticks": "",
           "title": {
            "standoff": 15
           },
           "zerolinecolor": "white",
           "zerolinewidth": 2
          },
          "yaxis": {
           "automargin": true,
           "gridcolor": "white",
           "linecolor": "white",
           "ticks": "",
           "title": {
            "standoff": 15
           },
           "zerolinecolor": "white",
           "zerolinewidth": 2
          }
         }
        },
        "xaxis": {
         "anchor": "y",
         "domain": [
          0,
          1
         ],
         "title": {
          "text": "index"
         }
        },
        "yaxis": {
         "anchor": "x",
         "domain": [
          0,
          1
         ],
         "title": {
          "text": "RX5day"
         }
        }
       }
      }
     },
     "metadata": {},
     "output_type": "display_data"
    }
   ],
   "source": [
    "fig = px.line(model_list[0].df_monthly, y=\"RX5day\")\n",
    "fig.show()"
   ]
  },
  {
   "cell_type": "code",
   "execution_count": 8,
   "metadata": {},
   "outputs": [
    {
     "data": {
      "application/vnd.plotly.v1+json": {
       "config": {
        "plotlyServerURL": "https://plot.ly"
       },
       "data": [
        {
         "hovertemplate": "index=%{x}<br>CSDI_duration=%{y}<extra></extra>",
         "legendgroup": "",
         "line": {
          "color": "#636efa",
          "dash": "solid"
         },
         "marker": {
          "symbol": "circle"
         },
         "mode": "lines",
         "name": "",
         "orientation": "v",
         "showlegend": false,
         "type": "scatter",
         "x": [
          "2015-12-31T12:00:00",
          "2016-12-31T12:00:00",
          "2017-12-31T12:00:00",
          "2018-12-31T12:00:00",
          "2019-12-31T12:00:00",
          "2020-12-31T12:00:00",
          "2021-12-31T12:00:00",
          "2022-12-31T12:00:00",
          "2023-12-31T12:00:00",
          "2024-12-31T12:00:00",
          "2025-12-31T12:00:00",
          "2026-12-31T12:00:00",
          "2027-12-31T12:00:00",
          "2028-12-31T12:00:00",
          "2029-12-31T12:00:00",
          "2030-12-31T12:00:00",
          "2031-12-31T12:00:00",
          "2032-12-31T12:00:00",
          "2033-12-31T12:00:00",
          "2034-12-31T12:00:00",
          "2035-12-31T12:00:00",
          "2036-12-31T12:00:00",
          "2037-12-31T12:00:00",
          "2038-12-31T12:00:00",
          "2039-12-31T12:00:00",
          "2040-12-31T12:00:00",
          "2041-12-31T12:00:00",
          "2042-12-31T12:00:00",
          "2043-12-31T12:00:00",
          "2044-12-31T12:00:00",
          "2045-12-31T12:00:00",
          "2046-12-31T12:00:00",
          "2047-12-31T12:00:00",
          "2048-12-31T12:00:00",
          "2049-12-31T12:00:00",
          "2050-12-31T12:00:00",
          "2051-12-31T12:00:00",
          "2052-12-31T12:00:00",
          "2053-12-31T12:00:00",
          "2054-12-31T12:00:00",
          "2055-12-31T12:00:00",
          "2056-12-31T12:00:00",
          "2057-12-31T12:00:00",
          "2058-12-31T12:00:00",
          "2059-12-31T12:00:00",
          "2060-12-31T12:00:00",
          "2061-12-31T12:00:00",
          "2062-12-31T12:00:00",
          "2063-12-31T12:00:00",
          "2064-12-31T12:00:00",
          "2065-12-31T12:00:00",
          "2066-12-31T12:00:00",
          "2067-12-31T12:00:00",
          "2068-12-31T12:00:00",
          "2069-12-31T12:00:00",
          "2070-12-31T12:00:00",
          "2071-12-31T12:00:00",
          "2072-12-31T12:00:00",
          "2073-12-31T12:00:00",
          "2074-12-31T12:00:00",
          "2075-12-31T12:00:00",
          "2076-12-31T12:00:00",
          "2077-12-31T12:00:00",
          "2078-12-31T12:00:00",
          "2079-12-31T12:00:00",
          "2080-12-31T12:00:00",
          "2081-12-31T12:00:00",
          "2082-12-31T12:00:00",
          "2083-12-31T12:00:00",
          "2084-12-31T12:00:00",
          "2085-12-31T12:00:00",
          "2086-12-31T12:00:00",
          "2087-12-31T12:00:00",
          "2088-12-31T12:00:00",
          "2089-12-31T12:00:00",
          "2090-12-31T12:00:00",
          "2091-12-31T12:00:00",
          "2092-12-31T12:00:00",
          "2093-12-31T12:00:00",
          "2094-12-31T12:00:00",
          "2095-12-31T12:00:00",
          "2096-12-31T12:00:00",
          "2097-12-31T12:00:00",
          "2098-12-31T12:00:00",
          "2099-12-31T12:00:00"
         ],
         "xaxis": "x",
         "y": [
          null,
          10,
          11.5,
          14,
          10,
          10,
          9,
          7,
          10,
          12,
          null,
          null,
          7.333333333333333,
          null,
          null,
          11.666666666666666,
          null,
          null,
          null,
          7,
          null,
          null,
          7,
          null,
          null,
          null,
          null,
          null,
          9,
          null,
          12,
          9,
          12,
          null,
          null,
          null,
          10,
          9,
          null,
          null,
          null,
          null,
          null,
          null,
          null,
          null,
          null,
          null,
          null,
          null,
          null,
          null,
          null,
          8,
          null,
          null,
          null,
          null,
          null,
          null,
          null,
          7,
          null,
          null,
          null,
          null,
          null,
          7,
          null,
          null,
          null,
          null,
          null,
          null,
          null,
          null,
          null,
          null,
          null,
          null,
          null,
          null,
          null,
          null,
          null
         ],
         "yaxis": "y"
        }
       ],
       "layout": {
        "legend": {
         "tracegroupgap": 0
        },
        "margin": {
         "t": 60
        },
        "template": {
         "data": {
          "bar": [
           {
            "error_x": {
             "color": "#2a3f5f"
            },
            "error_y": {
             "color": "#2a3f5f"
            },
            "marker": {
             "line": {
              "color": "#E5ECF6",
              "width": 0.5
             },
             "pattern": {
              "fillmode": "overlay",
              "size": 10,
              "solidity": 0.2
             }
            },
            "type": "bar"
           }
          ],
          "barpolar": [
           {
            "marker": {
             "line": {
              "color": "#E5ECF6",
              "width": 0.5
             },
             "pattern": {
              "fillmode": "overlay",
              "size": 10,
              "solidity": 0.2
             }
            },
            "type": "barpolar"
           }
          ],
          "carpet": [
           {
            "aaxis": {
             "endlinecolor": "#2a3f5f",
             "gridcolor": "white",
             "linecolor": "white",
             "minorgridcolor": "white",
             "startlinecolor": "#2a3f5f"
            },
            "baxis": {
             "endlinecolor": "#2a3f5f",
             "gridcolor": "white",
             "linecolor": "white",
             "minorgridcolor": "white",
             "startlinecolor": "#2a3f5f"
            },
            "type": "carpet"
           }
          ],
          "choropleth": [
           {
            "colorbar": {
             "outlinewidth": 0,
             "ticks": ""
            },
            "type": "choropleth"
           }
          ],
          "contour": [
           {
            "colorbar": {
             "outlinewidth": 0,
             "ticks": ""
            },
            "colorscale": [
             [
              0,
              "#0d0887"
             ],
             [
              0.1111111111111111,
              "#46039f"
             ],
             [
              0.2222222222222222,
              "#7201a8"
             ],
             [
              0.3333333333333333,
              "#9c179e"
             ],
             [
              0.4444444444444444,
              "#bd3786"
             ],
             [
              0.5555555555555556,
              "#d8576b"
             ],
             [
              0.6666666666666666,
              "#ed7953"
             ],
             [
              0.7777777777777778,
              "#fb9f3a"
             ],
             [
              0.8888888888888888,
              "#fdca26"
             ],
             [
              1,
              "#f0f921"
             ]
            ],
            "type": "contour"
           }
          ],
          "contourcarpet": [
           {
            "colorbar": {
             "outlinewidth": 0,
             "ticks": ""
            },
            "type": "contourcarpet"
           }
          ],
          "heatmap": [
           {
            "colorbar": {
             "outlinewidth": 0,
             "ticks": ""
            },
            "colorscale": [
             [
              0,
              "#0d0887"
             ],
             [
              0.1111111111111111,
              "#46039f"
             ],
             [
              0.2222222222222222,
              "#7201a8"
             ],
             [
              0.3333333333333333,
              "#9c179e"
             ],
             [
              0.4444444444444444,
              "#bd3786"
             ],
             [
              0.5555555555555556,
              "#d8576b"
             ],
             [
              0.6666666666666666,
              "#ed7953"
             ],
             [
              0.7777777777777778,
              "#fb9f3a"
             ],
             [
              0.8888888888888888,
              "#fdca26"
             ],
             [
              1,
              "#f0f921"
             ]
            ],
            "type": "heatmap"
           }
          ],
          "heatmapgl": [
           {
            "colorbar": {
             "outlinewidth": 0,
             "ticks": ""
            },
            "colorscale": [
             [
              0,
              "#0d0887"
             ],
             [
              0.1111111111111111,
              "#46039f"
             ],
             [
              0.2222222222222222,
              "#7201a8"
             ],
             [
              0.3333333333333333,
              "#9c179e"
             ],
             [
              0.4444444444444444,
              "#bd3786"
             ],
             [
              0.5555555555555556,
              "#d8576b"
             ],
             [
              0.6666666666666666,
              "#ed7953"
             ],
             [
              0.7777777777777778,
              "#fb9f3a"
             ],
             [
              0.8888888888888888,
              "#fdca26"
             ],
             [
              1,
              "#f0f921"
             ]
            ],
            "type": "heatmapgl"
           }
          ],
          "histogram": [
           {
            "marker": {
             "pattern": {
              "fillmode": "overlay",
              "size": 10,
              "solidity": 0.2
             }
            },
            "type": "histogram"
           }
          ],
          "histogram2d": [
           {
            "colorbar": {
             "outlinewidth": 0,
             "ticks": ""
            },
            "colorscale": [
             [
              0,
              "#0d0887"
             ],
             [
              0.1111111111111111,
              "#46039f"
             ],
             [
              0.2222222222222222,
              "#7201a8"
             ],
             [
              0.3333333333333333,
              "#9c179e"
             ],
             [
              0.4444444444444444,
              "#bd3786"
             ],
             [
              0.5555555555555556,
              "#d8576b"
             ],
             [
              0.6666666666666666,
              "#ed7953"
             ],
             [
              0.7777777777777778,
              "#fb9f3a"
             ],
             [
              0.8888888888888888,
              "#fdca26"
             ],
             [
              1,
              "#f0f921"
             ]
            ],
            "type": "histogram2d"
           }
          ],
          "histogram2dcontour": [
           {
            "colorbar": {
             "outlinewidth": 0,
             "ticks": ""
            },
            "colorscale": [
             [
              0,
              "#0d0887"
             ],
             [
              0.1111111111111111,
              "#46039f"
             ],
             [
              0.2222222222222222,
              "#7201a8"
             ],
             [
              0.3333333333333333,
              "#9c179e"
             ],
             [
              0.4444444444444444,
              "#bd3786"
             ],
             [
              0.5555555555555556,
              "#d8576b"
             ],
             [
              0.6666666666666666,
              "#ed7953"
             ],
             [
              0.7777777777777778,
              "#fb9f3a"
             ],
             [
              0.8888888888888888,
              "#fdca26"
             ],
             [
              1,
              "#f0f921"
             ]
            ],
            "type": "histogram2dcontour"
           }
          ],
          "mesh3d": [
           {
            "colorbar": {
             "outlinewidth": 0,
             "ticks": ""
            },
            "type": "mesh3d"
           }
          ],
          "parcoords": [
           {
            "line": {
             "colorbar": {
              "outlinewidth": 0,
              "ticks": ""
             }
            },
            "type": "parcoords"
           }
          ],
          "pie": [
           {
            "automargin": true,
            "type": "pie"
           }
          ],
          "scatter": [
           {
            "fillpattern": {
             "fillmode": "overlay",
             "size": 10,
             "solidity": 0.2
            },
            "type": "scatter"
           }
          ],
          "scatter3d": [
           {
            "line": {
             "colorbar": {
              "outlinewidth": 0,
              "ticks": ""
             }
            },
            "marker": {
             "colorbar": {
              "outlinewidth": 0,
              "ticks": ""
             }
            },
            "type": "scatter3d"
           }
          ],
          "scattercarpet": [
           {
            "marker": {
             "colorbar": {
              "outlinewidth": 0,
              "ticks": ""
             }
            },
            "type": "scattercarpet"
           }
          ],
          "scattergeo": [
           {
            "marker": {
             "colorbar": {
              "outlinewidth": 0,
              "ticks": ""
             }
            },
            "type": "scattergeo"
           }
          ],
          "scattergl": [
           {
            "marker": {
             "colorbar": {
              "outlinewidth": 0,
              "ticks": ""
             }
            },
            "type": "scattergl"
           }
          ],
          "scattermapbox": [
           {
            "marker": {
             "colorbar": {
              "outlinewidth": 0,
              "ticks": ""
             }
            },
            "type": "scattermapbox"
           }
          ],
          "scatterpolar": [
           {
            "marker": {
             "colorbar": {
              "outlinewidth": 0,
              "ticks": ""
             }
            },
            "type": "scatterpolar"
           }
          ],
          "scatterpolargl": [
           {
            "marker": {
             "colorbar": {
              "outlinewidth": 0,
              "ticks": ""
             }
            },
            "type": "scatterpolargl"
           }
          ],
          "scatterternary": [
           {
            "marker": {
             "colorbar": {
              "outlinewidth": 0,
              "ticks": ""
             }
            },
            "type": "scatterternary"
           }
          ],
          "surface": [
           {
            "colorbar": {
             "outlinewidth": 0,
             "ticks": ""
            },
            "colorscale": [
             [
              0,
              "#0d0887"
             ],
             [
              0.1111111111111111,
              "#46039f"
             ],
             [
              0.2222222222222222,
              "#7201a8"
             ],
             [
              0.3333333333333333,
              "#9c179e"
             ],
             [
              0.4444444444444444,
              "#bd3786"
             ],
             [
              0.5555555555555556,
              "#d8576b"
             ],
             [
              0.6666666666666666,
              "#ed7953"
             ],
             [
              0.7777777777777778,
              "#fb9f3a"
             ],
             [
              0.8888888888888888,
              "#fdca26"
             ],
             [
              1,
              "#f0f921"
             ]
            ],
            "type": "surface"
           }
          ],
          "table": [
           {
            "cells": {
             "fill": {
              "color": "#EBF0F8"
             },
             "line": {
              "color": "white"
             }
            },
            "header": {
             "fill": {
              "color": "#C8D4E3"
             },
             "line": {
              "color": "white"
             }
            },
            "type": "table"
           }
          ]
         },
         "layout": {
          "annotationdefaults": {
           "arrowcolor": "#2a3f5f",
           "arrowhead": 0,
           "arrowwidth": 1
          },
          "autotypenumbers": "strict",
          "coloraxis": {
           "colorbar": {
            "outlinewidth": 0,
            "ticks": ""
           }
          },
          "colorscale": {
           "diverging": [
            [
             0,
             "#8e0152"
            ],
            [
             0.1,
             "#c51b7d"
            ],
            [
             0.2,
             "#de77ae"
            ],
            [
             0.3,
             "#f1b6da"
            ],
            [
             0.4,
             "#fde0ef"
            ],
            [
             0.5,
             "#f7f7f7"
            ],
            [
             0.6,
             "#e6f5d0"
            ],
            [
             0.7,
             "#b8e186"
            ],
            [
             0.8,
             "#7fbc41"
            ],
            [
             0.9,
             "#4d9221"
            ],
            [
             1,
             "#276419"
            ]
           ],
           "sequential": [
            [
             0,
             "#0d0887"
            ],
            [
             0.1111111111111111,
             "#46039f"
            ],
            [
             0.2222222222222222,
             "#7201a8"
            ],
            [
             0.3333333333333333,
             "#9c179e"
            ],
            [
             0.4444444444444444,
             "#bd3786"
            ],
            [
             0.5555555555555556,
             "#d8576b"
            ],
            [
             0.6666666666666666,
             "#ed7953"
            ],
            [
             0.7777777777777778,
             "#fb9f3a"
            ],
            [
             0.8888888888888888,
             "#fdca26"
            ],
            [
             1,
             "#f0f921"
            ]
           ],
           "sequentialminus": [
            [
             0,
             "#0d0887"
            ],
            [
             0.1111111111111111,
             "#46039f"
            ],
            [
             0.2222222222222222,
             "#7201a8"
            ],
            [
             0.3333333333333333,
             "#9c179e"
            ],
            [
             0.4444444444444444,
             "#bd3786"
            ],
            [
             0.5555555555555556,
             "#d8576b"
            ],
            [
             0.6666666666666666,
             "#ed7953"
            ],
            [
             0.7777777777777778,
             "#fb9f3a"
            ],
            [
             0.8888888888888888,
             "#fdca26"
            ],
            [
             1,
             "#f0f921"
            ]
           ]
          },
          "colorway": [
           "#636efa",
           "#EF553B",
           "#00cc96",
           "#ab63fa",
           "#FFA15A",
           "#19d3f3",
           "#FF6692",
           "#B6E880",
           "#FF97FF",
           "#FECB52"
          ],
          "font": {
           "color": "#2a3f5f"
          },
          "geo": {
           "bgcolor": "white",
           "lakecolor": "white",
           "landcolor": "#E5ECF6",
           "showlakes": true,
           "showland": true,
           "subunitcolor": "white"
          },
          "hoverlabel": {
           "align": "left"
          },
          "hovermode": "closest",
          "mapbox": {
           "style": "light"
          },
          "paper_bgcolor": "white",
          "plot_bgcolor": "#E5ECF6",
          "polar": {
           "angularaxis": {
            "gridcolor": "white",
            "linecolor": "white",
            "ticks": ""
           },
           "bgcolor": "#E5ECF6",
           "radialaxis": {
            "gridcolor": "white",
            "linecolor": "white",
            "ticks": ""
           }
          },
          "scene": {
           "xaxis": {
            "backgroundcolor": "#E5ECF6",
            "gridcolor": "white",
            "gridwidth": 2,
            "linecolor": "white",
            "showbackground": true,
            "ticks": "",
            "zerolinecolor": "white"
           },
           "yaxis": {
            "backgroundcolor": "#E5ECF6",
            "gridcolor": "white",
            "gridwidth": 2,
            "linecolor": "white",
            "showbackground": true,
            "ticks": "",
            "zerolinecolor": "white"
           },
           "zaxis": {
            "backgroundcolor": "#E5ECF6",
            "gridcolor": "white",
            "gridwidth": 2,
            "linecolor": "white",
            "showbackground": true,
            "ticks": "",
            "zerolinecolor": "white"
           }
          },
          "shapedefaults": {
           "line": {
            "color": "#2a3f5f"
           }
          },
          "ternary": {
           "aaxis": {
            "gridcolor": "white",
            "linecolor": "white",
            "ticks": ""
           },
           "baxis": {
            "gridcolor": "white",
            "linecolor": "white",
            "ticks": ""
           },
           "bgcolor": "#E5ECF6",
           "caxis": {
            "gridcolor": "white",
            "linecolor": "white",
            "ticks": ""
           }
          },
          "title": {
           "x": 0.05
          },
          "xaxis": {
           "automargin": true,
           "gridcolor": "white",
           "linecolor": "white",
           "ticks": "",
           "title": {
            "standoff": 15
           },
           "zerolinecolor": "white",
           "zerolinewidth": 2
          },
          "yaxis": {
           "automargin": true,
           "gridcolor": "white",
           "linecolor": "white",
           "ticks": "",
           "title": {
            "standoff": 15
           },
           "zerolinecolor": "white",
           "zerolinewidth": 2
          }
         }
        },
        "xaxis": {
         "anchor": "y",
         "domain": [
          0,
          1
         ],
         "title": {
          "text": "index"
         }
        },
        "yaxis": {
         "anchor": "x",
         "domain": [
          0,
          1
         ],
         "title": {
          "text": "CSDI_duration"
         }
        }
       }
      }
     },
     "metadata": {},
     "output_type": "display_data"
    }
   ],
   "source": [
    "fig = px.line(model_list[0].df_annual, y=\"CSDI_duration\")\n",
    "fig.show()"
   ]
  },
  {
   "cell_type": "code",
   "execution_count": 9,
   "metadata": {},
   "outputs": [
    {
     "data": {
      "application/vnd.plotly.v1+json": {
       "config": {
        "plotlyServerURL": "https://plot.ly"
       },
       "data": [
        {
         "hovertemplate": "index=%{x}<br>CSDI=%{y}<extra></extra>",
         "legendgroup": "",
         "line": {
          "color": "#636efa",
          "dash": "solid"
         },
         "marker": {
          "symbol": "circle"
         },
         "mode": "lines",
         "name": "",
         "orientation": "v",
         "showlegend": false,
         "type": "scatter",
         "x": [
          "2015-12-31T12:00:00",
          "2016-12-31T12:00:00",
          "2017-12-31T12:00:00",
          "2018-12-31T12:00:00",
          "2019-12-31T12:00:00",
          "2020-12-31T12:00:00",
          "2021-12-31T12:00:00",
          "2022-12-31T12:00:00",
          "2023-12-31T12:00:00",
          "2024-12-31T12:00:00",
          "2025-12-31T12:00:00",
          "2026-12-31T12:00:00",
          "2027-12-31T12:00:00",
          "2028-12-31T12:00:00",
          "2029-12-31T12:00:00",
          "2030-12-31T12:00:00",
          "2031-12-31T12:00:00",
          "2032-12-31T12:00:00",
          "2033-12-31T12:00:00",
          "2034-12-31T12:00:00",
          "2035-12-31T12:00:00",
          "2036-12-31T12:00:00",
          "2037-12-31T12:00:00",
          "2038-12-31T12:00:00",
          "2039-12-31T12:00:00",
          "2040-12-31T12:00:00",
          "2041-12-31T12:00:00",
          "2042-12-31T12:00:00",
          "2043-12-31T12:00:00",
          "2044-12-31T12:00:00",
          "2045-12-31T12:00:00",
          "2046-12-31T12:00:00",
          "2047-12-31T12:00:00",
          "2048-12-31T12:00:00",
          "2049-12-31T12:00:00",
          "2050-12-31T12:00:00",
          "2051-12-31T12:00:00",
          "2052-12-31T12:00:00",
          "2053-12-31T12:00:00",
          "2054-12-31T12:00:00",
          "2055-12-31T12:00:00",
          "2056-12-31T12:00:00",
          "2057-12-31T12:00:00",
          "2058-12-31T12:00:00",
          "2059-12-31T12:00:00",
          "2060-12-31T12:00:00",
          "2061-12-31T12:00:00",
          "2062-12-31T12:00:00",
          "2063-12-31T12:00:00",
          "2064-12-31T12:00:00",
          "2065-12-31T12:00:00",
          "2066-12-31T12:00:00",
          "2067-12-31T12:00:00",
          "2068-12-31T12:00:00",
          "2069-12-31T12:00:00",
          "2070-12-31T12:00:00",
          "2071-12-31T12:00:00",
          "2072-12-31T12:00:00",
          "2073-12-31T12:00:00",
          "2074-12-31T12:00:00",
          "2075-12-31T12:00:00",
          "2076-12-31T12:00:00",
          "2077-12-31T12:00:00",
          "2078-12-31T12:00:00",
          "2079-12-31T12:00:00",
          "2080-12-31T12:00:00",
          "2081-12-31T12:00:00",
          "2082-12-31T12:00:00",
          "2083-12-31T12:00:00",
          "2084-12-31T12:00:00",
          "2085-12-31T12:00:00",
          "2086-12-31T12:00:00",
          "2087-12-31T12:00:00",
          "2088-12-31T12:00:00",
          "2089-12-31T12:00:00",
          "2090-12-31T12:00:00",
          "2091-12-31T12:00:00",
          "2092-12-31T12:00:00",
          "2093-12-31T12:00:00",
          "2094-12-31T12:00:00",
          "2095-12-31T12:00:00",
          "2096-12-31T12:00:00",
          "2097-12-31T12:00:00",
          "2098-12-31T12:00:00",
          "2099-12-31T12:00:00"
         ],
         "xaxis": "x",
         "y": [
          0,
          2,
          2,
          1,
          1,
          1,
          1,
          1,
          1,
          3,
          0,
          0,
          3,
          0,
          0,
          3,
          0,
          0,
          0,
          1,
          0,
          0,
          1,
          0,
          0,
          0,
          0,
          0,
          1,
          0,
          1,
          3,
          1,
          0,
          0,
          0,
          1,
          1,
          0,
          0,
          0,
          0,
          0,
          0,
          0,
          0,
          0,
          0,
          0,
          0,
          0,
          0,
          0,
          1,
          0,
          0,
          0,
          0,
          0,
          0,
          0,
          1,
          0,
          0,
          0,
          0,
          0,
          1,
          0,
          0,
          0,
          0,
          0,
          0,
          0,
          0,
          0,
          0,
          0,
          0,
          0,
          0,
          0,
          0,
          0
         ],
         "yaxis": "y"
        }
       ],
       "layout": {
        "legend": {
         "tracegroupgap": 0
        },
        "margin": {
         "t": 60
        },
        "template": {
         "data": {
          "bar": [
           {
            "error_x": {
             "color": "#2a3f5f"
            },
            "error_y": {
             "color": "#2a3f5f"
            },
            "marker": {
             "line": {
              "color": "#E5ECF6",
              "width": 0.5
             },
             "pattern": {
              "fillmode": "overlay",
              "size": 10,
              "solidity": 0.2
             }
            },
            "type": "bar"
           }
          ],
          "barpolar": [
           {
            "marker": {
             "line": {
              "color": "#E5ECF6",
              "width": 0.5
             },
             "pattern": {
              "fillmode": "overlay",
              "size": 10,
              "solidity": 0.2
             }
            },
            "type": "barpolar"
           }
          ],
          "carpet": [
           {
            "aaxis": {
             "endlinecolor": "#2a3f5f",
             "gridcolor": "white",
             "linecolor": "white",
             "minorgridcolor": "white",
             "startlinecolor": "#2a3f5f"
            },
            "baxis": {
             "endlinecolor": "#2a3f5f",
             "gridcolor": "white",
             "linecolor": "white",
             "minorgridcolor": "white",
             "startlinecolor": "#2a3f5f"
            },
            "type": "carpet"
           }
          ],
          "choropleth": [
           {
            "colorbar": {
             "outlinewidth": 0,
             "ticks": ""
            },
            "type": "choropleth"
           }
          ],
          "contour": [
           {
            "colorbar": {
             "outlinewidth": 0,
             "ticks": ""
            },
            "colorscale": [
             [
              0,
              "#0d0887"
             ],
             [
              0.1111111111111111,
              "#46039f"
             ],
             [
              0.2222222222222222,
              "#7201a8"
             ],
             [
              0.3333333333333333,
              "#9c179e"
             ],
             [
              0.4444444444444444,
              "#bd3786"
             ],
             [
              0.5555555555555556,
              "#d8576b"
             ],
             [
              0.6666666666666666,
              "#ed7953"
             ],
             [
              0.7777777777777778,
              "#fb9f3a"
             ],
             [
              0.8888888888888888,
              "#fdca26"
             ],
             [
              1,
              "#f0f921"
             ]
            ],
            "type": "contour"
           }
          ],
          "contourcarpet": [
           {
            "colorbar": {
             "outlinewidth": 0,
             "ticks": ""
            },
            "type": "contourcarpet"
           }
          ],
          "heatmap": [
           {
            "colorbar": {
             "outlinewidth": 0,
             "ticks": ""
            },
            "colorscale": [
             [
              0,
              "#0d0887"
             ],
             [
              0.1111111111111111,
              "#46039f"
             ],
             [
              0.2222222222222222,
              "#7201a8"
             ],
             [
              0.3333333333333333,
              "#9c179e"
             ],
             [
              0.4444444444444444,
              "#bd3786"
             ],
             [
              0.5555555555555556,
              "#d8576b"
             ],
             [
              0.6666666666666666,
              "#ed7953"
             ],
             [
              0.7777777777777778,
              "#fb9f3a"
             ],
             [
              0.8888888888888888,
              "#fdca26"
             ],
             [
              1,
              "#f0f921"
             ]
            ],
            "type": "heatmap"
           }
          ],
          "heatmapgl": [
           {
            "colorbar": {
             "outlinewidth": 0,
             "ticks": ""
            },
            "colorscale": [
             [
              0,
              "#0d0887"
             ],
             [
              0.1111111111111111,
              "#46039f"
             ],
             [
              0.2222222222222222,
              "#7201a8"
             ],
             [
              0.3333333333333333,
              "#9c179e"
             ],
             [
              0.4444444444444444,
              "#bd3786"
             ],
             [
              0.5555555555555556,
              "#d8576b"
             ],
             [
              0.6666666666666666,
              "#ed7953"
             ],
             [
              0.7777777777777778,
              "#fb9f3a"
             ],
             [
              0.8888888888888888,
              "#fdca26"
             ],
             [
              1,
              "#f0f921"
             ]
            ],
            "type": "heatmapgl"
           }
          ],
          "histogram": [
           {
            "marker": {
             "pattern": {
              "fillmode": "overlay",
              "size": 10,
              "solidity": 0.2
             }
            },
            "type": "histogram"
           }
          ],
          "histogram2d": [
           {
            "colorbar": {
             "outlinewidth": 0,
             "ticks": ""
            },
            "colorscale": [
             [
              0,
              "#0d0887"
             ],
             [
              0.1111111111111111,
              "#46039f"
             ],
             [
              0.2222222222222222,
              "#7201a8"
             ],
             [
              0.3333333333333333,
              "#9c179e"
             ],
             [
              0.4444444444444444,
              "#bd3786"
             ],
             [
              0.5555555555555556,
              "#d8576b"
             ],
             [
              0.6666666666666666,
              "#ed7953"
             ],
             [
              0.7777777777777778,
              "#fb9f3a"
             ],
             [
              0.8888888888888888,
              "#fdca26"
             ],
             [
              1,
              "#f0f921"
             ]
            ],
            "type": "histogram2d"
           }
          ],
          "histogram2dcontour": [
           {
            "colorbar": {
             "outlinewidth": 0,
             "ticks": ""
            },
            "colorscale": [
             [
              0,
              "#0d0887"
             ],
             [
              0.1111111111111111,
              "#46039f"
             ],
             [
              0.2222222222222222,
              "#7201a8"
             ],
             [
              0.3333333333333333,
              "#9c179e"
             ],
             [
              0.4444444444444444,
              "#bd3786"
             ],
             [
              0.5555555555555556,
              "#d8576b"
             ],
             [
              0.6666666666666666,
              "#ed7953"
             ],
             [
              0.7777777777777778,
              "#fb9f3a"
             ],
             [
              0.8888888888888888,
              "#fdca26"
             ],
             [
              1,
              "#f0f921"
             ]
            ],
            "type": "histogram2dcontour"
           }
          ],
          "mesh3d": [
           {
            "colorbar": {
             "outlinewidth": 0,
             "ticks": ""
            },
            "type": "mesh3d"
           }
          ],
          "parcoords": [
           {
            "line": {
             "colorbar": {
              "outlinewidth": 0,
              "ticks": ""
             }
            },
            "type": "parcoords"
           }
          ],
          "pie": [
           {
            "automargin": true,
            "type": "pie"
           }
          ],
          "scatter": [
           {
            "fillpattern": {
             "fillmode": "overlay",
             "size": 10,
             "solidity": 0.2
            },
            "type": "scatter"
           }
          ],
          "scatter3d": [
           {
            "line": {
             "colorbar": {
              "outlinewidth": 0,
              "ticks": ""
             }
            },
            "marker": {
             "colorbar": {
              "outlinewidth": 0,
              "ticks": ""
             }
            },
            "type": "scatter3d"
           }
          ],
          "scattercarpet": [
           {
            "marker": {
             "colorbar": {
              "outlinewidth": 0,
              "ticks": ""
             }
            },
            "type": "scattercarpet"
           }
          ],
          "scattergeo": [
           {
            "marker": {
             "colorbar": {
              "outlinewidth": 0,
              "ticks": ""
             }
            },
            "type": "scattergeo"
           }
          ],
          "scattergl": [
           {
            "marker": {
             "colorbar": {
              "outlinewidth": 0,
              "ticks": ""
             }
            },
            "type": "scattergl"
           }
          ],
          "scattermapbox": [
           {
            "marker": {
             "colorbar": {
              "outlinewidth": 0,
              "ticks": ""
             }
            },
            "type": "scattermapbox"
           }
          ],
          "scatterpolar": [
           {
            "marker": {
             "colorbar": {
              "outlinewidth": 0,
              "ticks": ""
             }
            },
            "type": "scatterpolar"
           }
          ],
          "scatterpolargl": [
           {
            "marker": {
             "colorbar": {
              "outlinewidth": 0,
              "ticks": ""
             }
            },
            "type": "scatterpolargl"
           }
          ],
          "scatterternary": [
           {
            "marker": {
             "colorbar": {
              "outlinewidth": 0,
              "ticks": ""
             }
            },
            "type": "scatterternary"
           }
          ],
          "surface": [
           {
            "colorbar": {
             "outlinewidth": 0,
             "ticks": ""
            },
            "colorscale": [
             [
              0,
              "#0d0887"
             ],
             [
              0.1111111111111111,
              "#46039f"
             ],
             [
              0.2222222222222222,
              "#7201a8"
             ],
             [
              0.3333333333333333,
              "#9c179e"
             ],
             [
              0.4444444444444444,
              "#bd3786"
             ],
             [
              0.5555555555555556,
              "#d8576b"
             ],
             [
              0.6666666666666666,
              "#ed7953"
             ],
             [
              0.7777777777777778,
              "#fb9f3a"
             ],
             [
              0.8888888888888888,
              "#fdca26"
             ],
             [
              1,
              "#f0f921"
             ]
            ],
            "type": "surface"
           }
          ],
          "table": [
           {
            "cells": {
             "fill": {
              "color": "#EBF0F8"
             },
             "line": {
              "color": "white"
             }
            },
            "header": {
             "fill": {
              "color": "#C8D4E3"
             },
             "line": {
              "color": "white"
             }
            },
            "type": "table"
           }
          ]
         },
         "layout": {
          "annotationdefaults": {
           "arrowcolor": "#2a3f5f",
           "arrowhead": 0,
           "arrowwidth": 1
          },
          "autotypenumbers": "strict",
          "coloraxis": {
           "colorbar": {
            "outlinewidth": 0,
            "ticks": ""
           }
          },
          "colorscale": {
           "diverging": [
            [
             0,
             "#8e0152"
            ],
            [
             0.1,
             "#c51b7d"
            ],
            [
             0.2,
             "#de77ae"
            ],
            [
             0.3,
             "#f1b6da"
            ],
            [
             0.4,
             "#fde0ef"
            ],
            [
             0.5,
             "#f7f7f7"
            ],
            [
             0.6,
             "#e6f5d0"
            ],
            [
             0.7,
             "#b8e186"
            ],
            [
             0.8,
             "#7fbc41"
            ],
            [
             0.9,
             "#4d9221"
            ],
            [
             1,
             "#276419"
            ]
           ],
           "sequential": [
            [
             0,
             "#0d0887"
            ],
            [
             0.1111111111111111,
             "#46039f"
            ],
            [
             0.2222222222222222,
             "#7201a8"
            ],
            [
             0.3333333333333333,
             "#9c179e"
            ],
            [
             0.4444444444444444,
             "#bd3786"
            ],
            [
             0.5555555555555556,
             "#d8576b"
            ],
            [
             0.6666666666666666,
             "#ed7953"
            ],
            [
             0.7777777777777778,
             "#fb9f3a"
            ],
            [
             0.8888888888888888,
             "#fdca26"
            ],
            [
             1,
             "#f0f921"
            ]
           ],
           "sequentialminus": [
            [
             0,
             "#0d0887"
            ],
            [
             0.1111111111111111,
             "#46039f"
            ],
            [
             0.2222222222222222,
             "#7201a8"
            ],
            [
             0.3333333333333333,
             "#9c179e"
            ],
            [
             0.4444444444444444,
             "#bd3786"
            ],
            [
             0.5555555555555556,
             "#d8576b"
            ],
            [
             0.6666666666666666,
             "#ed7953"
            ],
            [
             0.7777777777777778,
             "#fb9f3a"
            ],
            [
             0.8888888888888888,
             "#fdca26"
            ],
            [
             1,
             "#f0f921"
            ]
           ]
          },
          "colorway": [
           "#636efa",
           "#EF553B",
           "#00cc96",
           "#ab63fa",
           "#FFA15A",
           "#19d3f3",
           "#FF6692",
           "#B6E880",
           "#FF97FF",
           "#FECB52"
          ],
          "font": {
           "color": "#2a3f5f"
          },
          "geo": {
           "bgcolor": "white",
           "lakecolor": "white",
           "landcolor": "#E5ECF6",
           "showlakes": true,
           "showland": true,
           "subunitcolor": "white"
          },
          "hoverlabel": {
           "align": "left"
          },
          "hovermode": "closest",
          "mapbox": {
           "style": "light"
          },
          "paper_bgcolor": "white",
          "plot_bgcolor": "#E5ECF6",
          "polar": {
           "angularaxis": {
            "gridcolor": "white",
            "linecolor": "white",
            "ticks": ""
           },
           "bgcolor": "#E5ECF6",
           "radialaxis": {
            "gridcolor": "white",
            "linecolor": "white",
            "ticks": ""
           }
          },
          "scene": {
           "xaxis": {
            "backgroundcolor": "#E5ECF6",
            "gridcolor": "white",
            "gridwidth": 2,
            "linecolor": "white",
            "showbackground": true,
            "ticks": "",
            "zerolinecolor": "white"
           },
           "yaxis": {
            "backgroundcolor": "#E5ECF6",
            "gridcolor": "white",
            "gridwidth": 2,
            "linecolor": "white",
            "showbackground": true,
            "ticks": "",
            "zerolinecolor": "white"
           },
           "zaxis": {
            "backgroundcolor": "#E5ECF6",
            "gridcolor": "white",
            "gridwidth": 2,
            "linecolor": "white",
            "showbackground": true,
            "ticks": "",
            "zerolinecolor": "white"
           }
          },
          "shapedefaults": {
           "line": {
            "color": "#2a3f5f"
           }
          },
          "ternary": {
           "aaxis": {
            "gridcolor": "white",
            "linecolor": "white",
            "ticks": ""
           },
           "baxis": {
            "gridcolor": "white",
            "linecolor": "white",
            "ticks": ""
           },
           "bgcolor": "#E5ECF6",
           "caxis": {
            "gridcolor": "white",
            "linecolor": "white",
            "ticks": ""
           }
          },
          "title": {
           "x": 0.05
          },
          "xaxis": {
           "automargin": true,
           "gridcolor": "white",
           "linecolor": "white",
           "ticks": "",
           "title": {
            "standoff": 15
           },
           "zerolinecolor": "white",
           "zerolinewidth": 2
          },
          "yaxis": {
           "automargin": true,
           "gridcolor": "white",
           "linecolor": "white",
           "ticks": "",
           "title": {
            "standoff": 15
           },
           "zerolinecolor": "white",
           "zerolinewidth": 2
          }
         }
        },
        "xaxis": {
         "anchor": "y",
         "domain": [
          0,
          1
         ],
         "title": {
          "text": "index"
         }
        },
        "yaxis": {
         "anchor": "x",
         "domain": [
          0,
          1
         ],
         "title": {
          "text": "CSDI"
         }
        }
       }
      }
     },
     "metadata": {},
     "output_type": "display_data"
    }
   ],
   "source": [
    "fig = px.line(model_list[0].df_annual, y=\"CSDI\")\n",
    "fig.show()"
   ]
  },
  {
   "cell_type": "code",
   "execution_count": 10,
   "metadata": {},
   "outputs": [
    {
     "data": {
      "application/vnd.plotly.v1+json": {
       "config": {
        "plotlyServerURL": "https://plot.ly"
       },
       "data": [
        {
         "hovertemplate": "index=%{x}<br>Temperature_decade_max_raw=%{y}<extra></extra>",
         "legendgroup": "",
         "line": {
          "color": "#636efa",
          "dash": "solid"
         },
         "marker": {
          "symbol": "circle"
         },
         "mode": "lines",
         "name": "",
         "orientation": "v",
         "showlegend": false,
         "type": "scatter",
         "x": [
          "2020-12-31T12:00:00",
          "2030-12-31T12:00:00",
          "2040-12-31T12:00:00",
          "2050-12-31T12:00:00",
          "2060-12-31T12:00:00",
          "2070-12-31T12:00:00",
          "2080-12-31T12:00:00",
          "2090-12-31T12:00:00"
         ],
         "xaxis": "x",
         "y": [
          37.2464599609375,
          40.92193603515625,
          42.14447021484375,
          41.76214599609375,
          42.817352294921875,
          42.918304443359375,
          42.776336669921875,
          43.8721923828125
         ],
         "yaxis": "y"
        }
       ],
       "layout": {
        "legend": {
         "tracegroupgap": 0
        },
        "margin": {
         "t": 60
        },
        "template": {
         "data": {
          "bar": [
           {
            "error_x": {
             "color": "#2a3f5f"
            },
            "error_y": {
             "color": "#2a3f5f"
            },
            "marker": {
             "line": {
              "color": "#E5ECF6",
              "width": 0.5
             },
             "pattern": {
              "fillmode": "overlay",
              "size": 10,
              "solidity": 0.2
             }
            },
            "type": "bar"
           }
          ],
          "barpolar": [
           {
            "marker": {
             "line": {
              "color": "#E5ECF6",
              "width": 0.5
             },
             "pattern": {
              "fillmode": "overlay",
              "size": 10,
              "solidity": 0.2
             }
            },
            "type": "barpolar"
           }
          ],
          "carpet": [
           {
            "aaxis": {
             "endlinecolor": "#2a3f5f",
             "gridcolor": "white",
             "linecolor": "white",
             "minorgridcolor": "white",
             "startlinecolor": "#2a3f5f"
            },
            "baxis": {
             "endlinecolor": "#2a3f5f",
             "gridcolor": "white",
             "linecolor": "white",
             "minorgridcolor": "white",
             "startlinecolor": "#2a3f5f"
            },
            "type": "carpet"
           }
          ],
          "choropleth": [
           {
            "colorbar": {
             "outlinewidth": 0,
             "ticks": ""
            },
            "type": "choropleth"
           }
          ],
          "contour": [
           {
            "colorbar": {
             "outlinewidth": 0,
             "ticks": ""
            },
            "colorscale": [
             [
              0,
              "#0d0887"
             ],
             [
              0.1111111111111111,
              "#46039f"
             ],
             [
              0.2222222222222222,
              "#7201a8"
             ],
             [
              0.3333333333333333,
              "#9c179e"
             ],
             [
              0.4444444444444444,
              "#bd3786"
             ],
             [
              0.5555555555555556,
              "#d8576b"
             ],
             [
              0.6666666666666666,
              "#ed7953"
             ],
             [
              0.7777777777777778,
              "#fb9f3a"
             ],
             [
              0.8888888888888888,
              "#fdca26"
             ],
             [
              1,
              "#f0f921"
             ]
            ],
            "type": "contour"
           }
          ],
          "contourcarpet": [
           {
            "colorbar": {
             "outlinewidth": 0,
             "ticks": ""
            },
            "type": "contourcarpet"
           }
          ],
          "heatmap": [
           {
            "colorbar": {
             "outlinewidth": 0,
             "ticks": ""
            },
            "colorscale": [
             [
              0,
              "#0d0887"
             ],
             [
              0.1111111111111111,
              "#46039f"
             ],
             [
              0.2222222222222222,
              "#7201a8"
             ],
             [
              0.3333333333333333,
              "#9c179e"
             ],
             [
              0.4444444444444444,
              "#bd3786"
             ],
             [
              0.5555555555555556,
              "#d8576b"
             ],
             [
              0.6666666666666666,
              "#ed7953"
             ],
             [
              0.7777777777777778,
              "#fb9f3a"
             ],
             [
              0.8888888888888888,
              "#fdca26"
             ],
             [
              1,
              "#f0f921"
             ]
            ],
            "type": "heatmap"
           }
          ],
          "heatmapgl": [
           {
            "colorbar": {
             "outlinewidth": 0,
             "ticks": ""
            },
            "colorscale": [
             [
              0,
              "#0d0887"
             ],
             [
              0.1111111111111111,
              "#46039f"
             ],
             [
              0.2222222222222222,
              "#7201a8"
             ],
             [
              0.3333333333333333,
              "#9c179e"
             ],
             [
              0.4444444444444444,
              "#bd3786"
             ],
             [
              0.5555555555555556,
              "#d8576b"
             ],
             [
              0.6666666666666666,
              "#ed7953"
             ],
             [
              0.7777777777777778,
              "#fb9f3a"
             ],
             [
              0.8888888888888888,
              "#fdca26"
             ],
             [
              1,
              "#f0f921"
             ]
            ],
            "type": "heatmapgl"
           }
          ],
          "histogram": [
           {
            "marker": {
             "pattern": {
              "fillmode": "overlay",
              "size": 10,
              "solidity": 0.2
             }
            },
            "type": "histogram"
           }
          ],
          "histogram2d": [
           {
            "colorbar": {
             "outlinewidth": 0,
             "ticks": ""
            },
            "colorscale": [
             [
              0,
              "#0d0887"
             ],
             [
              0.1111111111111111,
              "#46039f"
             ],
             [
              0.2222222222222222,
              "#7201a8"
             ],
             [
              0.3333333333333333,
              "#9c179e"
             ],
             [
              0.4444444444444444,
              "#bd3786"
             ],
             [
              0.5555555555555556,
              "#d8576b"
             ],
             [
              0.6666666666666666,
              "#ed7953"
             ],
             [
              0.7777777777777778,
              "#fb9f3a"
             ],
             [
              0.8888888888888888,
              "#fdca26"
             ],
             [
              1,
              "#f0f921"
             ]
            ],
            "type": "histogram2d"
           }
          ],
          "histogram2dcontour": [
           {
            "colorbar": {
             "outlinewidth": 0,
             "ticks": ""
            },
            "colorscale": [
             [
              0,
              "#0d0887"
             ],
             [
              0.1111111111111111,
              "#46039f"
             ],
             [
              0.2222222222222222,
              "#7201a8"
             ],
             [
              0.3333333333333333,
              "#9c179e"
             ],
             [
              0.4444444444444444,
              "#bd3786"
             ],
             [
              0.5555555555555556,
              "#d8576b"
             ],
             [
              0.6666666666666666,
              "#ed7953"
             ],
             [
              0.7777777777777778,
              "#fb9f3a"
             ],
             [
              0.8888888888888888,
              "#fdca26"
             ],
             [
              1,
              "#f0f921"
             ]
            ],
            "type": "histogram2dcontour"
           }
          ],
          "mesh3d": [
           {
            "colorbar": {
             "outlinewidth": 0,
             "ticks": ""
            },
            "type": "mesh3d"
           }
          ],
          "parcoords": [
           {
            "line": {
             "colorbar": {
              "outlinewidth": 0,
              "ticks": ""
             }
            },
            "type": "parcoords"
           }
          ],
          "pie": [
           {
            "automargin": true,
            "type": "pie"
           }
          ],
          "scatter": [
           {
            "fillpattern": {
             "fillmode": "overlay",
             "size": 10,
             "solidity": 0.2
            },
            "type": "scatter"
           }
          ],
          "scatter3d": [
           {
            "line": {
             "colorbar": {
              "outlinewidth": 0,
              "ticks": ""
             }
            },
            "marker": {
             "colorbar": {
              "outlinewidth": 0,
              "ticks": ""
             }
            },
            "type": "scatter3d"
           }
          ],
          "scattercarpet": [
           {
            "marker": {
             "colorbar": {
              "outlinewidth": 0,
              "ticks": ""
             }
            },
            "type": "scattercarpet"
           }
          ],
          "scattergeo": [
           {
            "marker": {
             "colorbar": {
              "outlinewidth": 0,
              "ticks": ""
             }
            },
            "type": "scattergeo"
           }
          ],
          "scattergl": [
           {
            "marker": {
             "colorbar": {
              "outlinewidth": 0,
              "ticks": ""
             }
            },
            "type": "scattergl"
           }
          ],
          "scattermapbox": [
           {
            "marker": {
             "colorbar": {
              "outlinewidth": 0,
              "ticks": ""
             }
            },
            "type": "scattermapbox"
           }
          ],
          "scatterpolar": [
           {
            "marker": {
             "colorbar": {
              "outlinewidth": 0,
              "ticks": ""
             }
            },
            "type": "scatterpolar"
           }
          ],
          "scatterpolargl": [
           {
            "marker": {
             "colorbar": {
              "outlinewidth": 0,
              "ticks": ""
             }
            },
            "type": "scatterpolargl"
           }
          ],
          "scatterternary": [
           {
            "marker": {
             "colorbar": {
              "outlinewidth": 0,
              "ticks": ""
             }
            },
            "type": "scatterternary"
           }
          ],
          "surface": [
           {
            "colorbar": {
             "outlinewidth": 0,
             "ticks": ""
            },
            "colorscale": [
             [
              0,
              "#0d0887"
             ],
             [
              0.1111111111111111,
              "#46039f"
             ],
             [
              0.2222222222222222,
              "#7201a8"
             ],
             [
              0.3333333333333333,
              "#9c179e"
             ],
             [
              0.4444444444444444,
              "#bd3786"
             ],
             [
              0.5555555555555556,
              "#d8576b"
             ],
             [
              0.6666666666666666,
              "#ed7953"
             ],
             [
              0.7777777777777778,
              "#fb9f3a"
             ],
             [
              0.8888888888888888,
              "#fdca26"
             ],
             [
              1,
              "#f0f921"
             ]
            ],
            "type": "surface"
           }
          ],
          "table": [
           {
            "cells": {
             "fill": {
              "color": "#EBF0F8"
             },
             "line": {
              "color": "white"
             }
            },
            "header": {
             "fill": {
              "color": "#C8D4E3"
             },
             "line": {
              "color": "white"
             }
            },
            "type": "table"
           }
          ]
         },
         "layout": {
          "annotationdefaults": {
           "arrowcolor": "#2a3f5f",
           "arrowhead": 0,
           "arrowwidth": 1
          },
          "autotypenumbers": "strict",
          "coloraxis": {
           "colorbar": {
            "outlinewidth": 0,
            "ticks": ""
           }
          },
          "colorscale": {
           "diverging": [
            [
             0,
             "#8e0152"
            ],
            [
             0.1,
             "#c51b7d"
            ],
            [
             0.2,
             "#de77ae"
            ],
            [
             0.3,
             "#f1b6da"
            ],
            [
             0.4,
             "#fde0ef"
            ],
            [
             0.5,
             "#f7f7f7"
            ],
            [
             0.6,
             "#e6f5d0"
            ],
            [
             0.7,
             "#b8e186"
            ],
            [
             0.8,
             "#7fbc41"
            ],
            [
             0.9,
             "#4d9221"
            ],
            [
             1,
             "#276419"
            ]
           ],
           "sequential": [
            [
             0,
             "#0d0887"
            ],
            [
             0.1111111111111111,
             "#46039f"
            ],
            [
             0.2222222222222222,
             "#7201a8"
            ],
            [
             0.3333333333333333,
             "#9c179e"
            ],
            [
             0.4444444444444444,
             "#bd3786"
            ],
            [
             0.5555555555555556,
             "#d8576b"
            ],
            [
             0.6666666666666666,
             "#ed7953"
            ],
            [
             0.7777777777777778,
             "#fb9f3a"
            ],
            [
             0.8888888888888888,
             "#fdca26"
            ],
            [
             1,
             "#f0f921"
            ]
           ],
           "sequentialminus": [
            [
             0,
             "#0d0887"
            ],
            [
             0.1111111111111111,
             "#46039f"
            ],
            [
             0.2222222222222222,
             "#7201a8"
            ],
            [
             0.3333333333333333,
             "#9c179e"
            ],
            [
             0.4444444444444444,
             "#bd3786"
            ],
            [
             0.5555555555555556,
             "#d8576b"
            ],
            [
             0.6666666666666666,
             "#ed7953"
            ],
            [
             0.7777777777777778,
             "#fb9f3a"
            ],
            [
             0.8888888888888888,
             "#fdca26"
            ],
            [
             1,
             "#f0f921"
            ]
           ]
          },
          "colorway": [
           "#636efa",
           "#EF553B",
           "#00cc96",
           "#ab63fa",
           "#FFA15A",
           "#19d3f3",
           "#FF6692",
           "#B6E880",
           "#FF97FF",
           "#FECB52"
          ],
          "font": {
           "color": "#2a3f5f"
          },
          "geo": {
           "bgcolor": "white",
           "lakecolor": "white",
           "landcolor": "#E5ECF6",
           "showlakes": true,
           "showland": true,
           "subunitcolor": "white"
          },
          "hoverlabel": {
           "align": "left"
          },
          "hovermode": "closest",
          "mapbox": {
           "style": "light"
          },
          "paper_bgcolor": "white",
          "plot_bgcolor": "#E5ECF6",
          "polar": {
           "angularaxis": {
            "gridcolor": "white",
            "linecolor": "white",
            "ticks": ""
           },
           "bgcolor": "#E5ECF6",
           "radialaxis": {
            "gridcolor": "white",
            "linecolor": "white",
            "ticks": ""
           }
          },
          "scene": {
           "xaxis": {
            "backgroundcolor": "#E5ECF6",
            "gridcolor": "white",
            "gridwidth": 2,
            "linecolor": "white",
            "showbackground": true,
            "ticks": "",
            "zerolinecolor": "white"
           },
           "yaxis": {
            "backgroundcolor": "#E5ECF6",
            "gridcolor": "white",
            "gridwidth": 2,
            "linecolor": "white",
            "showbackground": true,
            "ticks": "",
            "zerolinecolor": "white"
           },
           "zaxis": {
            "backgroundcolor": "#E5ECF6",
            "gridcolor": "white",
            "gridwidth": 2,
            "linecolor": "white",
            "showbackground": true,
            "ticks": "",
            "zerolinecolor": "white"
           }
          },
          "shapedefaults": {
           "line": {
            "color": "#2a3f5f"
           }
          },
          "ternary": {
           "aaxis": {
            "gridcolor": "white",
            "linecolor": "white",
            "ticks": ""
           },
           "baxis": {
            "gridcolor": "white",
            "linecolor": "white",
            "ticks": ""
           },
           "bgcolor": "#E5ECF6",
           "caxis": {
            "gridcolor": "white",
            "linecolor": "white",
            "ticks": ""
           }
          },
          "title": {
           "x": 0.05
          },
          "xaxis": {
           "automargin": true,
           "gridcolor": "white",
           "linecolor": "white",
           "ticks": "",
           "title": {
            "standoff": 15
           },
           "zerolinecolor": "white",
           "zerolinewidth": 2
          },
          "yaxis": {
           "automargin": true,
           "gridcolor": "white",
           "linecolor": "white",
           "ticks": "",
           "title": {
            "standoff": 15
           },
           "zerolinecolor": "white",
           "zerolinewidth": 2
          }
         }
        },
        "xaxis": {
         "anchor": "y",
         "domain": [
          0,
          1
         ],
         "title": {
          "text": "index"
         }
        },
        "yaxis": {
         "anchor": "x",
         "domain": [
          0,
          1
         ],
         "title": {
          "text": "Temperature_decade_max_raw"
         }
        }
       }
      }
     },
     "metadata": {},
     "output_type": "display_data"
    }
   ],
   "source": [
    "fig = px.line(model_list[0].df_decade, y='Temperature_decade_max_raw')\n",
    "fig.show()"
   ]
  },
  {
   "cell_type": "code",
   "execution_count": null,
   "metadata": {},
   "outputs": [],
   "source": []
  },
  {
   "cell_type": "code",
   "execution_count": null,
   "metadata": {},
   "outputs": [],
   "source": []
  }
 ],
 "metadata": {
  "kernelspec": {
   "display_name": "Python 3 (ipykernel)",
   "language": "python",
   "name": "python3"
  },
  "language_info": {
   "codemirror_mode": {
    "name": "ipython",
    "version": 3
   },
   "file_extension": ".py",
   "mimetype": "text/x-python",
   "name": "python",
   "nbconvert_exporter": "python",
   "pygments_lexer": "ipython3",
   "version": "3.9.15"
  },
  "vscode": {
   "interpreter": {
    "hash": "c6e4e9f98eb68ad3b7c296f83d20e6de614cb42e90992a65aa266555a3137d0d"
   }
  }
 },
 "nbformat": 4,
 "nbformat_minor": 2
}
