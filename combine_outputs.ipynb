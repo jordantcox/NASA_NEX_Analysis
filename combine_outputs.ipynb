{
 "cells": [
  {
   "cell_type": "code",
   "execution_count": 1,
   "metadata": {},
   "outputs": [],
   "source": [
    "import os   \n",
    "import pandas as pd\n",
    "import plotly.graph_objects as go\n",
    "import datetime\n",
    "import plotly.express as px\n",
    "\n",
    "path = 'output_data/'\n",
    "path_decade = 'output_data_decade/'\n",
    "\n",
    "path = path_decade\n",
    "\n",
    "all_files = os.listdir(path)\n",
    "#all_files = os.listdir(path_decade)\n",
    "all_files.sort()\n",
    "\n",
    "\n",
    "files_245 = []\n",
    "files_585 = []\n",
    "for file in all_files:\n",
    "    if '$' in file:\n",
    "        continue\n",
    "    if '._' in file:\n",
    "        continue\n",
    "    if '.DS' in file:\n",
    "        continue\n",
    "    if '245' in file:\n",
    "        files_245.append(file)\n",
    "    if '585' in file:\n",
    "        files_585.append(file)\n",
    "\n"
   ]
  },
  {
   "cell_type": "code",
   "execution_count": 2,
   "metadata": {},
   "outputs": [
    {
     "name": "stdout",
     "output_type": "stream",
     "text": [
      "['.DS_Store', 'ACCESS-CM2_ssp245.csv_decade_values.xlsx', 'ACCESS-CM2_ssp585.csv_decade_values.xlsx', 'ACCESS-ESM1-5_ssp245.csv_decade_values.xlsx', 'ACCESS-ESM1-5_ssp585.csv_decade_values.xlsx', 'CMCC-CM2-SR5_ssp245.csv_decade_values.xlsx', 'CMCC-CM2-SR5_ssp585.csv_decade_values.xlsx', 'CMCC-ESM2_ssp245.csv_decade_values.xlsx', 'CMCC-ESM2_ssp585.csv_decade_values.xlsx', 'CNRM-CM6-1_ssp245.csv_decade_values.xlsx', 'CNRM-CM6-1_ssp585.csv_decade_values.xlsx', 'CNRM-ESM2-1_ssp245.csv_decade_values.xlsx', 'CNRM-ESM2-1_ssp585.csv_decade_values.xlsx', 'CanESM5_ssp245.csv_decade_values.xlsx', 'CanESM5_ssp585.csv_decade_values.xlsx', 'EC-Earth3-Veg-LR_ssp245.csv_decade_values.xlsx', 'EC-Earth3-Veg-LR_ssp585.csv_decade_values.xlsx', 'EC-Earth3_ssp245.csv_decade_values.xlsx', 'EC-Earth3_ssp585.csv_decade_values.xlsx', 'FGOALS-g3_ssp245.csv_decade_values.xlsx', 'FGOALS-g3_ssp585.csv_decade_values.xlsx', 'GFDL-CM4_gr2_decade_values.xlsx', 'GFDL-CM4_ssp245.csv_decade_values.xlsx', 'GFDL-CM4_ssp585.csv_decade_values.xlsx', 'GFDL-ESM4_ssp245.csv_decade_values.xlsx', 'GFDL-ESM4_ssp585.csv_decade_values.xlsx', 'GISS-E2-1-G_ssp245.csv_decade_values.xlsx', 'GISS-E2-1-G_ssp585.csv_decade_values.xlsx', 'INM-CM4-8_ssp245.csv_decade_values.xlsx', 'INM-CM4-8_ssp585.csv_decade_values.xlsx', 'INM-CM5-0_ssp245.csv_decade_values.xlsx', 'INM-CM5-0_ssp585.csv_decade_values.xlsx', 'IPSL-CM6A-LR_ssp245.csv_decade_values.xlsx', 'IPSL-CM6A-LR_ssp585.csv_decade_values.xlsx', 'MIROC-ES2L_ssp245.csv_decade_values.xlsx', 'MIROC-ES2L_ssp585.csv_decade_values.xlsx', 'MIROC6_ssp245.csv_decade_values.xlsx', 'MIROC6_ssp585.csv_decade_values.xlsx', 'MPI-ESM1-2-HR_ssp245.csv_decade_values.xlsx', 'MPI-ESM1-2-HR_ssp585.csv_decade_values.xlsx', 'MPI-ESM1-2-LR_ssp245.csv_decade_values.xlsx', 'MPI-ESM1-2-LR_ssp585.csv_decade_values.xlsx', 'MRI-ESM2-0_ssp245.csv_decade_values.xlsx', 'MRI-ESM2-0_ssp585.csv_decade_values.xlsx', 'NorESM2-LM_ssp245.csv_decade_values.xlsx', 'NorESM2-LM_ssp585.csv_decade_values.xlsx', 'NorESM2-MM_ssp245.csv_decade_values.xlsx', 'NorESM2-MM_ssp585.csv_decade_values.xlsx', 'TaiESM1_ssp245.csv_decade_values.xlsx', 'TaiESM1_ssp585.csv_decade_values.xlsx']\n"
     ]
    }
   ],
   "source": [
    "print(all_files)"
   ]
  },
  {
   "cell_type": "code",
   "execution_count": 3,
   "metadata": {},
   "outputs": [],
   "source": [
    "variable_to_plot = 'HeatWaveTemperature_decade_max_raw'\n",
    "\n",
    "# Getting columns/variables to compare\n",
    "temp = pd.read_excel(path+all_files[1], index_col = 0)\n",
    "columns_to_compare = temp.columns\n",
    "\n",
    "# Comparing and graphing the variables\n",
    "for variable in columns_to_compare:\n",
    "    df_var_245 = pd.DataFrame()\n",
    "    # Reads the variables from all files for ssp 245\n",
    "    for file in files_245:\n",
    "        temp_df = pd.read_excel(path+file, index_col = 0)\n",
    "        temp_df.index = pd.to_datetime(temp_df.index)\n",
    "        df_var_245.index = temp_df.index\n",
    "        name = file.split('_')\n",
    "        df_var_245[name[0]+'_'+variable] = temp_df[variable]   \n",
    "    # Setting up min, avg, and max  \n",
    "    df_var_245['min'] = 0.0\n",
    "    df_var_245['avg'] = 0.0\n",
    "    df_var_245['max'] = 0.0\n",
    "    for i in range(len(df_var_245.index)):\n",
    "        df_var_245.iloc[i,-3] = (df_var_245.iloc[i,0:-3].min())\n",
    "        df_var_245.iloc[i,-2] = (df_var_245.iloc[i,0:-3].mean())\n",
    "        df_var_245.iloc[i,-1] = (df_var_245.iloc[i,0:-3].max())\n",
    "\n",
    "    df_var_585 = pd.DataFrame()\n",
    "    # Reads the variables from all files for ssp 585\n",
    "    for file in files_585:\n",
    "        temp_df = pd.read_excel(path+file, index_col = 0)\n",
    "        temp_df.index = pd.to_datetime(temp_df.index)\n",
    "        df_var_585.index = temp_df.index\n",
    "        name = file.split('_')\n",
    "        df_var_585[name[0]+'_'+variable] = temp_df[variable] \n",
    "    # Setting up min, avg, and max  \n",
    "    df_var_585['min'] = 0.0\n",
    "    df_var_585['avg'] = 0.0\n",
    "    df_var_585['max'] = 0.0\n",
    "    for i in range(len(df_var_585.index)):\n",
    "        df_var_585.iloc[i,-3] = (df_var_585.iloc[i,0:-3].min())\n",
    "        df_var_585.iloc[i,-2] = (df_var_585.iloc[i,0:-3].mean())\n",
    "        df_var_585.iloc[i,-1] = (df_var_585.iloc[i,0:-3].max())\n",
    "\n",
    "    # Adjusting x-axis to Jan 1st rather than Dec 31st\n",
    "    x_length = len(df_var_245.index)\n",
    "    x_temp = pd.date_range(start = '2010-01-01 00:00:00', end = '2050-01-01 00:00:00', periods = x_length)\n",
    "\n",
    "    # putting line plot of all the data\n",
    "    fig = go.Figure()\n",
    "    fig.add_trace(go.Scatter(\n",
    "        #x = df_var_245.index,\n",
    "        x = x_temp,\n",
    "        y = df_var_245['min'],\n",
    "        marker_color = 'cornflowerblue',\n",
    "        marker_size = 8,\n",
    "        mode = 'lines',\n",
    "        showlegend= False,\n",
    "        opacity = 0.5\n",
    "    ))\n",
    "    fig.add_trace(go.Scatter(\n",
    "        #x = df_var_245.index,\n",
    "        x = x_temp,\n",
    "        y = df_var_245['avg'],\n",
    "        marker_color = 'cornflowerblue',\n",
    "        marker_size = 16,\n",
    "        mode = 'lines',\n",
    "        fill='tonexty',\n",
    "        name = 'SSP 245',\n",
    "        showlegend= True,\n",
    "        opacity = 0.5\n",
    "    ))\n",
    "    fig.add_trace(go.Scatter(\n",
    "        #x = df_var_245.index,\n",
    "        x = x_temp,\n",
    "        y = df_var_245['max'],\n",
    "        marker_color = 'cornflowerblue',\n",
    "        marker_size = 8,\n",
    "        mode = 'lines',\n",
    "        fill='tonexty',\n",
    "        showlegend= False,\n",
    "        opacity = 0.5\n",
    "    ))\n",
    "\n",
    "    fig.add_trace(go.Scatter(\n",
    "        #x = df_var_245.index,\n",
    "        x = x_temp,\n",
    "        y = df_var_585['min'],\n",
    "        marker_color = 'firebrick',\n",
    "        marker_size = 8,\n",
    "        mode = 'lines',\n",
    "        showlegend= False,\n",
    "        opacity = 0.5\n",
    "    ))\n",
    "    fig.add_trace(go.Scatter(\n",
    "        #x = df_var_245.index,\n",
    "        x = x_temp,\n",
    "        y = df_var_585['avg'],\n",
    "        marker_color = 'firebrick',\n",
    "        marker_size = 16,\n",
    "        mode = 'lines',\n",
    "        fill='tonexty',\n",
    "        name = 'SSP 585',\n",
    "        showlegend= True,\n",
    "        opacity = 0.5\n",
    "    ))\n",
    "    fig.add_trace(go.Scatter(\n",
    "        #x = df_var_245.index,\n",
    "        x = x_temp,\n",
    "        y = df_var_585['max'],\n",
    "        marker_color = 'firebrick',\n",
    "        marker_size = 8,\n",
    "        mode = 'lines',\n",
    "        fill='tonexty',\n",
    "        showlegend= False,\n",
    "        opacity = 0.5\n",
    "    ))\n",
    "\n",
    "    fig.update_xaxes(title = 'Year', range = [datetime.datetime(year = 2010, month = 1, day = 1),datetime.datetime(year = 2050, month = 1, day = 1)])\n",
    "    unit = ''\n",
    "    if 'tas' in variable:\n",
    "        unit = 'Temperature (°C)'\n",
    "    if 'Temperature' in variable:\n",
    "        unit = 'Temperature (°C)'\n",
    "    if 'pr' in variable: \n",
    "        unit = 'Precipitation (in)'\n",
    "    if 'Precipitation' in variable:\n",
    "        unit = 'Precipitation (in)'\n",
    "    if 'Speed' in variable:\n",
    "        unit = 'Speed (MPH)'\n",
    "    if 'speed' in variable: \n",
    "        unit = 'Speed (MPH)'\n",
    "    if 'Duration' in variable:\n",
    "        unit = 'Number of Days'\n",
    "    if 'Days' in variable:\n",
    "        unit = 'Number of Days'\n",
    "    if 'Frequency' in variable:\n",
    "        unit = 'Number of Occurrences per Year'\n",
    "    fig.update_yaxes(title = unit)\n",
    "\n",
    "    fig.update_layout(template = 'simple_white', title = variable)\n",
    "    fig.write_image('output_plots_combined/'+variable+'.png')\n",
    "    if variable == variable_to_plot:\n",
    "        fig.show()\n",
    "\n",
    "    # Making a box plot\n",
    "    fig = go.Figure()\n",
    "    for i in df_var_245.index:\n",
    "        fig.add_trace(go.Box(\n",
    "            y = df_var_245.loc[i,df_var_245.columns[0]:df_var_245.columns[-4]],\n",
    "            boxpoints='all',\n",
    "            name = i.year,\n",
    "            boxmean='sd'\n",
    "            ))\n",
    "\n",
    "    unit = ''\n",
    "    if 'tas' in variable:\n",
    "        unit = 'Temperature (°C)'\n",
    "    if 'Temperature' in variable:\n",
    "        unit = 'Temperature (°C)'\n",
    "    if 'pr' in variable: \n",
    "        unit = 'Precipitation (in)'\n",
    "    if 'Precipitation' in variable:\n",
    "        unit = 'Precipitation (in)'\n",
    "    if 'Speed' in variable:\n",
    "        unit = 'Speed (MPH)'\n",
    "    if 'speed' in variable: \n",
    "        unit = 'Speed (MPH)'\n",
    "    if 'Duration' in variable:\n",
    "        unit = 'Number of Days'\n",
    "    if 'Days' in variable:\n",
    "        unit = 'Number of Days'\n",
    "    if 'Frequency' in variable:\n",
    "        unit = 'Number of Occurrences per Year'\n",
    "    fig.update_yaxes(title = unit)\n",
    "\n",
    "    fig.update_xaxes(title = 'Year')\n",
    "    fig.update_layout(template = 'simple_white', title = variable+' 245')\n",
    "    fig.write_image('output_plots_combined/'+variable+'_245_box.png')\n",
    "    if variable == variable_to_plot:\n",
    "        fig.show()\n",
    "\n",
    "    fig = go.Figure()\n",
    "    for i in df_var_585.index:\n",
    "        fig.add_trace(go.Box(\n",
    "            y = df_var_585.loc[i,df_var_585.columns[0]:df_var_585.columns[-4]],\n",
    "            boxpoints='all',\n",
    "            name = i.year,\n",
    "            boxmean='sd'\n",
    "            ))\n",
    "\n",
    "    unit = ''\n",
    "    if 'tas' in variable:\n",
    "        unit = 'Temperature (°C)'\n",
    "    if 'Temperature' in variable:\n",
    "        unit = 'Temperature (°C)'\n",
    "    if 'pr' in variable: \n",
    "        unit = 'Precipitation (in)'\n",
    "    if 'Precipitation' in variable:\n",
    "        unit = 'Precipitation (in)'\n",
    "    if 'Speed' in variable:\n",
    "        unit = 'Speed (MPH)'\n",
    "    if 'speed' in variable: \n",
    "        unit = 'Speed (MPH)'\n",
    "    if 'Duration' in variable:\n",
    "        unit = 'Number of Days'\n",
    "    if 'Days' in variable:\n",
    "        unit = 'Number of Days'\n",
    "    if 'Frequency' in variable:\n",
    "        unit = 'Number of Occurrences per Year'\n",
    "    fig.update_yaxes(title = unit)\n",
    "\n",
    "    fig.update_xaxes(title = 'Year')\n",
    "    fig.update_layout(template = 'simple_white', title = variable+' 585')\n",
    "    fig.write_image('output_plots_combined/'+variable+'_585_box.png')\n",
    "    if variable == variable_to_plot:\n",
    "        fig.show()\n",
    "\n",
    "\n",
    "    "
   ]
  },
  {
   "cell_type": "code",
   "execution_count": 4,
   "metadata": {},
   "outputs": [],
   "source": [
    "# Looking just at intenstiy\n",
    "# Getting columns/variables to compare\n",
    "temp = pd.read_excel(path+all_files[1], index_col = 0)\n",
    "columns_to_compare = temp.columns\n",
    "\n",
    "df_245_intensity = pd.DataFrame()\n",
    "df_585_intensity = pd.DataFrame()\n",
    "\n",
    "# Comparing and graphing the variables\n",
    "for variable in columns_to_compare:\n",
    "    df_var_245 = pd.DataFrame()\n",
    "    # Reads the variables from all files for ssp 245\n",
    "    for file in files_245:\n",
    "        temp_df = pd.read_excel(path+file, index_col = 0)\n",
    "        temp_df.index = pd.to_datetime(temp_df.index)\n",
    "        df_var_245.index = temp_df.index\n",
    "        name = file.split('_')\n",
    "        df_var_245[name[0]] = temp_df[variable]   \n",
    "\n",
    "    df_245_intensity.index = df_var_245.columns\n",
    "    df_245_intensity[variable] = df_var_245.iloc[len(df_var_245.index)-1]\n",
    "\n",
    "    df_var_585 = pd.DataFrame()\n",
    "    # Reads the variables from all files for ssp 585\n",
    "    for file in files_585:\n",
    "        temp_df = pd.read_excel(path+file, index_col = 0)\n",
    "        temp_df.index = pd.to_datetime(temp_df.index)\n",
    "        df_var_585.index = temp_df.index\n",
    "        name = file.split('_')\n",
    "        df_var_585[name[0]] = temp_df[variable] \n",
    "\n",
    "    df_585_intensity.index = df_var_585.columns\n",
    "    df_585_intensity[variable] = df_var_585.iloc[len(df_var_585.index)-1]\n",
    "\n",
    "\n",
    "#df_245_intensity.drop(labels = ['Year'], axis = 1, inplace = True)\n",
    "#df_585_intensity.drop(labels = ['Year'], axis = 1, inplace = True)\n",
    "df_245_intensity.dropna(axis = 1, inplace = True)\n",
    "df_585_intensity.dropna(axis = 1, inplace = True)\n"
   ]
  },
  {
   "cell_type": "code",
   "execution_count": 5,
   "metadata": {},
   "outputs": [
    {
     "data": {
      "text/plain": [
       "'for column in df_245_intensity.columns:\\n    column_mean = df_245_intensity[column].max()\\n    df_245_intensity[column] = df_245_intensity[column]/column_mean\\n\\nfor column in df_585_intensity.columns:\\n    column_mean = df_585_intensity[column].max()\\n    df_585_intensity[column] = df_585_intensity[column]/column_mean'"
      ]
     },
     "execution_count": 5,
     "metadata": {},
     "output_type": "execute_result"
    }
   ],
   "source": [
    "'''for column in df_245_intensity.columns:\n",
    "    column_mean = df_245_intensity[column].max()\n",
    "    df_245_intensity[column] = df_245_intensity[column]/column_mean\n",
    "\n",
    "for column in df_585_intensity.columns:\n",
    "    column_mean = df_585_intensity[column].max()\n",
    "    df_585_intensity[column] = df_585_intensity[column]/column_mean'''\n"
   ]
  },
  {
   "cell_type": "code",
   "execution_count": 6,
   "metadata": {},
   "outputs": [
    {
     "data": {
      "text/plain": [
       "\"fig = px.imshow(df_245_intensity.loc[:, 'hurs':'tasmin'], color_continuous_scale='RdBu_r')\\nfig.update_layout(height = 1000, width = 1000)\\nfig.write_image('Model_intensity_245.png')\\nfig.show()\\n\\nfig = px.imshow(df_585_intensity.loc[:, 'hurs':'tasmin'],color_continuous_scale='RdBu_r')\\nfig.update_layout(height = 1000, width = 1000)\\nfig.write_image('Model_intensity_245.png')\\nfig.show()\""
      ]
     },
     "execution_count": 6,
     "metadata": {},
     "output_type": "execute_result"
    }
   ],
   "source": [
    "'''fig = px.imshow(df_245_intensity.loc[:, 'hurs':'tasmin'], color_continuous_scale='RdBu_r')\n",
    "fig.update_layout(height = 1000, width = 1000)\n",
    "fig.write_image('Model_intensity_245.png')\n",
    "fig.show()\n",
    "\n",
    "fig = px.imshow(df_585_intensity.loc[:, 'hurs':'tasmin'],color_continuous_scale='RdBu_r')\n",
    "fig.update_layout(height = 1000, width = 1000)\n",
    "fig.write_image('Model_intensity_245.png')\n",
    "fig.show()'''"
   ]
  },
  {
   "cell_type": "code",
   "execution_count": 7,
   "metadata": {},
   "outputs": [
    {
     "data": {
      "application/vnd.plotly.v1+json": {
       "config": {
        "plotlyServerURL": "https://plot.ly"
       },
       "data": [
        {
         "coloraxis": "coloraxis",
         "hovertemplate": "x: %{x}<br>y: %{y}<br>color: %{z}<extra></extra>",
         "name": "0",
         "type": "heatmap",
         "x": [
          "ACCESS-CM2",
          "ACCESS-ESM1-5",
          "CMCC-CM2-SR5",
          "CMCC-ESM2",
          "CNRM-CM6-1",
          "CNRM-ESM2-1",
          "CanESM5",
          "EC-Earth3-Veg-LR",
          "EC-Earth3",
          "FGOALS-g3",
          "GFDL-CM4",
          "GFDL-ESM4",
          "GISS-E2-1-G",
          "INM-CM4-8",
          "INM-CM5-0",
          "IPSL-CM6A-LR",
          "MIROC-ES2L",
          "MIROC6",
          "MPI-ESM1-2-HR",
          "MPI-ESM1-2-LR",
          "MRI-ESM2-0",
          "NorESM2-LM",
          "NorESM2-MM",
          "TaiESM1"
         ],
         "xaxis": "x",
         "y": [
          "hurs",
          "pr",
          "tas",
          "tasmax",
          "tasmin",
          "RX1day",
          "RX5day",
          "TN10p",
          "TX10p",
          "TN90p",
          "TX90p",
          "WSDI",
          "CSDI",
          "WSDI_duration",
          "FD0",
          "SU25",
          "TR20",
          "PRCPTOT",
          "R10",
          "R20",
          "R1",
          "RLT1",
          "SDII",
          "R95p",
          "R99p",
          "CDD",
          "CWD",
          "Temperature_decade_average_delta",
          "TemperatureRange_decade_average_raw",
          "TemperatureRange_decade_average_delta",
          "Precipitation_annual_average_raw",
          "TemperatureSummer_decade_average_raw",
          "TemperatureWinter_decade_average_raw",
          "PrecipitationSummer_decade_average_raw",
          "PrecipitationWinter_decade_average_raw",
          "TemperatureSummer_decade_average_delta",
          "TemperatureWinter_decade_average_delta",
          "PrecipitationSummer_decade_average_delta",
          "PrecipitationWinter_decade_average_delta",
          "HotDays_decade_average_count",
          "ColdDays_decade_average_count",
          "Temperature_decade_max_raw",
          "Temperature_decade_min_raw",
          "TemperatureRange_decade_max_raw"
         ],
         "yaxis": "y",
         "z": [
          [
           57.85190247252747,
           58.11497939560439,
           58.40976838686557,
           57.23428402788989,
           57.54233790295465,
           59.7813025025221,
           60.29078805420642,
           61.27718406593407,
           61.26691962663944,
           58.94293283294405,
           58.56550898194815,
           58.87690126105218,
           57.95382864150892,
           56.7692498830165,
           57.58327296969063,
           55.12066186129392,
           57.84282887440462,
           56.59810777417906,
           58.22687976111422,
           57.29448468344552,
           57.48501427095015,
           57.72330506181997,
           57.04960185926335,
           53.01703917403171
          ],
          [
           304.8811111111111,
           317.4944444444444,
           238.4461214112718,
           264.7533492617811,
           258.3634996477045,
           316.8565068724519,
           348.526627535,
           337.8266666666667,
           297.9378679227011,
           276.7582580262115,
           278.0374257669791,
           290.4802377099259,
           285.1486423906465,
           255.9393857796749,
           242.0110945094621,
           247.5103556729664,
           289.2043534076606,
           261.4157703466859,
           251.090147278137,
           248.1505097987792,
           272.9272711725798,
           282.8428565798276,
           275.0035146331129,
           218.2796639683545
          ],
          [
           6.352084478021978,
           6.386188186813188,
           9.649942592426495,
           6.454480408936521,
           6.255723413530287,
           5.801468147026313,
           6.915370144340412,
           5.66163804945055,
           6.295536921574519,
           4.153277008892841,
           5.767892798304041,
           4.919156984834975,
           5.482584001596973,
           4.472242920426067,
           4.443089745463546,
           6.236916714972192,
           5.534211897588038,
           5.052390674968342,
           4.660960721445607,
           4.953632684854361,
           5.204105345757453,
           5.136006956222008,
           5.034248519036893,
           7.713357346997549
          ],
          [
           11.81395604395604,
           11.80917925824176,
           11.48115460350746,
           12.25234121429394,
           11.67772101307963,
           11.23072186145154,
           12.05455190817183,
           11.12387019230769,
           11.74616980290675,
           9.696450085470051,
           11.07509691711704,
           10.63119721868089,
           11.13500586677066,
           10.05849911066418,
           10.06767239904215,
           11.61051378145323,
           11.27907142010364,
           10.86926355466738,
           10.21173078935225,
           10.39906605521401,
           10.92348271673852,
           10.99113344312548,
           10.96458340747817,
           18.63540367957007
          ],
          [
           0.8900892857142856,
           0.9631902472527474,
           7.818730088644108,
           0.6566194626051735,
           0.8337260026198168,
           0.3722147993989043,
           1.776187620078374,
           0.1991998626373627,
           0.8449034219259745,
           -1.389895910239908,
           0.4606888365024508,
           -0.792883652546272,
           -0.1698379787261106,
           -1.114013353680423,
           -1.1814929034958,
           0.8633196484911572,
           -0.2106471271305294,
           -0.7644825820084457,
           -0.8898087805444068,
           -0.4918003344273829,
           -0.5152716846256465,
           -0.7191196517492804,
           -0.8960864423308902,
           -3.208689300160755
          ],
          [
           31.16,
           32.71,
           26.95383690297604,
           41.85193553566933,
           28.07101299986243,
           40.97452880814672,
           26.09215127304196,
           31.2,
           37.82379655167461,
           26.78135996684432,
           30.71982180699706,
           29.13947682827711,
           37.73904545232654,
           22.25599978119135,
           20.60409137047827,
           25.18642041832209,
           26.32210124284029,
           27.53241956233978,
           26.58391585573554,
           22.1343825571239,
           32.57557768374681,
           24.21078197658062,
           29.79430882260203,
           27.40289401262998
          ],
          [
           458.89,
           509.49,
           378.2975022212213,
           412.0879372748959,
           401.8950874814351,
           421.6078850185895,
           486.904444753759,
           458.3000000000001,
           518.5432411713919,
           400.7361251027987,
           360.3769460312833,
           378.7929414822429,
           449.6523363701726,
           375.6862888343676,
           293.620637794902,
           322.6391941243492,
           396.7371949068706,
           370.3630122760089,
           435.4073732423785,
           373.9451804245618,
           403.6391682756403,
           376.5635732736882,
           405.0597208583667,
           397.4890447951509
          ],
          [
           7.2,
           9.5,
           12.6,
           7.2,
           8.9,
           20.6,
           8.8,
           16.9,
           16.3,
           20.6,
           9.5,
           20.3,
           11.1,
           18,
           32.7,
           17.1,
           12,
           24.6,
           19.3,
           18.6,
           30.6,
           16,
           18.9,
           9.6
          ],
          [
           24.2,
           14.9,
           11.5,
           12,
           11.7,
           21.2,
           15.4,
           22,
           20.8,
           28.6,
           23.4,
           23,
           15.5,
           17.4,
           22.9,
           19.1,
           15.5,
           26.7,
           20.3,
           24.1,
           32.4,
           22.9,
           17.9,
           5.9
          ],
          [
           78.4,
           82,
           63.6,
           90.8,
           82.3,
           74,
           94.1,
           63,
           69.5,
           51,
           76.8,
           62.8,
           63.1,
           63.8,
           63.1,
           93,
           65.7,
           64.2,
           61.4,
           62.1,
           72.4,
           66.6,
           57.1,
           77.9
          ],
          [
           69.9,
           68.4,
           63.4,
           78.1,
           78.6,
           64.4,
           69.7,
           56.4,
           60.9,
           43.2,
           56.9,
           58.4,
           49.2,
           49,
           55.7,
           75.5,
           53.2,
           57.1,
           56.3,
           52.4,
           63,
           60.4,
           56.4,
           74.7
          ],
          [
           3.6,
           3.6,
           3.1,
           3.7,
           3.2,
           3.3,
           3.1,
           2.4,
           2.4,
           0.7,
           2.3,
           2.2,
           1.4,
           2,
           2.6,
           2.9,
           1.6,
           2.4,
           2.6,
           2.1,
           2.8,
           2.7,
           3.2,
           3.3
          ],
          [
           0.2,
           0.5,
           0.3,
           0.2,
           0.7,
           0.9,
           0,
           0.8,
           0.8,
           1,
           0,
           0.8,
           0.2,
           0.7,
           1.6,
           0.5,
           0.4,
           1.5,
           0.4,
           0.6,
           1.2,
           0.8,
           0.5,
           0.2
          ],
          [
           13.16111111111111,
           12.62962962962963,
           10.29259259259259,
           13.5505291005291,
           13.08518518518519,
           10.04444444444444,
           18.56481481481482,
           10.82407407407407,
           13.72619047619048,
           10.75,
           11.68518518518518,
           10.46296296296296,
           11.37037037037037,
           13.71666666666667,
           11.75925925925926,
           15.16666666666667,
           11.16666666666667,
           10.49074074074074,
           10.60740740740741,
           18.26851851851852,
           11.53703703703704,
           10.78703703703704,
           10.10185185185185,
           11.0962962962963
          ],
          [
           160.2,
           159.9,
           105.8,
           154.6,
           153.8,
           159.9,
           145,
           159.5,
           155.3,
           168.7,
           158.9,
           169.9,
           159,
           170.2,
           166.9,
           150,
           162.4,
           162.5,
           168.3,
           165,
           159.9,
           166.1,
           165.4,
           188.8
          ],
          [
           32.8,
           25.3,
           20.5,
           32.3,
           22.3,
           17.4,
           25.8,
           22.4,
           29.7,
           8.6,
           24.8,
           16.1,
           12.2,
           12.5,
           12.9,
           24.1,
           19.2,
           22.3,
           16,
           20,
           25.6,
           20,
           15.4,
           98.9
          ],
          [
           0,
           0,
           39.3,
           0,
           0,
           0.1,
           0,
           0,
           0.1,
           0,
           0.1,
           0,
           0,
           0,
           0,
           0.1,
           0,
           0,
           0,
           0,
           0,
           0,
           0,
           0.3
          ],
          [
           311.088,
           318.566,
           252.4312594922668,
           276.773282694632,
           266.8169092481235,
           317.7220547835599,
           347.121203140365,
           342.778,
           319.9984052475702,
           281.7748965833221,
           282.5862735694773,
           291.382443794937,
           291.0638605696823,
           253.6505720933201,
           239.900141438743,
           252.4834485309293,
           287.7479473979872,
           264.4781378904419,
           258.3483067514953,
           248.7758308655793,
           281.9256612084314,
           280.8624142205827,
           284.1747071865183,
           236.2006020510341
          ],
          [
           4.9,
           6,
           4.6,
           5.1,
           4.2,
           5.3,
           5.6,
           8.9,
           7.6,
           4.6,
           5.4,
           6.7,
           5.1,
           2.9,
           2.5,
           2.3,
           5.1,
           4.5,
           4.8,
           3,
           4.4,
           5.1,
           5,
           4.5
          ],
          [
           0.7,
           0.7,
           0.7,
           1.7,
           0.4,
           1.2,
           0.8,
           1.4,
           1.1,
           0.8,
           1,
           0.5,
           0.8,
           0.2,
           0.1,
           0.4,
           0.7,
           0.9,
           0.4,
           0.2,
           0.8,
           0.4,
           1,
           0.9
          ],
          [
           67.8,
           63.6,
           49.8,
           51.4,
           56.3,
           62.1,
           75.3,
           59.3,
           61.1,
           59.2,
           54.3,
           55.4,
           60.9,
           58.3,
           58.9,
           67,
           60.6,
           52.3,
           54.8,
           57.1,
           61.4,
           59.2,
           54.6,
           47.4
          ],
          [
           260.5,
           264.8,
           278.6,
           277,
           272.3,
           266.5,
           253.1,
           268.8,
           267.5,
           269.2,
           274.1,
           273,
           267.5,
           270.1,
           269.5,
           261.6,
           268,
           276.3,
           273.8,
           271.5,
           267.2,
           269.2,
           273.8,
           281
          ],
          [
           4.575010602522322,
           4.954288192480274,
           5.065128680765125,
           5.341119815345009,
           4.717809377460783,
           5.111154814333736,
           4.605097158183975,
           5.791579963515655,
           5.157060702869078,
           4.764735470481975,
           5.213000130583011,
           5.279412275156977,
           4.826491859544447,
           4.362456103887079,
           4.08480747365352,
           3.792240606538423,
           4.744003954465352,
           5.045309541367015,
           4.688513605048211,
           4.37762182677108,
           4.616017076456993,
           4.76596214759576,
           5.177331681523492,
           4.948986576098857
          ],
          [
           21.5,
           23.3,
           16.9,
           19,
           15.1,
           22.7,
           23.6,
           20.3,
           21.3,
           21.4,
           17,
           20.5,
           22.3,
           22.3,
           18.2,
           18.6,
           24.6,
           22.1,
           17.3,
           16.3,
           16.7,
           19.3,
           18.4,
           13.2
          ],
          [
           21.5,
           23.3,
           16.9,
           19,
           15.1,
           22.7,
           23.6,
           20.3,
           21.3,
           21.4,
           17,
           20.5,
           22.3,
           22.3,
           18.2,
           18.6,
           24.6,
           22.1,
           17.3,
           16.3,
           16.7,
           19.3,
           18.4,
           13.2
          ],
          [
           132.3,
           124,
           126.9,
           118.2,
           138.3,
           130,
           115.8,
           131,
           124.2,
           121.7,
           120.7,
           121.8,
           113.3,
           115.8,
           122.7,
           132.1,
           135,
           131.1,
           130.4,
           124.5,
           126.6,
           124,
           113.6,
           115.1
          ],
          [
           7.4,
           7.2,
           5,
           4.9,
           6.7,
           7.3,
           7.4,
           7.5,
           5.6,
           6.8,
           5.5,
           5.6,
           10.3,
           7.1,
           6.8,
           7.3,
           6.3,
           5.3,
           7.9,
           8,
           6.2,
           6.8,
           5.7,
           5.3
          ],
          [
           2.687115003052504,
           2.134738247863249,
           2.8064611532884,
           3.610497098581155,
           2.751452019217541,
           2.558674012348328,
           3.313984360184505,
           2.119046474358975,
           1.777122273986593,
           0.6006636090823423,
           1.87732791104615,
           1.795896810238685,
           2.15991916370421,
           1.311334532038611,
           1.121971107136877,
           2.51467515377189,
           2.011820830996074,
           1.813100346715459,
           1.920157579275277,
           1.538929869985988,
           1.232188802353483,
           1.640148764499919,
           1.626972484751901,
           3.072274944820967
          ],
          [
           10.89279197080292,
           10.83647506082725,
           3.665542844004988,
           11.53513135579179,
           10.83763622367469,
           10.89927677980595,
           10.2561416161619,
           10.94714416058394,
           10.85571561010505,
           11.11926419054381,
           10.61142796187305,
           11.41473491759251,
           11.29985180121693,
           11.21022165104593,
           11.28361261870465,
           10.73969380640925,
           11.52155719302286,
           11.59220441646529,
           11.06350603590917,
           10.94050975901657,
           11.43031475317739,
           11.74699018760491,
           11.79644677411182,
           21.85608090791337
          ],
          [
           -0.09398337166283177,
           -0.6866756241042555,
           0.000695691730036252,
           0.1849952430432626,
           -0.05854286267082465,
           -0.4232499669700598,
           -0.200869205130374,
           -0.1913243325667455,
           -0.2676046856729943,
           -0.2065738357037183,
           -0.8332076426841883,
           0.08003990464663246,
           0.1856242971559503,
           0.1084714696135709,
           -0.2671994291198772,
           -0.2552985976401345,
           0.2372582152363165,
           0.5082401078180343,
           0.05758224373638043,
           -0.3230514584090489,
           0.1220019028523165,
           0.1182587737134675,
           0.5064018724480235,
           0.002893100094066625
          ],
          [
           0.9461313868613139,
           0.9688746958637469,
           0.7682022504329482,
           0.8422802273117226,
           0.8114869502680154,
           0.9663079525047441,
           1.05636397790738,
           1.042512165450121,
           0.9732311595120748,
           0.8575012068877725,
           0.859970400394027,
           0.8867390255475867,
           0.8857695087330564,
           0.7719128791640903,
           0.7300673811282503,
           0.7678936999115855,
           0.8751458254196691,
           0.8043738986935582,
           0.7857308599498033,
           0.7566174904670905,
           0.8574381423614094,
           0.8547243281210671,
           0.8648043432334702,
           0.7188088924255451
          ],
          [
           17.99101086956522,
           17.73080434782609,
           20.76426696777344,
           17.40364044852879,
           16.67170184591543,
           16.68646518873132,
           17.75876929241678,
           16.98048913043478,
           17.45019577689793,
           15.36956913160241,
           17.14981941554857,
           15.91227994172469,
           15.81193383258322,
           15.06204817398735,
           15.38874458644701,
           17.90409270576809,
           16.37602190764054,
           16.275295688795,
           15.84947748598845,
           16.42708833113961,
           17.19717005854068,
           16.46008377075195,
           15.95643947435462,
           18.58832669465438
          ],
          [
           -6.035866056166055,
           -5.780999633699634,
           -2.714177924262153,
           -5.534732971191407,
           -5.087614182692308,
           -5.872008223388075,
           -4.557357330322266,
           -6.710173626373627,
           -6.265454748617133,
           -7.939212697347005,
           -6.290449506971571,
           -6.780485161675347,
           -5.376148342556424,
           -6.823802591959636,
           -7.756639743381075,
           -6.76270727341574,
           -6.246359364901998,
           -7.935528726915446,
           -6.675740190256792,
           -6.34979979816665,
           -7.401109578897665,
           -6.696403232150608,
           -6.629380238850911,
           -4.415925564236111
          ],
          [
           155.522,
           175.991,
           161.471756685761,
           175.0720653932598,
           162.6842020583631,
           172.6874751487407,
           177.4965485607152,
           174.178,
           182.4935172379628,
           159.5297362125825,
           171.5221124694654,
           155.8379671095645,
           184.8853132304777,
           152.073140430798,
           141.1277029118583,
           162.4976793722999,
           149.4981099146139,
           146.5901753763259,
           145.2025684706314,
           115.9373938580029,
           162.6000727420228,
           146.8387274432644,
           170.1050808104105,
           131.9093737500896
          ],
          [
           0,
           0,
           0,
           0,
           0,
           0,
           0.03628034313805982,
           0,
           0,
           0,
           0,
           0,
           0,
           0,
           0,
           0,
           0.02441830160023526,
           0,
           0,
           0,
           0,
           0,
           0,
           0
          ],
          [
           3.101043478260868,
           2.360760869565214,
           2.89910994819973,
           3.779887191109037,
           2.682907502547559,
           2.783596503216287,
           3.090091075067933,
           2.036108695652176,
           1.925312042236328,
           0.7340839551842748,
           2.276464213495668,
           1.76559935860012,
           1.596880937659225,
           0.9625813691512395,
           1.516670691448713,
           3.229226784084155,
           2.001400657322092,
           2.326324330205498,
           2.225246694813602,
           2.213151882005777,
           2.190997812022335,
           1.836504231328547,
           1.663823965321418,
           3.559140578560205
          ],
          [
           2.06593015873016,
           2.319181074481073,
           3.128333435058593,
           3.683982696533202,
           3.28177517864148,
           3.340377548459976,
           3.742791765001084,
           1.706439804639804,
           1.478052877162984,
           0.4359257337782116,
           2.14005605061849,
           2.189269968668619,
           3.061902160644533,
           2.072312808566624,
           1.248090379503041,
           1.740330283475882,
           1.856128680889424,
           0.7669106170691551,
           2.404600299839864,
           2.014974653083325,
           1.443166787097451,
           2.304718983968097,
           1.56099405924479,
           3.357894405788846
          ],
          [
           -37.88399999999999,
           34.11000000000001,
           20.6259370824057,
           14.12659980765056,
           -22.78309326745071,
           13.23534397740704,
           -10.64174088088521,
           44.92399999999998,
           33.94201706438253,
           16.52213592758471,
           16.76231098085736,
           3.670555200524177,
           36.98061239129629,
           16.99959659123579,
           -0.3897066618310419,
           8.340730789223016,
           7.522715826484045,
           -20.48321569096714,
           -23.13263518715758,
           -17.86894984208629,
           -10.14849373282004,
           -6.919730521149177,
           0.3777962859851414,
           -12.88986296952203
          ],
          [
           0,
           0,
           0,
           0,
           0,
           0,
           0.03100261232248157,
           0,
           0,
           0,
           0,
           0,
           0,
           0,
           0,
           0,
           -0.005425110703072288,
           0,
           0,
           0,
           0,
           0,
           0,
           0
          ],
          [
           0,
           0,
           0,
           0,
           0,
           0,
           0,
           0,
           0,
           0,
           0,
           0,
           0,
           0,
           0,
           0,
           0,
           0,
           0,
           0,
           0,
           0,
           0,
           13.4
          ],
          [
           160.2,
           159.9,
           105.8,
           154.6,
           153.8,
           159.9,
           145,
           159.5,
           155.3,
           168.7,
           158.9,
           169.9,
           159,
           170.2,
           166.9,
           150,
           162.4,
           162.5,
           168.3,
           165,
           159.9,
           166.1,
           165.4,
           188.8
          ],
          [
           30.8,
           32.29,
           33.57803344726562,
           32.32351684570312,
           31.54046630859375,
           30.30157470703125,
           30.7305908203125,
           31.77,
           32.79690551757812,
           30.129638671875,
           33.18731689453125,
           30.160888671875,
           32.0513916015625,
           30.595703125,
           30.13491821289062,
           31.76022338867188,
           31.14544677734375,
           33.52520751953125,
           31.90716552734375,
           29.87680053710938,
           31.88604736328125,
           31.1297607421875,
           30.53866577148438,
           42.63406372070312
          ],
          [
           -20.54,
           -25.23,
           -16.26898193359375,
           -27.92079162597656,
           -25.89088439941406,
           -26.01844787597656,
           -24.67864990234375,
           -25.6,
           -23.96969604492188,
           -29.25836181640625,
           -22.71376037597656,
           -27.05842590332031,
           -21.29454040527344,
           -29.86898803710938,
           -28.12527465820312,
           -26.89045715332031,
           -25.39118957519531,
           -23.612060546875,
           -22.15589904785156,
           -22.48724365234375,
           -27.06434631347656,
           -22.15983581542969,
           -22.8045654296875,
           -29.35354614257812
          ],
          [
           22,
           24.05,
           5.399078369140625,
           21.548583984375,
           23.249755859375,
           23.12783813476562,
           18.04428100585938,
           21.93,
           20.876220703125,
           22.9808349609375,
           19.65130615234375,
           21.17404174804688,
           24.110107421875,
           19.88156127929688,
           20.53021240234375,
           21.96658325195312,
           20.523193359375,
           22.84616088867188,
           22.07244873046875,
           21.99658203125,
           23.33352661132812,
           22.47006225585938,
           23.93209838867188,
           25.07025146484375
          ]
         ]
        }
       ],
       "layout": {
        "coloraxis": {
         "colorscale": [
          [
           0,
           "rgb(5,48,97)"
          ],
          [
           0.1,
           "rgb(33,102,172)"
          ],
          [
           0.2,
           "rgb(67,147,195)"
          ],
          [
           0.3,
           "rgb(146,197,222)"
          ],
          [
           0.4,
           "rgb(209,229,240)"
          ],
          [
           0.5,
           "rgb(247,247,247)"
          ],
          [
           0.6,
           "rgb(253,219,199)"
          ],
          [
           0.7,
           "rgb(244,165,130)"
          ],
          [
           0.8,
           "rgb(214,96,77)"
          ],
          [
           0.9,
           "rgb(178,24,43)"
          ],
          [
           1,
           "rgb(103,0,31)"
          ]
         ]
        },
        "height": 1000,
        "margin": {
         "t": 60
        },
        "template": {
         "data": {
          "bar": [
           {
            "error_x": {
             "color": "#2a3f5f"
            },
            "error_y": {
             "color": "#2a3f5f"
            },
            "marker": {
             "line": {
              "color": "#E5ECF6",
              "width": 0.5
             },
             "pattern": {
              "fillmode": "overlay",
              "size": 10,
              "solidity": 0.2
             }
            },
            "type": "bar"
           }
          ],
          "barpolar": [
           {
            "marker": {
             "line": {
              "color": "#E5ECF6",
              "width": 0.5
             },
             "pattern": {
              "fillmode": "overlay",
              "size": 10,
              "solidity": 0.2
             }
            },
            "type": "barpolar"
           }
          ],
          "carpet": [
           {
            "aaxis": {
             "endlinecolor": "#2a3f5f",
             "gridcolor": "white",
             "linecolor": "white",
             "minorgridcolor": "white",
             "startlinecolor": "#2a3f5f"
            },
            "baxis": {
             "endlinecolor": "#2a3f5f",
             "gridcolor": "white",
             "linecolor": "white",
             "minorgridcolor": "white",
             "startlinecolor": "#2a3f5f"
            },
            "type": "carpet"
           }
          ],
          "choropleth": [
           {
            "colorbar": {
             "outlinewidth": 0,
             "ticks": ""
            },
            "type": "choropleth"
           }
          ],
          "contour": [
           {
            "colorbar": {
             "outlinewidth": 0,
             "ticks": ""
            },
            "colorscale": [
             [
              0,
              "#0d0887"
             ],
             [
              0.1111111111111111,
              "#46039f"
             ],
             [
              0.2222222222222222,
              "#7201a8"
             ],
             [
              0.3333333333333333,
              "#9c179e"
             ],
             [
              0.4444444444444444,
              "#bd3786"
             ],
             [
              0.5555555555555556,
              "#d8576b"
             ],
             [
              0.6666666666666666,
              "#ed7953"
             ],
             [
              0.7777777777777778,
              "#fb9f3a"
             ],
             [
              0.8888888888888888,
              "#fdca26"
             ],
             [
              1,
              "#f0f921"
             ]
            ],
            "type": "contour"
           }
          ],
          "contourcarpet": [
           {
            "colorbar": {
             "outlinewidth": 0,
             "ticks": ""
            },
            "type": "contourcarpet"
           }
          ],
          "heatmap": [
           {
            "colorbar": {
             "outlinewidth": 0,
             "ticks": ""
            },
            "colorscale": [
             [
              0,
              "#0d0887"
             ],
             [
              0.1111111111111111,
              "#46039f"
             ],
             [
              0.2222222222222222,
              "#7201a8"
             ],
             [
              0.3333333333333333,
              "#9c179e"
             ],
             [
              0.4444444444444444,
              "#bd3786"
             ],
             [
              0.5555555555555556,
              "#d8576b"
             ],
             [
              0.6666666666666666,
              "#ed7953"
             ],
             [
              0.7777777777777778,
              "#fb9f3a"
             ],
             [
              0.8888888888888888,
              "#fdca26"
             ],
             [
              1,
              "#f0f921"
             ]
            ],
            "type": "heatmap"
           }
          ],
          "heatmapgl": [
           {
            "colorbar": {
             "outlinewidth": 0,
             "ticks": ""
            },
            "colorscale": [
             [
              0,
              "#0d0887"
             ],
             [
              0.1111111111111111,
              "#46039f"
             ],
             [
              0.2222222222222222,
              "#7201a8"
             ],
             [
              0.3333333333333333,
              "#9c179e"
             ],
             [
              0.4444444444444444,
              "#bd3786"
             ],
             [
              0.5555555555555556,
              "#d8576b"
             ],
             [
              0.6666666666666666,
              "#ed7953"
             ],
             [
              0.7777777777777778,
              "#fb9f3a"
             ],
             [
              0.8888888888888888,
              "#fdca26"
             ],
             [
              1,
              "#f0f921"
             ]
            ],
            "type": "heatmapgl"
           }
          ],
          "histogram": [
           {
            "marker": {
             "pattern": {
              "fillmode": "overlay",
              "size": 10,
              "solidity": 0.2
             }
            },
            "type": "histogram"
           }
          ],
          "histogram2d": [
           {
            "colorbar": {
             "outlinewidth": 0,
             "ticks": ""
            },
            "colorscale": [
             [
              0,
              "#0d0887"
             ],
             [
              0.1111111111111111,
              "#46039f"
             ],
             [
              0.2222222222222222,
              "#7201a8"
             ],
             [
              0.3333333333333333,
              "#9c179e"
             ],
             [
              0.4444444444444444,
              "#bd3786"
             ],
             [
              0.5555555555555556,
              "#d8576b"
             ],
             [
              0.6666666666666666,
              "#ed7953"
             ],
             [
              0.7777777777777778,
              "#fb9f3a"
             ],
             [
              0.8888888888888888,
              "#fdca26"
             ],
             [
              1,
              "#f0f921"
             ]
            ],
            "type": "histogram2d"
           }
          ],
          "histogram2dcontour": [
           {
            "colorbar": {
             "outlinewidth": 0,
             "ticks": ""
            },
            "colorscale": [
             [
              0,
              "#0d0887"
             ],
             [
              0.1111111111111111,
              "#46039f"
             ],
             [
              0.2222222222222222,
              "#7201a8"
             ],
             [
              0.3333333333333333,
              "#9c179e"
             ],
             [
              0.4444444444444444,
              "#bd3786"
             ],
             [
              0.5555555555555556,
              "#d8576b"
             ],
             [
              0.6666666666666666,
              "#ed7953"
             ],
             [
              0.7777777777777778,
              "#fb9f3a"
             ],
             [
              0.8888888888888888,
              "#fdca26"
             ],
             [
              1,
              "#f0f921"
             ]
            ],
            "type": "histogram2dcontour"
           }
          ],
          "mesh3d": [
           {
            "colorbar": {
             "outlinewidth": 0,
             "ticks": ""
            },
            "type": "mesh3d"
           }
          ],
          "parcoords": [
           {
            "line": {
             "colorbar": {
              "outlinewidth": 0,
              "ticks": ""
             }
            },
            "type": "parcoords"
           }
          ],
          "pie": [
           {
            "automargin": true,
            "type": "pie"
           }
          ],
          "scatter": [
           {
            "fillpattern": {
             "fillmode": "overlay",
             "size": 10,
             "solidity": 0.2
            },
            "type": "scatter"
           }
          ],
          "scatter3d": [
           {
            "line": {
             "colorbar": {
              "outlinewidth": 0,
              "ticks": ""
             }
            },
            "marker": {
             "colorbar": {
              "outlinewidth": 0,
              "ticks": ""
             }
            },
            "type": "scatter3d"
           }
          ],
          "scattercarpet": [
           {
            "marker": {
             "colorbar": {
              "outlinewidth": 0,
              "ticks": ""
             }
            },
            "type": "scattercarpet"
           }
          ],
          "scattergeo": [
           {
            "marker": {
             "colorbar": {
              "outlinewidth": 0,
              "ticks": ""
             }
            },
            "type": "scattergeo"
           }
          ],
          "scattergl": [
           {
            "marker": {
             "colorbar": {
              "outlinewidth": 0,
              "ticks": ""
             }
            },
            "type": "scattergl"
           }
          ],
          "scattermapbox": [
           {
            "marker": {
             "colorbar": {
              "outlinewidth": 0,
              "ticks": ""
             }
            },
            "type": "scattermapbox"
           }
          ],
          "scatterpolar": [
           {
            "marker": {
             "colorbar": {
              "outlinewidth": 0,
              "ticks": ""
             }
            },
            "type": "scatterpolar"
           }
          ],
          "scatterpolargl": [
           {
            "marker": {
             "colorbar": {
              "outlinewidth": 0,
              "ticks": ""
             }
            },
            "type": "scatterpolargl"
           }
          ],
          "scatterternary": [
           {
            "marker": {
             "colorbar": {
              "outlinewidth": 0,
              "ticks": ""
             }
            },
            "type": "scatterternary"
           }
          ],
          "surface": [
           {
            "colorbar": {
             "outlinewidth": 0,
             "ticks": ""
            },
            "colorscale": [
             [
              0,
              "#0d0887"
             ],
             [
              0.1111111111111111,
              "#46039f"
             ],
             [
              0.2222222222222222,
              "#7201a8"
             ],
             [
              0.3333333333333333,
              "#9c179e"
             ],
             [
              0.4444444444444444,
              "#bd3786"
             ],
             [
              0.5555555555555556,
              "#d8576b"
             ],
             [
              0.6666666666666666,
              "#ed7953"
             ],
             [
              0.7777777777777778,
              "#fb9f3a"
             ],
             [
              0.8888888888888888,
              "#fdca26"
             ],
             [
              1,
              "#f0f921"
             ]
            ],
            "type": "surface"
           }
          ],
          "table": [
           {
            "cells": {
             "fill": {
              "color": "#EBF0F8"
             },
             "line": {
              "color": "white"
             }
            },
            "header": {
             "fill": {
              "color": "#C8D4E3"
             },
             "line": {
              "color": "white"
             }
            },
            "type": "table"
           }
          ]
         },
         "layout": {
          "annotationdefaults": {
           "arrowcolor": "#2a3f5f",
           "arrowhead": 0,
           "arrowwidth": 1
          },
          "autotypenumbers": "strict",
          "coloraxis": {
           "colorbar": {
            "outlinewidth": 0,
            "ticks": ""
           }
          },
          "colorscale": {
           "diverging": [
            [
             0,
             "#8e0152"
            ],
            [
             0.1,
             "#c51b7d"
            ],
            [
             0.2,
             "#de77ae"
            ],
            [
             0.3,
             "#f1b6da"
            ],
            [
             0.4,
             "#fde0ef"
            ],
            [
             0.5,
             "#f7f7f7"
            ],
            [
             0.6,
             "#e6f5d0"
            ],
            [
             0.7,
             "#b8e186"
            ],
            [
             0.8,
             "#7fbc41"
            ],
            [
             0.9,
             "#4d9221"
            ],
            [
             1,
             "#276419"
            ]
           ],
           "sequential": [
            [
             0,
             "#0d0887"
            ],
            [
             0.1111111111111111,
             "#46039f"
            ],
            [
             0.2222222222222222,
             "#7201a8"
            ],
            [
             0.3333333333333333,
             "#9c179e"
            ],
            [
             0.4444444444444444,
             "#bd3786"
            ],
            [
             0.5555555555555556,
             "#d8576b"
            ],
            [
             0.6666666666666666,
             "#ed7953"
            ],
            [
             0.7777777777777778,
             "#fb9f3a"
            ],
            [
             0.8888888888888888,
             "#fdca26"
            ],
            [
             1,
             "#f0f921"
            ]
           ],
           "sequentialminus": [
            [
             0,
             "#0d0887"
            ],
            [
             0.1111111111111111,
             "#46039f"
            ],
            [
             0.2222222222222222,
             "#7201a8"
            ],
            [
             0.3333333333333333,
             "#9c179e"
            ],
            [
             0.4444444444444444,
             "#bd3786"
            ],
            [
             0.5555555555555556,
             "#d8576b"
            ],
            [
             0.6666666666666666,
             "#ed7953"
            ],
            [
             0.7777777777777778,
             "#fb9f3a"
            ],
            [
             0.8888888888888888,
             "#fdca26"
            ],
            [
             1,
             "#f0f921"
            ]
           ]
          },
          "colorway": [
           "#636efa",
           "#EF553B",
           "#00cc96",
           "#ab63fa",
           "#FFA15A",
           "#19d3f3",
           "#FF6692",
           "#B6E880",
           "#FF97FF",
           "#FECB52"
          ],
          "font": {
           "color": "#2a3f5f"
          },
          "geo": {
           "bgcolor": "white",
           "lakecolor": "white",
           "landcolor": "#E5ECF6",
           "showlakes": true,
           "showland": true,
           "subunitcolor": "white"
          },
          "hoverlabel": {
           "align": "left"
          },
          "hovermode": "closest",
          "mapbox": {
           "style": "light"
          },
          "paper_bgcolor": "white",
          "plot_bgcolor": "#E5ECF6",
          "polar": {
           "angularaxis": {
            "gridcolor": "white",
            "linecolor": "white",
            "ticks": ""
           },
           "bgcolor": "#E5ECF6",
           "radialaxis": {
            "gridcolor": "white",
            "linecolor": "white",
            "ticks": ""
           }
          },
          "scene": {
           "xaxis": {
            "backgroundcolor": "#E5ECF6",
            "gridcolor": "white",
            "gridwidth": 2,
            "linecolor": "white",
            "showbackground": true,
            "ticks": "",
            "zerolinecolor": "white"
           },
           "yaxis": {
            "backgroundcolor": "#E5ECF6",
            "gridcolor": "white",
            "gridwidth": 2,
            "linecolor": "white",
            "showbackground": true,
            "ticks": "",
            "zerolinecolor": "white"
           },
           "zaxis": {
            "backgroundcolor": "#E5ECF6",
            "gridcolor": "white",
            "gridwidth": 2,
            "linecolor": "white",
            "showbackground": true,
            "ticks": "",
            "zerolinecolor": "white"
           }
          },
          "shapedefaults": {
           "line": {
            "color": "#2a3f5f"
           }
          },
          "ternary": {
           "aaxis": {
            "gridcolor": "white",
            "linecolor": "white",
            "ticks": ""
           },
           "baxis": {
            "gridcolor": "white",
            "linecolor": "white",
            "ticks": ""
           },
           "bgcolor": "#E5ECF6",
           "caxis": {
            "gridcolor": "white",
            "linecolor": "white",
            "ticks": ""
           }
          },
          "title": {
           "x": 0.05
          },
          "xaxis": {
           "automargin": true,
           "gridcolor": "white",
           "linecolor": "white",
           "ticks": "",
           "title": {
            "standoff": 15
           },
           "zerolinecolor": "white",
           "zerolinewidth": 2
          },
          "yaxis": {
           "automargin": true,
           "gridcolor": "white",
           "linecolor": "white",
           "ticks": "",
           "title": {
            "standoff": 15
           },
           "zerolinecolor": "white",
           "zerolinewidth": 2
          }
         }
        },
        "width": 1000,
        "xaxis": {
         "anchor": "y",
         "constrain": "domain",
         "domain": [
          0,
          1
         ],
         "scaleanchor": "y"
        },
        "yaxis": {
         "anchor": "x",
         "autorange": "reversed",
         "constrain": "domain",
         "domain": [
          0,
          1
         ]
        }
       }
      }
     },
     "metadata": {},
     "output_type": "display_data"
    },
    {
     "data": {
      "application/vnd.plotly.v1+json": {
       "config": {
        "plotlyServerURL": "https://plot.ly"
       },
       "data": [
        {
         "coloraxis": "coloraxis",
         "hovertemplate": "x: %{x}<br>y: %{y}<br>color: %{z}<extra></extra>",
         "name": "0",
         "type": "heatmap",
         "x": [
          "ACCESS-CM2",
          "ACCESS-ESM1-5",
          "CMCC-CM2-SR5",
          "CMCC-ESM2",
          "CNRM-CM6-1",
          "CNRM-ESM2-1",
          "CanESM5",
          "EC-Earth3-Veg-LR",
          "EC-Earth3",
          "FGOALS-g3",
          "GFDL-CM4",
          "GFDL-ESM4",
          "GISS-E2-1-G",
          "INM-CM4-8",
          "INM-CM5-0",
          "IPSL-CM6A-LR",
          "MIROC-ES2L",
          "MIROC6",
          "MPI-ESM1-2-HR",
          "MPI-ESM1-2-LR",
          "MRI-ESM2-0",
          "NorESM2-LM",
          "NorESM2-MM",
          "TaiESM1"
         ],
         "xaxis": "x",
         "y": [
          "hurs",
          "pr",
          "tas",
          "tasmax",
          "tasmin",
          "RX1day",
          "RX5day",
          "TN10p",
          "TX10p",
          "TN90p",
          "TX90p",
          "WSDI",
          "CSDI",
          "WSDI_duration",
          "FD0",
          "SU25",
          "TR20",
          "PRCPTOT",
          "R10",
          "R20",
          "R1",
          "RLT1",
          "SDII",
          "R95p",
          "R99p",
          "CDD",
          "CWD",
          "Temperature_decade_average_delta",
          "TemperatureRange_decade_average_raw",
          "TemperatureRange_decade_average_delta",
          "Precipitation_annual_average_raw",
          "TemperatureSummer_decade_average_raw",
          "TemperatureWinter_decade_average_raw",
          "PrecipitationSummer_decade_average_raw",
          "PrecipitationWinter_decade_average_raw",
          "TemperatureSummer_decade_average_delta",
          "TemperatureWinter_decade_average_delta",
          "PrecipitationSummer_decade_average_delta",
          "PrecipitationWinter_decade_average_delta",
          "HotDays_decade_average_count",
          "ColdDays_decade_average_count",
          "Temperature_decade_max_raw",
          "Temperature_decade_min_raw",
          "TemperatureRange_decade_max_raw"
         ],
         "yaxis": "y",
         "z": [
          [
           63.70049793956044,
           57.25581043956044,
           58.13462156518156,
           56.77646823096948,
           60.43035139814837,
           60.93667278119496,
           60.53396794443182,
           63.17258585164835,
           64.35263048882013,
           57.53751322733256,
           58.95237140880093,
           59.00784358317718,
           57.64082544207324,
           56.17528682043472,
           55.39356374046449,
           53.79552593990997,
           57.11966919112992,
           52.22930836219054,
           59.30890218045685,
           59.10725800873159,
           55.37236645130011,
           54.24885994025333,
           57.88795493732836,
           53.95214618147692
          ],
          [
           424.4977777777778,
           308.2844444444445,
           304.6892420458505,
           301.7111582157156,
           323.0358033595948,
           335.9877874316794,
           380.4578980483825,
           346.1622222222222,
           345.4305364721222,
           253.2673493439688,
           266.7959071216501,
           261.2065190230169,
           269.5968810581945,
           253.6138180987109,
           238.0062599724624,
           279.8040896961538,
           294.3407611095836,
           249.9493764084761,
           301.2233729713444,
           281.6412528786714,
           249.5276892804441,
           254.442041165612,
           304.4572341534263,
           278.3744210850216
          ],
          [
           9.134217032967033,
           8.861459478021978,
           12.22886196606253,
           9.030959238463424,
           9.729287556239537,
           9.150601565182864,
           11.99343496146581,
           9.167032967032966,
           10.14600113459996,
           6.287540474188583,
           8.573599361728823,
           7.344089041915947,
           7.433898001727914,
           6.705163829813745,
           6.50193859650091,
           10.57004966316642,
           8.058085839826983,
           8.746030461657178,
           7.052843198671446,
           7.364202876667401,
           8.423093507578084,
           8.399035313370998,
           8.052896558298343,
           10.64962527415078
          ],
          [
           14.43125343406593,
           14.3140831043956,
           14.06007449149768,
           15.03005248966967,
           14.7763079234532,
           14.42817102159773,
           16.8725082136011,
           14.47664835164835,
           15.43947626470209,
           11.84185996970938,
           13.82448252994135,
           12.97714655907368,
           13.11712460328349,
           12.23051061752371,
           12.20703306184551,
           15.75102725395789,
           14.06335352803325,
           14.86326802431882,
           12.41615489289001,
           12.56853300660521,
           14.26218398586734,
           14.60193956159922,
           14.10919137844485,
           21.57167113515498
          ],
          [
           3.837352335164836,
           3.408794642857143,
           10.39764987171947,
           3.031865719975465,
           4.682267618703317,
           3.873031825809688,
           7.114362002970848,
           3.857489697802198,
           4.852525637700007,
           0.7332209687796954,
           3.322715988132619,
           1.711031236718715,
           1.750671982862635,
           1.17981778623709,
           0.7968443350676017,
           5.389072255773858,
           2.052818162100656,
           2.628792940915286,
           1.689531897450541,
           2.159871751135523,
           2.584002767290388,
           2.196130959708247,
           1.996602047685309,
           -0.2724211578512338
          ],
          [
           38.51,
           33.66,
           33.6482685059309,
           28.70193645358086,
           31.69841235503554,
           29.1275049559772,
           27.52555226907134,
           35.88,
           39.44807108491659,
           28.14257517457008,
           26.84018583968282,
           32.36029017716646,
           23.21718949824572,
           34.10415016114712,
           26.94461848586798,
           29.62118815630674,
           24.04988463968039,
           28.76722728833556,
           37.03885059803724,
           30.14314770698547,
           25.52112238481641,
           28.51991169154644,
           34.07058566808701,
           30.54689979180694
          ],
          [
           717.4399999999998,
           566.2900000000001,
           504.602554472649,
           402.7227303615405,
           479.6733449354264,
           482.2420194866453,
           527.2534068079494,
           457.27,
           577.9731476486631,
           345.7258680416089,
           358.0992335533665,
           375.7769305715556,
           365.5132725839962,
           331.0945888148581,
           304.2414740065851,
           459.7187491712248,
           450.6862473717092,
           421.4355461910927,
           433.274490425174,
           362.7492759033885,
           336.4616259376817,
           346.871201338945,
           442.5884844395966,
           373.4081166961346
          ],
          [
           1.4,
           1,
           2.9,
           4.4,
           3.9,
           1.9,
           0,
           4.4,
           2.9,
           16.2,
           3.8,
           7.7,
           4.3,
           10.9,
           11.2,
           2.7,
           3,
           2.5,
           3.9,
           5.6,
           9.2,
           4,
           1.9,
           1.2
          ],
          [
           7.9,
           4.1,
           2.7,
           6.3,
           5.7,
           5.8,
           1.1,
           10.5,
           4.8,
           19.4,
           12.9,
           15.3,
           9.4,
           13.5,
           15.1,
           5.9,
           5.2,
           4.2,
           9.9,
           10.5,
           12.8,
           8.5,
           6.4,
           0.7
          ],
          [
           111.7,
           112.3,
           100.8,
           115.1,
           115.9,
           109.7,
           155.9,
           121.4,
           117.4,
           90,
           108.6,
           92.9,
           95.5,
           81.5,
           84.3,
           136.5,
           97.3,
           102.4,
           79.3,
           99,
           105.4,
           101.8,
           95,
           92.1
          ],
          [
           100.4,
           110,
           95.3,
           107.5,
           106.5,
           95.8,
           141.1,
           106.6,
           108.9,
           76.2,
           99.9,
           85.1,
           83.1,
           73.2,
           73.7,
           132.3,
           94.5,
           98.5,
           70.2,
           85.8,
           99,
           99,
           93.8,
           89
          ],
          [
           3.9,
           4.4,
           4.7,
           5.1,
           4.9,
           4.2,
           3.5,
           4.9,
           4.4,
           3.2,
           4.9,
           4,
           3.2,
           4.1,
           3.7,
           2.8,
           3.4,
           4.4,
           3.3,
           3,
           4.5,
           4.1,
           4.2,
           5
          ],
          [
           0,
           0,
           0,
           0.1,
           0.1,
           0,
           0,
           0.1,
           0,
           0.7,
           0.1,
           0.2,
           0,
           0.5,
           0.4,
           0,
           0.1,
           0,
           0,
           0,
           0.1,
           0.1,
           0,
           0
          ],
          [
           21.25,
           20.84629629629629,
           15.39047619047619,
           16.83756613756614,
           16.58015873015873,
           17.22222222222222,
           36.56111111111111,
           18.11111111111111,
           21.11455026455026,
           12.30555555555556,
           16.3537037037037,
           13.08095238095238,
           14.06851851851852,
           13.33888888888889,
           13.49259259259259,
           42.88888888888889,
           17.15925925925926,
           14.87777777777778,
           15.61481481481481,
           23.01481481481481,
           15.57777777777778,
           18.91111111111111,
           15.66759259259259,
           10.56653439153439
          ],
          [
           135.2,
           140.1,
           81.3,
           134.8,
           115.7,
           130.4,
           95.1,
           129.1,
           120.8,
           150.2,
           139.4,
           149.7,
           149.1,
           149.6,
           153.2,
           117.1,
           146.2,
           127.3,
           147.5,
           147.4,
           142,
           145.9,
           145.7,
           163.4
          ],
          [
           61.4,
           60.6,
           50.3,
           58.4,
           56.6,
           51.6,
           86.1,
           58.5,
           66.3,
           26.6,
           63.4,
           40.2,
           31.1,
           27.5,
           29.4,
           88.5,
           44.6,
           50.3,
           35.1,
           41.5,
           63.5,
           58.8,
           50.5,
           123.6
          ],
          [
           2.7,
           1.9,
           72.6,
           1.2,
           4.7,
           4.5,
           3.3,
           6,
           10.4,
           0.2,
           2.8,
           0.1,
           1.1,
           0,
           0,
           9.5,
           0,
           0,
           0,
           0.1,
           1,
           0.3,
           0.8,
           2
          ],
          [
           426.212,
           318.134,
           308.4204336730943,
           310.7371295471575,
           334.6654725480658,
           336.6630880877684,
           388.8347402105285,
           356.571,
           364.9564183030634,
           254.1000252752792,
           273.600860817196,
           272.6635601778707,
           266.8344603185406,
           259.3597603177886,
           242.6010877051249,
           278.3378685896423,
           290.7919743936554,
           252.3444810552277,
           300.528450917609,
           283.1993277676702,
           251.0812377562547,
           258.8369834991363,
           309.5716559283085,
           274.6857972677276
          ],
          [
           9.7,
           7.5,
           6.7,
           6.8,
           6.7,
           7.3,
           7.9,
           8.4,
           9.1,
           2.4,
           6.9,
           5.6,
           5.1,
           4.4,
           3.5,
           5.1,
           5.9,
           4.6,
           6.8,
           4.1,
           3.9,
           4.6,
           6.9,
           6.4
          ],
          [
           2.7,
           0.9,
           2.4,
           1.9,
           1.7,
           1.1,
           2.1,
           1.5,
           2,
           0.4,
           1.1,
           0.9,
           0.7,
           0.4,
           0.3,
           0.4,
           0.9,
           1,
           1,
           0.2,
           0.5,
           0.4,
           1.7,
           1.6
          ],
          [
           75,
           57.4,
           50.3,
           56.4,
           60.3,
           66.4,
           74.1,
           62.9,
           65.5,
           59.7,
           50.7,
           54.1,
           55.8,
           57.5,
           59.5,
           67.6,
           55.2,
           52.5,
           57.5,
           62.4,
           54.5,
           54.7,
           55.7,
           49
          ],
          [
           253.2,
           271.2,
           278.1,
           272,
           268.3,
           262.2,
           254.3,
           265.5,
           263.1,
           268.7,
           277.7,
           274.3,
           272.6,
           270.9,
           268.9,
           261,
           273.4,
           276.1,
           271.1,
           266.2,
           274.1,
           273.7,
           272.7,
           279.4
          ],
          [
           5.634340701159435,
           5.462608603381925,
           6.130591082762691,
           5.498635821806939,
           5.556382537460604,
           5.083627293784385,
           5.250967055909498,
           5.733640700484219,
           5.49857865556894,
           4.268909230436653,
           5.395932847271962,
           5.041018431302509,
           4.763853859466677,
           4.55020124442886,
           4.10992344973408,
           4.101155653515678,
           5.261910436132672,
           4.789385904187888,
           5.258157798157268,
           4.542569310027222,
           4.609269220483311,
           4.759321651648587,
           5.557943858421657,
           5.701333746234689
          ],
          [
           24.3,
           20.3,
           25,
           23.5,
           20.6,
           20.5,
           26.9,
           22.2,
           23.1,
           19.5,
           16.7,
           20.2,
           15.9,
           15.5,
           18.1,
           19.5,
           20.2,
           15.8,
           26.4,
           18.2,
           15.7,
           17.7,
           19.4,
           17.7
          ],
          [
           24.3,
           20.3,
           25,
           23.5,
           20.6,
           20.5,
           26.9,
           22.2,
           23.1,
           19.5,
           16.7,
           20.2,
           15.9,
           15.5,
           18.1,
           19.5,
           20.2,
           15.8,
           26.4,
           18.2,
           15.7,
           17.7,
           19.4,
           17.7
          ],
          [
           133.4,
           124.5,
           115.1,
           119.3,
           128.7,
           129.3,
           117.9,
           118.3,
           123.9,
           123.7,
           110.5,
           115.8,
           117,
           108.4,
           111.1,
           126.2,
           131.6,
           128.9,
           134,
           122.4,
           129.5,
           117.5,
           114,
           123.9
          ],
          [
           9.2,
           8.8,
           4.3,
           6.5,
           6.5,
           7.8,
           7.9,
           5.7,
           6.4,
           6,
           4.7,
           6.3,
           6.8,
           6.8,
           6.5,
           7.2,
           4.8,
           5.4,
           7,
           8.7,
           5.2,
           6.3,
           5.1,
           4.5
          ],
          [
           5.379357448107449,
           4.668550442612942,
           5.402761835823175,
           6.400467564803943,
           6.065466420845526,
           5.242188166058253,
           7.829267004885698,
           5.532048229548229,
           6.268608462388407,
           2.818938850882953,
           4.726231385561755,
           4.227149389994482,
           3.664310746248796,
           3.341170716233659,
           3.14188217861819,
           6.695599571106927,
           4.427982813563831,
           4.714095786377623,
           3.605736398289346,
           4.185116790007614,
           4.132364567091758,
           4.786632960641677,
           4.486736173278858,
           5.892297638524122
          ],
          [
           10.66930352798054,
           10.90523418491484,
           3.665542797569233,
           11.93699510403689,
           10.11782662421827,
           10.61953354809986,
           9.752029706846994,
           10.56256386861314,
           10.52846350751074,
           11.08604168790328,
           10.53099975307323,
           11.20325740226797,
           11.33038589189637,
           11.06693158233884,
           11.36565669890373,
           10.3742055544888,
           12.02187071287429,
           12.20770623794147,
           10.74354524450001,
           10.4510181872514,
           11.63375505507717,
           12.36602655040442,
           12.05739394760828,
           21.85608022995135
          ],
          [
           -0.3575156501016572,
           -0.2664918424824183,
           0.0006959129923354013,
           0.7856540965699921,
           -0.914543860016261,
           -0.7729329076471423,
           -0.8741855293818155,
           -0.6440114738526148,
           -0.3988245709018781,
           -0.09168546761482865,
           -0.3983997540143438,
           -0.1077847643248155,
           0.09365228381783552,
           -0.3423618308233909,
           -0.02590440354511969,
           -0.5649867622719533,
           0.6711796360469133,
           0.6431105707686875,
           -0.5355414563574961,
           -0.717085956283217,
           0.3213346683316693,
           0.8719629513365934,
           0.6341450919170768,
           0.002731719644167185
          ],
          [
           1.296265206812652,
           0.9675608272506083,
           0.938589268633884,
           0.9456394691027312,
           1.017839028430857,
           1.023914501483481,
           1.183307182624858,
           1.084461678832117,
           1.109964775860898,
           0.773280661215092,
           0.8326258698027876,
           0.8297734637184138,
           0.8120342675549015,
           0.789287158605565,
           0.7382869376297166,
           0.8465263643237296,
           0.8844038150658621,
           0.7674710494380405,
           0.9140159699440663,
           0.861311824110919,
           0.763629068601748,
           0.7876962370637136,
           0.9420926838962522,
           0.8359275632006318
          ],
          [
           21.04736956521739,
           20.41681521739131,
           23.61182207853898,
           19.76612522291101,
           20.08601843792459,
           19.61079887721849,
           21.65826777582583,
           20.67303260869566,
           21.50838178551715,
           17.67588006724482,
           20.68218635890795,
           18.42355406387992,
           17.91082654206649,
           17.11951728489088,
           17.22821353414785,
           22.32536140110182,
           18.70786285400391,
           18.99244258714759,
           18.18537328968878,
           18.92959243110989,
           20.40849324101987,
           19.78270923780358,
           19.33117135089377,
           21.78312931890073
          ],
          [
           -3.371232234432235,
           -3.248565201465202,
           -0.3076783243815104,
           -3.09015872531467,
           -1.659756129710811,
           -1.635276611477173,
           0.1871355862087674,
           -3.878911965811965,
           -2.398053968939589,
           -6.362471889919705,
           -3.70352786593967,
           -4.803825700547959,
           -3.840314229329427,
           -4.585330505371094,
           -5.424418674045138,
           -2.411576004866716,
           -3.373950678228022,
           -3.307604133503486,
           -4.515307037390778,
           -4.340171794961224,
           -4.378104747543987,
           -3.555591057671441,
           -3.407089606391059,
           -0.7233497789171007
          ],
          [
           259.021,
           173.466,
           152.6001229807758,
           167.8901432693942,
           184.4452250270584,
           189.7660134592371,
           190.1257361294381,
           191.926,
           167.254729129545,
           142.6795552857152,
           122.2078886356576,
           154.2029339484088,
           163.2228984429369,
           137.9469341422055,
           134.492043872101,
           135.0730238196593,
           133.7417843234516,
           132.5106436825477,
           156.7724911522782,
           140.5194557503182,
           151.8291673701128,
           143.1938553552345,
           180.3208473417675,
           154.7783129740418
          ],
          [
           0,
           0,
           0,
           0,
           0,
           0,
           0.07656604419025823,
           0,
           0,
           0,
           0,
           0,
           0,
           0,
           0,
           0,
           0,
           0,
           0,
           0,
           0,
           0,
           0,
           0
          ],
          [
           5.998804347826079,
           4.870467391304349,
           5.825368930982513,
           6.266275920038641,
           6.303604822573453,
           5.162455484141471,
           6.525281591000764,
           6.415706521739136,
           6.623072416886036,
           3.069326085629672,
           5.625192691968836,
           4.101825913139008,
           3.307616955301038,
           3.090140069049342,
           3.234938248344095,
           7.700651716149375,
           4.159293664020041,
           4.277902619735052,
           3.710965363875683,
           4.272433338994567,
           4.890210856562073,
           5.197253252112349,
           4.641782744034474,
           6.512909366773524
          ],
          [
           4.840628937728937,
           4.612811477411476,
           5.115255923800999,
           6.32617948744032,
           6.443727975363259,
           6.666707861112006,
           8.092457156711154,
           4.618062881562881,
           5.707732416136652,
           2.599942813449434,
           4.422095303005642,
           4.054196387396919,
           4.375375993516709,
           3.736668582492404,
           3.113297170003256,
           6.498387862730668,
           4.550611492338634,
           5.348722407302576,
           3.736653290353853,
           4.28224097171546,
           3.799005934234359,
           4.794950934516059,
           4.886910892062717,
           7.074135080973305
          ],
          [
           67.25600000000003,
           29.65000000000001,
           0.141343387380175,
           -0.04022382185667084,
           -5.834150534725495,
           30.23191524892965,
           -0.7965572126124698,
           37.63299999999998,
           -7.154095530913764,
           -6.094742857255824,
           -31.02204794501631,
           -0.1556952659393573,
           -6.709648068060403,
           -8.054103176964418,
           -21.6938975327912,
           -18.01120457674187,
           -2.104073163774274,
           -6.07599970737698,
           10.93931700339454,
           13.9353244589438,
           -2.010741033009253,
           -21.88289986308064,
           12.68900205922023,
           -6.391560045248639
          ],
          [
           0,
           0,
           0,
           0,
           0,
           0,
           0.02606277403174318,
           0,
           0,
           0,
           0,
           0,
           0,
           0,
           0,
           0,
           -0.04527977009274761,
           0,
           0,
           0,
           0,
           0,
           0,
           0
          ],
          [
           0.1,
           0.1,
           0,
           0.9,
           0,
           0,
           0.6,
           0,
           0.1,
           0,
           0,
           0,
           0,
           0,
           0,
           0.1,
           0,
           0.9,
           0,
           0,
           0,
           0.6,
           0.2,
           33.8
          ],
          [
           135.2,
           140.1,
           81.3,
           134.8,
           115.7,
           130.4,
           95.1,
           129.1,
           120.8,
           150.2,
           139.4,
           149.7,
           149.1,
           149.6,
           153.2,
           117.1,
           146.2,
           127.3,
           147.5,
           147.4,
           142,
           145.9,
           145.7,
           163.4
          ],
          [
           35.13,
           35.53,
           34.8382568359375,
           36.92550659179688,
           34.98849487304688,
           34.81195068359375,
           36.00851440429688,
           34.83,
           36.10888671875,
           32.91351318359375,
           34.47293090820312,
           32.77777099609375,
           33.57632446289062,
           33.48797607421875,
           34.0770263671875,
           35.114501953125,
           33.31900024414062,
           36.93093872070312,
           33.56729125976562,
           31.632080078125,
           34.9112548828125,
           36.29330444335938,
           37.0098876953125,
           43.8721923828125
          ],
          [
           -17.64,
           -18.74,
           -16.775390625,
           -19.69633483886719,
           -25.68934631347656,
           -17.72209167480469,
           -15.27252197265625,
           -20.27,
           -19.22434997558594,
           -23.45455932617188,
           -19.31027221679688,
           -25.96151733398438,
           -20.55915832519531,
           -26.59791564941406,
           -25.86605834960938,
           -17.85134887695312,
           -18.72489929199219,
           -20.69194030761719,
           -20.88737487792969,
           -21.46763610839844,
           -23.73533630371094,
           -18.44804382324219,
           -18.07917785644531,
           -26.70082092285156
          ],
          [
           21.65,
           21.32,
           5.399078369140625,
           23.0562744140625,
           23.06671142578125,
           24.394287109375,
           17.19564819335938,
           21.51,
           21.06710815429688,
           22.92327880859375,
           19.8074951171875,
           22.71762084960938,
           22.39715576171875,
           20.50296020507812,
           20.21896362304688,
           19.17904663085938,
           20.9989013671875,
           22.73236083984375,
           23.75567626953125,
           20.3187255859375,
           23.2720947265625,
           23.14569091796875,
           23.09478759765625,
           25.07025146484375
          ]
         ]
        }
       ],
       "layout": {
        "coloraxis": {
         "colorscale": [
          [
           0,
           "rgb(5,48,97)"
          ],
          [
           0.1,
           "rgb(33,102,172)"
          ],
          [
           0.2,
           "rgb(67,147,195)"
          ],
          [
           0.3,
           "rgb(146,197,222)"
          ],
          [
           0.4,
           "rgb(209,229,240)"
          ],
          [
           0.5,
           "rgb(247,247,247)"
          ],
          [
           0.6,
           "rgb(253,219,199)"
          ],
          [
           0.7,
           "rgb(244,165,130)"
          ],
          [
           0.8,
           "rgb(214,96,77)"
          ],
          [
           0.9,
           "rgb(178,24,43)"
          ],
          [
           1,
           "rgb(103,0,31)"
          ]
         ]
        },
        "height": 1000,
        "margin": {
         "t": 60
        },
        "template": {
         "data": {
          "bar": [
           {
            "error_x": {
             "color": "#2a3f5f"
            },
            "error_y": {
             "color": "#2a3f5f"
            },
            "marker": {
             "line": {
              "color": "#E5ECF6",
              "width": 0.5
             },
             "pattern": {
              "fillmode": "overlay",
              "size": 10,
              "solidity": 0.2
             }
            },
            "type": "bar"
           }
          ],
          "barpolar": [
           {
            "marker": {
             "line": {
              "color": "#E5ECF6",
              "width": 0.5
             },
             "pattern": {
              "fillmode": "overlay",
              "size": 10,
              "solidity": 0.2
             }
            },
            "type": "barpolar"
           }
          ],
          "carpet": [
           {
            "aaxis": {
             "endlinecolor": "#2a3f5f",
             "gridcolor": "white",
             "linecolor": "white",
             "minorgridcolor": "white",
             "startlinecolor": "#2a3f5f"
            },
            "baxis": {
             "endlinecolor": "#2a3f5f",
             "gridcolor": "white",
             "linecolor": "white",
             "minorgridcolor": "white",
             "startlinecolor": "#2a3f5f"
            },
            "type": "carpet"
           }
          ],
          "choropleth": [
           {
            "colorbar": {
             "outlinewidth": 0,
             "ticks": ""
            },
            "type": "choropleth"
           }
          ],
          "contour": [
           {
            "colorbar": {
             "outlinewidth": 0,
             "ticks": ""
            },
            "colorscale": [
             [
              0,
              "#0d0887"
             ],
             [
              0.1111111111111111,
              "#46039f"
             ],
             [
              0.2222222222222222,
              "#7201a8"
             ],
             [
              0.3333333333333333,
              "#9c179e"
             ],
             [
              0.4444444444444444,
              "#bd3786"
             ],
             [
              0.5555555555555556,
              "#d8576b"
             ],
             [
              0.6666666666666666,
              "#ed7953"
             ],
             [
              0.7777777777777778,
              "#fb9f3a"
             ],
             [
              0.8888888888888888,
              "#fdca26"
             ],
             [
              1,
              "#f0f921"
             ]
            ],
            "type": "contour"
           }
          ],
          "contourcarpet": [
           {
            "colorbar": {
             "outlinewidth": 0,
             "ticks": ""
            },
            "type": "contourcarpet"
           }
          ],
          "heatmap": [
           {
            "colorbar": {
             "outlinewidth": 0,
             "ticks": ""
            },
            "colorscale": [
             [
              0,
              "#0d0887"
             ],
             [
              0.1111111111111111,
              "#46039f"
             ],
             [
              0.2222222222222222,
              "#7201a8"
             ],
             [
              0.3333333333333333,
              "#9c179e"
             ],
             [
              0.4444444444444444,
              "#bd3786"
             ],
             [
              0.5555555555555556,
              "#d8576b"
             ],
             [
              0.6666666666666666,
              "#ed7953"
             ],
             [
              0.7777777777777778,
              "#fb9f3a"
             ],
             [
              0.8888888888888888,
              "#fdca26"
             ],
             [
              1,
              "#f0f921"
             ]
            ],
            "type": "heatmap"
           }
          ],
          "heatmapgl": [
           {
            "colorbar": {
             "outlinewidth": 0,
             "ticks": ""
            },
            "colorscale": [
             [
              0,
              "#0d0887"
             ],
             [
              0.1111111111111111,
              "#46039f"
             ],
             [
              0.2222222222222222,
              "#7201a8"
             ],
             [
              0.3333333333333333,
              "#9c179e"
             ],
             [
              0.4444444444444444,
              "#bd3786"
             ],
             [
              0.5555555555555556,
              "#d8576b"
             ],
             [
              0.6666666666666666,
              "#ed7953"
             ],
             [
              0.7777777777777778,
              "#fb9f3a"
             ],
             [
              0.8888888888888888,
              "#fdca26"
             ],
             [
              1,
              "#f0f921"
             ]
            ],
            "type": "heatmapgl"
           }
          ],
          "histogram": [
           {
            "marker": {
             "pattern": {
              "fillmode": "overlay",
              "size": 10,
              "solidity": 0.2
             }
            },
            "type": "histogram"
           }
          ],
          "histogram2d": [
           {
            "colorbar": {
             "outlinewidth": 0,
             "ticks": ""
            },
            "colorscale": [
             [
              0,
              "#0d0887"
             ],
             [
              0.1111111111111111,
              "#46039f"
             ],
             [
              0.2222222222222222,
              "#7201a8"
             ],
             [
              0.3333333333333333,
              "#9c179e"
             ],
             [
              0.4444444444444444,
              "#bd3786"
             ],
             [
              0.5555555555555556,
              "#d8576b"
             ],
             [
              0.6666666666666666,
              "#ed7953"
             ],
             [
              0.7777777777777778,
              "#fb9f3a"
             ],
             [
              0.8888888888888888,
              "#fdca26"
             ],
             [
              1,
              "#f0f921"
             ]
            ],
            "type": "histogram2d"
           }
          ],
          "histogram2dcontour": [
           {
            "colorbar": {
             "outlinewidth": 0,
             "ticks": ""
            },
            "colorscale": [
             [
              0,
              "#0d0887"
             ],
             [
              0.1111111111111111,
              "#46039f"
             ],
             [
              0.2222222222222222,
              "#7201a8"
             ],
             [
              0.3333333333333333,
              "#9c179e"
             ],
             [
              0.4444444444444444,
              "#bd3786"
             ],
             [
              0.5555555555555556,
              "#d8576b"
             ],
             [
              0.6666666666666666,
              "#ed7953"
             ],
             [
              0.7777777777777778,
              "#fb9f3a"
             ],
             [
              0.8888888888888888,
              "#fdca26"
             ],
             [
              1,
              "#f0f921"
             ]
            ],
            "type": "histogram2dcontour"
           }
          ],
          "mesh3d": [
           {
            "colorbar": {
             "outlinewidth": 0,
             "ticks": ""
            },
            "type": "mesh3d"
           }
          ],
          "parcoords": [
           {
            "line": {
             "colorbar": {
              "outlinewidth": 0,
              "ticks": ""
             }
            },
            "type": "parcoords"
           }
          ],
          "pie": [
           {
            "automargin": true,
            "type": "pie"
           }
          ],
          "scatter": [
           {
            "fillpattern": {
             "fillmode": "overlay",
             "size": 10,
             "solidity": 0.2
            },
            "type": "scatter"
           }
          ],
          "scatter3d": [
           {
            "line": {
             "colorbar": {
              "outlinewidth": 0,
              "ticks": ""
             }
            },
            "marker": {
             "colorbar": {
              "outlinewidth": 0,
              "ticks": ""
             }
            },
            "type": "scatter3d"
           }
          ],
          "scattercarpet": [
           {
            "marker": {
             "colorbar": {
              "outlinewidth": 0,
              "ticks": ""
             }
            },
            "type": "scattercarpet"
           }
          ],
          "scattergeo": [
           {
            "marker": {
             "colorbar": {
              "outlinewidth": 0,
              "ticks": ""
             }
            },
            "type": "scattergeo"
           }
          ],
          "scattergl": [
           {
            "marker": {
             "colorbar": {
              "outlinewidth": 0,
              "ticks": ""
             }
            },
            "type": "scattergl"
           }
          ],
          "scattermapbox": [
           {
            "marker": {
             "colorbar": {
              "outlinewidth": 0,
              "ticks": ""
             }
            },
            "type": "scattermapbox"
           }
          ],
          "scatterpolar": [
           {
            "marker": {
             "colorbar": {
              "outlinewidth": 0,
              "ticks": ""
             }
            },
            "type": "scatterpolar"
           }
          ],
          "scatterpolargl": [
           {
            "marker": {
             "colorbar": {
              "outlinewidth": 0,
              "ticks": ""
             }
            },
            "type": "scatterpolargl"
           }
          ],
          "scatterternary": [
           {
            "marker": {
             "colorbar": {
              "outlinewidth": 0,
              "ticks": ""
             }
            },
            "type": "scatterternary"
           }
          ],
          "surface": [
           {
            "colorbar": {
             "outlinewidth": 0,
             "ticks": ""
            },
            "colorscale": [
             [
              0,
              "#0d0887"
             ],
             [
              0.1111111111111111,
              "#46039f"
             ],
             [
              0.2222222222222222,
              "#7201a8"
             ],
             [
              0.3333333333333333,
              "#9c179e"
             ],
             [
              0.4444444444444444,
              "#bd3786"
             ],
             [
              0.5555555555555556,
              "#d8576b"
             ],
             [
              0.6666666666666666,
              "#ed7953"
             ],
             [
              0.7777777777777778,
              "#fb9f3a"
             ],
             [
              0.8888888888888888,
              "#fdca26"
             ],
             [
              1,
              "#f0f921"
             ]
            ],
            "type": "surface"
           }
          ],
          "table": [
           {
            "cells": {
             "fill": {
              "color": "#EBF0F8"
             },
             "line": {
              "color": "white"
             }
            },
            "header": {
             "fill": {
              "color": "#C8D4E3"
             },
             "line": {
              "color": "white"
             }
            },
            "type": "table"
           }
          ]
         },
         "layout": {
          "annotationdefaults": {
           "arrowcolor": "#2a3f5f",
           "arrowhead": 0,
           "arrowwidth": 1
          },
          "autotypenumbers": "strict",
          "coloraxis": {
           "colorbar": {
            "outlinewidth": 0,
            "ticks": ""
           }
          },
          "colorscale": {
           "diverging": [
            [
             0,
             "#8e0152"
            ],
            [
             0.1,
             "#c51b7d"
            ],
            [
             0.2,
             "#de77ae"
            ],
            [
             0.3,
             "#f1b6da"
            ],
            [
             0.4,
             "#fde0ef"
            ],
            [
             0.5,
             "#f7f7f7"
            ],
            [
             0.6,
             "#e6f5d0"
            ],
            [
             0.7,
             "#b8e186"
            ],
            [
             0.8,
             "#7fbc41"
            ],
            [
             0.9,
             "#4d9221"
            ],
            [
             1,
             "#276419"
            ]
           ],
           "sequential": [
            [
             0,
             "#0d0887"
            ],
            [
             0.1111111111111111,
             "#46039f"
            ],
            [
             0.2222222222222222,
             "#7201a8"
            ],
            [
             0.3333333333333333,
             "#9c179e"
            ],
            [
             0.4444444444444444,
             "#bd3786"
            ],
            [
             0.5555555555555556,
             "#d8576b"
            ],
            [
             0.6666666666666666,
             "#ed7953"
            ],
            [
             0.7777777777777778,
             "#fb9f3a"
            ],
            [
             0.8888888888888888,
             "#fdca26"
            ],
            [
             1,
             "#f0f921"
            ]
           ],
           "sequentialminus": [
            [
             0,
             "#0d0887"
            ],
            [
             0.1111111111111111,
             "#46039f"
            ],
            [
             0.2222222222222222,
             "#7201a8"
            ],
            [
             0.3333333333333333,
             "#9c179e"
            ],
            [
             0.4444444444444444,
             "#bd3786"
            ],
            [
             0.5555555555555556,
             "#d8576b"
            ],
            [
             0.6666666666666666,
             "#ed7953"
            ],
            [
             0.7777777777777778,
             "#fb9f3a"
            ],
            [
             0.8888888888888888,
             "#fdca26"
            ],
            [
             1,
             "#f0f921"
            ]
           ]
          },
          "colorway": [
           "#636efa",
           "#EF553B",
           "#00cc96",
           "#ab63fa",
           "#FFA15A",
           "#19d3f3",
           "#FF6692",
           "#B6E880",
           "#FF97FF",
           "#FECB52"
          ],
          "font": {
           "color": "#2a3f5f"
          },
          "geo": {
           "bgcolor": "white",
           "lakecolor": "white",
           "landcolor": "#E5ECF6",
           "showlakes": true,
           "showland": true,
           "subunitcolor": "white"
          },
          "hoverlabel": {
           "align": "left"
          },
          "hovermode": "closest",
          "mapbox": {
           "style": "light"
          },
          "paper_bgcolor": "white",
          "plot_bgcolor": "#E5ECF6",
          "polar": {
           "angularaxis": {
            "gridcolor": "white",
            "linecolor": "white",
            "ticks": ""
           },
           "bgcolor": "#E5ECF6",
           "radialaxis": {
            "gridcolor": "white",
            "linecolor": "white",
            "ticks": ""
           }
          },
          "scene": {
           "xaxis": {
            "backgroundcolor": "#E5ECF6",
            "gridcolor": "white",
            "gridwidth": 2,
            "linecolor": "white",
            "showbackground": true,
            "ticks": "",
            "zerolinecolor": "white"
           },
           "yaxis": {
            "backgroundcolor": "#E5ECF6",
            "gridcolor": "white",
            "gridwidth": 2,
            "linecolor": "white",
            "showbackground": true,
            "ticks": "",
            "zerolinecolor": "white"
           },
           "zaxis": {
            "backgroundcolor": "#E5ECF6",
            "gridcolor": "white",
            "gridwidth": 2,
            "linecolor": "white",
            "showbackground": true,
            "ticks": "",
            "zerolinecolor": "white"
           }
          },
          "shapedefaults": {
           "line": {
            "color": "#2a3f5f"
           }
          },
          "ternary": {
           "aaxis": {
            "gridcolor": "white",
            "linecolor": "white",
            "ticks": ""
           },
           "baxis": {
            "gridcolor": "white",
            "linecolor": "white",
            "ticks": ""
           },
           "bgcolor": "#E5ECF6",
           "caxis": {
            "gridcolor": "white",
            "linecolor": "white",
            "ticks": ""
           }
          },
          "title": {
           "x": 0.05
          },
          "xaxis": {
           "automargin": true,
           "gridcolor": "white",
           "linecolor": "white",
           "ticks": "",
           "title": {
            "standoff": 15
           },
           "zerolinecolor": "white",
           "zerolinewidth": 2
          },
          "yaxis": {
           "automargin": true,
           "gridcolor": "white",
           "linecolor": "white",
           "ticks": "",
           "title": {
            "standoff": 15
           },
           "zerolinecolor": "white",
           "zerolinewidth": 2
          }
         }
        },
        "width": 1000,
        "xaxis": {
         "anchor": "y",
         "constrain": "domain",
         "domain": [
          0,
          1
         ],
         "scaleanchor": "y"
        },
        "yaxis": {
         "anchor": "x",
         "autorange": "reversed",
         "constrain": "domain",
         "domain": [
          0,
          1
         ]
        }
       }
      }
     },
     "metadata": {},
     "output_type": "display_data"
    }
   ],
   "source": [
    "fig = px.imshow(df_245_intensity.transpose(), color_continuous_scale='RdBu_r')\n",
    "fig.update_layout(height = 1000, width = 1000)\n",
    "fig.write_image('output_plots_combined/Model_intensity_245.png')\n",
    "fig.show()\n",
    "\n",
    "fig = px.imshow(df_585_intensity.transpose(),color_continuous_scale='RdBu_r')\n",
    "fig.update_layout(height = 1000, width = 1000)\n",
    "fig.write_image('output_plots_combined/Model_intensity_585.png')\n",
    "fig.show()"
   ]
  },
  {
   "cell_type": "code",
   "execution_count": null,
   "metadata": {},
   "outputs": [],
   "source": []
  },
  {
   "cell_type": "code",
   "execution_count": null,
   "metadata": {},
   "outputs": [],
   "source": []
  }
 ],
 "metadata": {
  "kernelspec": {
   "display_name": "Python 3.9.13 ('base')",
   "language": "python",
   "name": "python3"
  },
  "language_info": {
   "codemirror_mode": {
    "name": "ipython",
    "version": 3
   },
   "file_extension": ".py",
   "mimetype": "text/x-python",
   "name": "python",
   "nbconvert_exporter": "python",
   "pygments_lexer": "ipython3",
   "version": "3.9.15"
  },
  "orig_nbformat": 4,
  "vscode": {
   "interpreter": {
    "hash": "c6e4e9f98eb68ad3b7c296f83d20e6de614cb42e90992a65aa266555a3137d0d"
   }
  }
 },
 "nbformat": 4,
 "nbformat_minor": 2
}
